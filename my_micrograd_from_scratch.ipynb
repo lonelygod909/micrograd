{
 "cells": [
  {
   "cell_type": "code",
   "id": "initial_id",
   "metadata": {
    "collapsed": true,
    "ExecuteTime": {
     "end_time": "2025-02-02T15:03:53.964758Z",
     "start_time": "2025-02-02T15:03:53.958354Z"
    }
   },
   "source": [
    "import matplotlib.pyplot as plt\n",
    "import numpy as np\n",
    "import math\n",
    "\n",
    "\n",
    "def f(x):\n",
    "    return 3*x**2 - 4*x + 5"
   ],
   "outputs": [],
   "execution_count": 163
  },
  {
   "metadata": {
    "ExecuteTime": {
     "end_time": "2025-02-02T15:03:54.004023Z",
     "start_time": "2025-02-02T15:03:53.964758Z"
    }
   },
   "cell_type": "code",
   "source": "f(3.0)",
   "id": "1e8f91b4a1bc0d39",
   "outputs": [
    {
     "data": {
      "text/plain": [
       "20.0"
      ]
     },
     "execution_count": 164,
     "metadata": {},
     "output_type": "execute_result"
    }
   ],
   "execution_count": 164
  },
  {
   "metadata": {
    "ExecuteTime": {
     "end_time": "2025-02-02T15:03:54.051599Z",
     "start_time": "2025-02-02T15:03:54.010417Z"
    }
   },
   "cell_type": "code",
   "source": [
    "x5 = np.arange(-5, -5, 0.25)\n",
    "y5 = f(x5)\n",
    "plt.plot(x5, y5)"
   ],
   "id": "8c1a640711b270c9",
   "outputs": [
    {
     "data": {
      "text/plain": [
       "[<matplotlib.lines.Line2D at 0x27649d575d0>]"
      ]
     },
     "execution_count": 165,
     "metadata": {},
     "output_type": "execute_result"
    },
    {
     "data": {
      "text/plain": [
       "<Figure size 640x480 with 1 Axes>"
      ],
      "image/png": "[encoded data removed]"
     },
     "metadata": {},
     "output_type": "display_data"
    }
   ],
   "execution_count": 165
  },
  {
   "metadata": {
    "ExecuteTime": {
     "end_time": "2025-02-02T15:03:54.073468Z",
     "start_time": "2025-02-02T15:03:54.057488Z"
    }
   },
   "cell_type": "code",
   "source": [
    "h = 0.00001\n",
    "x = 2 / 3\n",
    "( f(x + h) - f(x) )/ h"
   ],
   "id": "58de9c82fc4aff0a",
   "outputs": [
    {
     "data": {
      "text/plain": [
       "3.0000002482211127e-05"
      ]
     },
     "execution_count": 166,
     "metadata": {},
     "output_type": "execute_result"
    }
   ],
   "execution_count": 166
  },
  {
   "metadata": {
    "ExecuteTime": {
     "end_time": "2025-02-02T15:03:54.090992Z",
     "start_time": "2025-02-02T15:03:54.086049Z"
    }
   },
   "cell_type": "code",
   "source": [
    "a = 2.0\n",
    "b = -3.0\n",
    "c = 10.0\n",
    "d = a*b + c\n",
    "print(d)"
   ],
   "id": "70e811bbe7f76031",
   "outputs": [
    {
     "name": "stdout",
     "output_type": "stream",
     "text": [
      "4.0\n"
     ]
    }
   ],
   "execution_count": 167
  },
  {
   "metadata": {
    "ExecuteTime": {
     "end_time": "2025-02-02T15:03:54.112493Z",
     "start_time": "2025-02-02T15:03:54.108316Z"
    }
   },
   "cell_type": "code",
   "source": [
    "d1 = a*b + c\n",
    "b += h\n",
    "d2 = a*b + c\n",
    "\n",
    "print('d1:', d1)\n",
    "print('d2:', d2)\n",
    "print('slope:', (d2 - d1) / h)"
   ],
   "id": "3dbcfbc72460d170",
   "outputs": [
    {
     "name": "stdout",
     "output_type": "stream",
     "text": [
      "d1: 4.0\n",
      "d2: 4.00002\n",
      "slope: 2.0000000000131024\n"
     ]
    }
   ],
   "execution_count": 168
  },
  {
   "metadata": {
    "ExecuteTime": {
     "end_time": "2025-02-02T15:03:54.136625Z",
     "start_time": "2025-02-02T15:03:54.117999Z"
    }
   },
   "cell_type": "code",
   "source": [
    "class Value:\n",
    "\n",
    "    def __init__(self, data, _children=(), _op='', label=''):\n",
    "        self.data = data\n",
    "        self.grad = 0\n",
    "        self._backward = lambda: None\n",
    "        self._prev = set(_children)\n",
    "        self._op = _op\n",
    "        self.label = label\n",
    "\n",
    "    def __repr__(self):\n",
    "        return f\"Value(data={self.data})\"\n",
    "\n",
    "    def __add__(self, other):\n",
    "        other = other if isinstance(other, Value) else Value(other)\n",
    "        out = Value(self.data + other.data, (self, other), '+')\n",
    "        def _backward():\n",
    "            self.grad += 1 * out.grad\n",
    "            other.grad += 1 * out.grad\n",
    "        out._backward = _backward\n",
    "        return out\n",
    "\n",
    "    def __radd__(self, other):\n",
    "        return self.__add__(other)\n",
    "\n",
    "    def __mul__(self, other):\n",
    "        other = other if isinstance(other, Value) else Value(other)\n",
    "        out = Value(self.data * other.data, (self, other), '*')\n",
    "        def _backward():\n",
    "            self.grad += other.data * out.grad\n",
    "            other.grad += self.data * out.grad\n",
    "        out._backward = _backward\n",
    "        return out\n",
    "\n",
    "    def __rmul__(self, other):\n",
    "        return self.__mul__(other)\n",
    "\n",
    "    def __pow__(self, other):\n",
    "        other = other if isinstance(other, Value) else Value(other)\n",
    "        out = Value(self.data ** other.data, (self, ), f\"**{other.data}\")\n",
    "        def _backward():\n",
    "            self.grad += other.data * self.data ** (other.data - 1) * out.grad\n",
    "\n",
    "        out._backward = _backward\n",
    "        return out\n",
    "\n",
    "    def __truediv__(self, other):\n",
    "        return self * (other**-1)\n",
    "\n",
    "    def __neg__(self):\n",
    "        return self * -1\n",
    "\n",
    "    def __sub__(self, other):\n",
    "        return self + (-other)\n",
    "\n",
    "    def __rsub__(self, other):\n",
    "        return other + (-self)\n",
    "\n",
    "    def tanh(self):\n",
    "        n = self.data\n",
    "        t = (math.exp(n) - math.exp(-n)) / (math.exp(n) + math.exp(-n))\n",
    "        out = Value(t, (self,), 'tanh')\n",
    "        def _backward():\n",
    "            self.grad += (1 - t**2) * out.grad\n",
    "        out._backward = _backward\n",
    "        return out\n",
    "\n",
    "    def exp(self):\n",
    "        out = Value(math.exp(self.data), (self,), 'exp')\n",
    "        def _backward():\n",
    "            self.grad += out.data * out.grad\n",
    "        out._backward = _backward\n",
    "        return out\n",
    "\n",
    "    def backward(self):\n",
    "        self.grad = 1.0\n",
    "        topo =[]\n",
    "        visited = set()\n",
    "        def build_topo(v):\n",
    "            if v not in visited:\n",
    "                visited.add(v)\n",
    "                for child in v._prev:\n",
    "                    build_topo(child)\n",
    "                topo.append(v)\n",
    "        build_topo(self) # build topological order\n",
    "\n",
    "        for node in reversed(topo):\n",
    "            node._backward()"
   ],
   "id": "8b986f38f79f52f",
   "outputs": [],
   "execution_count": 169
  },
  {
   "metadata": {
    "ExecuteTime": {
     "end_time": "2025-02-02T15:03:54.152508Z",
     "start_time": "2025-02-02T15:03:54.141763Z"
    }
   },
   "cell_type": "code",
   "source": [
    "a = Value(2.0)\n",
    "b = Value(-3.0)\n",
    "a / b"
   ],
   "id": "23429827369acce6",
   "outputs": [
    {
     "data": {
      "text/plain": [
       "Value(data=-0.6666666666666666)"
      ]
     },
     "execution_count": 170,
     "metadata": {},
     "output_type": "execute_result"
    }
   ],
   "execution_count": 170
  },
  {
   "metadata": {
    "ExecuteTime": {
     "end_time": "2025-02-02T15:03:54.181880Z",
     "start_time": "2025-02-02T15:03:54.176903Z"
    }
   },
   "cell_type": "code",
   "source": [
    "from graphviz import Digraph\n",
    "\n",
    "def trace(root):\n",
    "    nodes, edges = set(), set()\n",
    "    def build(v):\n",
    "        if v not in nodes:\n",
    "            nodes.add(v)\n",
    "            for child in v._prev:\n",
    "                edges.add((child, v))\n",
    "                build(child)\n",
    "    build(root)\n",
    "    return nodes, edges\n",
    "\n",
    "def draw_dot(root):\n",
    "    dot = Digraph(format='svg', graph_attr={'rankdir': 'LR'})\n",
    "    nodes, edges = trace(root)\n",
    "    for n in nodes:\n",
    "        uid = str(id(n))\n",
    "        dot.node(name=uid, label=\"{ %s | data %.4f | grad %.4f}\" % (n.label, n.data, n.grad), shape='record')\n",
    "        if n._op:\n",
    "            dot.node (name=uid + n._op, label=n._op)\n",
    "            dot.edge(uid + n._op, uid)\n",
    "    for n1, n2 in edges:\n",
    "        dot.edge(str(id(n1)), str(id(n2)) + n2._op)\n",
    "\n",
    "    return dot"
   ],
   "id": "c6ab3f9d32af2609",
   "outputs": [],
   "execution_count": 171
  },
  {
   "metadata": {
    "ExecuteTime": {
     "end_time": "2025-02-02T15:03:54.190753Z",
     "start_time": "2025-02-02T15:03:54.181880Z"
    }
   },
   "cell_type": "code",
   "source": [
    "def lol():\n",
    "\n",
    "    h = 0.0001\n",
    "\n",
    "    a = Value(2.0, label='a')\n",
    "    b = Value(-3.0, label='b')\n",
    "    c = Value(10.0, label='c')\n",
    "    e = a*b; e.label = 'e'\n",
    "    d = e + c; d.label = 'd'\n",
    "    f = Value(2.0, label='f')\n",
    "    L = d * f; L.label = 'L'\n",
    "    L1 = L\n",
    "\n",
    "    a = Value(2.0 + h, label='a')\n",
    "    b = Value(-3.0, label='b')\n",
    "    c = Value(10.0, label='c')\n",
    "    e = a*b; e.label = 'e'\n",
    "    d = e + c; d.label = 'd'\n",
    "    f = Value(2.0, label='f')\n",
    "    L = d * f; L.label = 'L'\n",
    "    L2 = L\n",
    "\n",
    "    print((L1.data - L2.data) / h)\n",
    "lol()"
   ],
   "id": "7af397e9212f9c62",
   "outputs": [
    {
     "name": "stdout",
     "output_type": "stream",
     "text": [
      "6.000000000021544\n"
     ]
    }
   ],
   "execution_count": 172
  },
  {
   "metadata": {
    "ExecuteTime": {
     "end_time": "2025-02-02T15:03:54.210735Z",
     "start_time": "2025-02-02T15:03:54.196766Z"
    }
   },
   "cell_type": "code",
   "source": [
    "a = Value(2.0 + h, label='a')\n",
    "b = Value(-3.0, label='b')\n",
    "c = Value(10.0, label='c')\n",
    "e = a*b; e.label = 'e'\n",
    "d = e + c; d.label = 'd'\n",
    "f = Value(2.0, label='f')\n",
    "L = d * f; L.label = 'L'"
   ],
   "id": "525e6b877d76d9a5",
   "outputs": [],
   "execution_count": 173
  },
  {
   "metadata": {
    "ExecuteTime": {
     "end_time": "2025-02-02T15:03:54.371864Z",
     "start_time": "2025-02-02T15:03:54.222862Z"
    }
   },
   "cell_type": "code",
   "source": "draw_dot(L)",
   "id": "1e2793970b6ba1c",
   "outputs": [
    {
     "data": {
      "image/svg+xml": "<?xml version=\"1.0\" encoding=\"UTF-8\" standalone=\"no\"?>\n<!DOCTYPE svg PUBLIC \"-//W3C//DTD SVG 1.1//EN\"\n \"http://www.w3.org/Graphics/SVG/1.1/DTD/svg11.dtd\">\n<!-- Generated by graphviz version 12.2.1 (20241206.2353)\n -->\n<!-- Pages: 1 -->\n<svg width=\"1133pt\" height=\"128pt\"\n viewBox=\"0.00 0.00 1133.00 128.00\" xmlns=\"http://www.w3.org/2000/svg\" xmlns:xlink=\"http://www.w3.org/1999/xlink\">\n<g id=\"graph0\" class=\"graph\" transform=\"scale(1 1) rotate(0) translate(4 124)\">\n<polygon fill=\"white\" stroke=\"none\" points=\"-4,4 -4,-124 1129,-124 1129,4 -4,4\"/>\n<!-- 2707071675920 -->\n<g id=\"node1\" class=\"node\">\n<title>2707071675920</title>\n<polygon fill=\"none\" stroke=\"black\" points=\"631.12,-82.5 631.12,-118.5 812.62,-118.5 812.62,-82.5 631.12,-82.5\"/>\n<text text-anchor=\"middle\" x=\"641.38\" y=\"-95.7\" font-family=\"Times New Roman,serif\" font-size=\"14.00\">f</text>\n<polyline fill=\"none\" stroke=\"black\" points=\"651.62,-83 651.62,-118.5\"/>\n<text text-anchor=\"middle\" x=\"691.5\" y=\"-95.7\" font-family=\"Times New Roman,serif\" font-size=\"14.00\">data 2.0000</text>\n<polyline fill=\"none\" stroke=\"black\" points=\"731.38,-83 731.38,-118.5\"/>\n<text text-anchor=\"middle\" x=\"772\" y=\"-95.7\" font-family=\"Times New Roman,serif\" font-size=\"14.00\">grad 0.0000</text>\n</g>\n<!-- 2707059910288* -->\n<g id=\"node3\" class=\"node\">\n<title>2707059910288*</title>\n<ellipse fill=\"none\" stroke=\"black\" cx=\"876.75\" cy=\"-72.5\" rx=\"27\" ry=\"18\"/>\n<text text-anchor=\"middle\" x=\"876.75\" y=\"-67.45\" font-family=\"Times New Roman,serif\" font-size=\"14.00\">*</text>\n</g>\n<!-- 2707071675920&#45;&gt;2707059910288* -->\n<g id=\"edge4\" class=\"edge\">\n<title>2707071675920&#45;&gt;2707059910288*</title>\n<path fill=\"none\" stroke=\"black\" d=\"M812.69,-84.05C821.94,-82.35 830.93,-80.71 839.08,-79.22\"/>\n<polygon fill=\"black\" stroke=\"black\" points=\"839.67,-82.67 848.87,-77.42 838.41,-75.78 839.67,-82.67\"/>\n</g>\n<!-- 2707059910288 -->\n<g id=\"node2\" class=\"node\">\n<title>2707059910288</title>\n<polygon fill=\"none\" stroke=\"black\" points=\"939.75,-54.5 939.75,-90.5 1125,-90.5 1125,-54.5 939.75,-54.5\"/>\n<text text-anchor=\"middle\" x=\"951.88\" y=\"-67.7\" font-family=\"Times New Roman,serif\" font-size=\"14.00\">L</text>\n<polyline fill=\"none\" stroke=\"black\" points=\"964,-55 964,-90.5\"/>\n<text text-anchor=\"middle\" x=\"1003.88\" y=\"-67.7\" font-family=\"Times New Roman,serif\" font-size=\"14.00\">data 7.9999</text>\n<polyline fill=\"none\" stroke=\"black\" points=\"1043.75,-55 1043.75,-90.5\"/>\n<text text-anchor=\"middle\" x=\"1084.38\" y=\"-67.7\" font-family=\"Times New Roman,serif\" font-size=\"14.00\">grad 0.0000</text>\n</g>\n<!-- 2707059910288*&#45;&gt;2707059910288 -->\n<g id=\"edge1\" class=\"edge\">\n<title>2707059910288*&#45;&gt;2707059910288</title>\n<path fill=\"none\" stroke=\"black\" d=\"M904.16,-72.5C911.2,-72.5 919.25,-72.5 927.8,-72.5\"/>\n<polygon fill=\"black\" stroke=\"black\" points=\"927.79,-76 937.79,-72.5 927.79,-69 927.79,-76\"/>\n</g>\n<!-- 2707067522256 -->\n<g id=\"node4\" class=\"node\">\n<title>2707067522256</title>\n<polygon fill=\"none\" stroke=\"black\" points=\"630,-27.5 630,-63.5 813.75,-63.5 813.75,-27.5 630,-27.5\"/>\n<text text-anchor=\"middle\" x=\"641.38\" y=\"-40.7\" font-family=\"Times New Roman,serif\" font-size=\"14.00\">d</text>\n<polyline fill=\"none\" stroke=\"black\" points=\"652.75,-28 652.75,-63.5\"/>\n<text text-anchor=\"middle\" x=\"692.62\" y=\"-40.7\" font-family=\"Times New Roman,serif\" font-size=\"14.00\">data 4.0000</text>\n<polyline fill=\"none\" stroke=\"black\" points=\"732.5,-28 732.5,-63.5\"/>\n<text text-anchor=\"middle\" x=\"773.12\" y=\"-40.7\" font-family=\"Times New Roman,serif\" font-size=\"14.00\">grad 0.0000</text>\n</g>\n<!-- 2707067522256&#45;&gt;2707059910288* -->\n<g id=\"edge7\" class=\"edge\">\n<title>2707067522256&#45;&gt;2707059910288*</title>\n<path fill=\"none\" stroke=\"black\" d=\"M814.01,-61.6C822.84,-63.16 831.4,-64.67 839.19,-66.04\"/>\n<polygon fill=\"black\" stroke=\"black\" points=\"838.42,-69.46 848.88,-67.75 839.64,-62.57 838.42,-69.46\"/>\n</g>\n<!-- 2707067522256+ -->\n<g id=\"node5\" class=\"node\">\n<title>2707067522256+</title>\n<ellipse fill=\"none\" stroke=\"black\" cx=\"567\" cy=\"-45.5\" rx=\"27\" ry=\"18\"/>\n<text text-anchor=\"middle\" x=\"567\" y=\"-40.45\" font-family=\"Times New Roman,serif\" font-size=\"14.00\">+</text>\n</g>\n<!-- 2707067522256+&#45;&gt;2707067522256 -->\n<g id=\"edge2\" class=\"edge\">\n<title>2707067522256+&#45;&gt;2707067522256</title>\n<path fill=\"none\" stroke=\"black\" d=\"M594.28,-45.5C601.42,-45.5 609.61,-45.5 618.32,-45.5\"/>\n<polygon fill=\"black\" stroke=\"black\" points=\"618.06,-49 628.06,-45.5 618.06,-42 618.06,-49\"/>\n</g>\n<!-- 2707045021968 -->\n<g id=\"node6\" class=\"node\">\n<title>2707045021968</title>\n<polygon fill=\"none\" stroke=\"black\" points=\"2.62,-83.5 2.62,-119.5 185.62,-119.5 185.62,-83.5 2.62,-83.5\"/>\n<text text-anchor=\"middle\" x=\"13.62\" y=\"-96.7\" font-family=\"Times New Roman,serif\" font-size=\"14.00\">a</text>\n<polyline fill=\"none\" stroke=\"black\" points=\"24.62,-84 24.62,-119.5\"/>\n<text text-anchor=\"middle\" x=\"64.5\" y=\"-96.7\" font-family=\"Times New Roman,serif\" font-size=\"14.00\">data 2.0000</text>\n<polyline fill=\"none\" stroke=\"black\" points=\"104.38,-84 104.38,-119.5\"/>\n<text text-anchor=\"middle\" x=\"145\" y=\"-96.7\" font-family=\"Times New Roman,serif\" font-size=\"14.00\">grad 0.0000</text>\n</g>\n<!-- 2707073258256* -->\n<g id=\"node8\" class=\"node\">\n<title>2707073258256*</title>\n<ellipse fill=\"none\" stroke=\"black\" cx=\"251.25\" cy=\"-73.5\" rx=\"27\" ry=\"18\"/>\n<text text-anchor=\"middle\" x=\"251.25\" y=\"-68.45\" font-family=\"Times New Roman,serif\" font-size=\"14.00\">*</text>\n</g>\n<!-- 2707045021968&#45;&gt;2707073258256* -->\n<g id=\"edge9\" class=\"edge\">\n<title>2707045021968&#45;&gt;2707073258256*</title>\n<path fill=\"none\" stroke=\"black\" d=\"M185.81,-85.13C195.66,-83.35 205.21,-81.63 213.82,-80.08\"/>\n<polygon fill=\"black\" stroke=\"black\" points=\"214.19,-83.57 223.41,-78.34 212.95,-76.68 214.19,-83.57\"/>\n</g>\n<!-- 2707073258256 -->\n<g id=\"node7\" class=\"node\">\n<title>2707073258256</title>\n<polygon fill=\"none\" stroke=\"black\" points=\"315.38,-55.5 315.38,-91.5 502.88,-91.5 502.88,-55.5 315.38,-55.5\"/>\n<text text-anchor=\"middle\" x=\"326.38\" y=\"-68.7\" font-family=\"Times New Roman,serif\" font-size=\"14.00\">e</text>\n<polyline fill=\"none\" stroke=\"black\" points=\"337.38,-56 337.38,-91.5\"/>\n<text text-anchor=\"middle\" x=\"379.5\" y=\"-68.7\" font-family=\"Times New Roman,serif\" font-size=\"14.00\">data &#45;6.0000</text>\n<polyline fill=\"none\" stroke=\"black\" points=\"421.62,-56 421.62,-91.5\"/>\n<text text-anchor=\"middle\" x=\"462.25\" y=\"-68.7\" font-family=\"Times New Roman,serif\" font-size=\"14.00\">grad 0.0000</text>\n</g>\n<!-- 2707073258256&#45;&gt;2707067522256+ -->\n<g id=\"edge8\" class=\"edge\">\n<title>2707073258256&#45;&gt;2707067522256+</title>\n<path fill=\"none\" stroke=\"black\" d=\"M503.05,-56.81C512.25,-55.16 521.16,-53.56 529.24,-52.1\"/>\n<polygon fill=\"black\" stroke=\"black\" points=\"529.71,-55.58 538.93,-50.36 528.47,-48.69 529.71,-55.58\"/>\n</g>\n<!-- 2707073258256*&#45;&gt;2707073258256 -->\n<g id=\"edge3\" class=\"edge\">\n<title>2707073258256*&#45;&gt;2707073258256</title>\n<path fill=\"none\" stroke=\"black\" d=\"M278.69,-73.5C286.1,-73.5 294.64,-73.5 303.71,-73.5\"/>\n<polygon fill=\"black\" stroke=\"black\" points=\"303.51,-77 313.51,-73.5 303.51,-70 303.51,-77\"/>\n</g>\n<!-- 2707068996368 -->\n<g id=\"node9\" class=\"node\">\n<title>2707068996368</title>\n<polygon fill=\"none\" stroke=\"black\" points=\"0,-28.5 0,-64.5 188.25,-64.5 188.25,-28.5 0,-28.5\"/>\n<text text-anchor=\"middle\" x=\"11.38\" y=\"-41.7\" font-family=\"Times New Roman,serif\" font-size=\"14.00\">b</text>\n<polyline fill=\"none\" stroke=\"black\" points=\"22.75,-29 22.75,-64.5\"/>\n<text text-anchor=\"middle\" x=\"64.88\" y=\"-41.7\" font-family=\"Times New Roman,serif\" font-size=\"14.00\">data &#45;3.0000</text>\n<polyline fill=\"none\" stroke=\"black\" points=\"107,-29 107,-64.5\"/>\n<text text-anchor=\"middle\" x=\"147.62\" y=\"-41.7\" font-family=\"Times New Roman,serif\" font-size=\"14.00\">grad 0.0000</text>\n</g>\n<!-- 2707068996368&#45;&gt;2707073258256* -->\n<g id=\"edge5\" class=\"edge\">\n<title>2707068996368&#45;&gt;2707073258256*</title>\n<path fill=\"none\" stroke=\"black\" d=\"M188.49,-62.75C197.27,-64.28 205.77,-65.76 213.51,-67.1\"/>\n<polygon fill=\"black\" stroke=\"black\" points=\"212.66,-70.51 223.11,-68.78 213.86,-63.61 212.66,-70.51\"/>\n</g>\n<!-- 2707074089744 -->\n<g id=\"node10\" class=\"node\">\n<title>2707074089744</title>\n<polygon fill=\"none\" stroke=\"black\" points=\"314.25,-0.5 314.25,-36.5 504,-36.5 504,-0.5 314.25,-0.5\"/>\n<text text-anchor=\"middle\" x=\"325.25\" y=\"-13.7\" font-family=\"Times New Roman,serif\" font-size=\"14.00\">c</text>\n<polyline fill=\"none\" stroke=\"black\" points=\"336.25,-1 336.25,-36.5\"/>\n<text text-anchor=\"middle\" x=\"379.5\" y=\"-13.7\" font-family=\"Times New Roman,serif\" font-size=\"14.00\">data 10.0000</text>\n<polyline fill=\"none\" stroke=\"black\" points=\"422.75,-1 422.75,-36.5\"/>\n<text text-anchor=\"middle\" x=\"463.38\" y=\"-13.7\" font-family=\"Times New Roman,serif\" font-size=\"14.00\">grad 0.0000</text>\n</g>\n<!-- 2707074089744&#45;&gt;2707067522256+ -->\n<g id=\"edge6\" class=\"edge\">\n<title>2707074089744&#45;&gt;2707067522256+</title>\n<path fill=\"none\" stroke=\"black\" d=\"M504.39,-34.83C513.16,-36.35 521.65,-37.82 529.37,-39.15\"/>\n<polygon fill=\"black\" stroke=\"black\" points=\"528.5,-42.56 538.95,-40.81 529.69,-35.66 528.5,-42.56\"/>\n</g>\n</g>\n</svg>\n",
      "text/plain": [
       "<graphviz.graphs.Digraph at 0x27649fd00d0>"
      ]
     },
     "execution_count": 174,
     "metadata": {},
     "output_type": "execute_result"
    }
   ],
   "execution_count": 174
  },
  {
   "metadata": {
    "ExecuteTime": {
     "end_time": "2025-02-02T15:03:54.378354Z",
     "start_time": "2025-02-02T15:03:54.374668Z"
    }
   },
   "cell_type": "code",
   "source": [
    "L.grad = 1.0\n",
    "d.grad = L.grad * f.data\n",
    "f.grad = L.grad * d.data\n",
    "e.grad = d.grad * 1\n",
    "c.grad = d.grad * 1\n",
    "b.grad = e.grad * a.data\n",
    "a.grad = e.grad * b.data"
   ],
   "id": "cbb4b00fdf23034c",
   "outputs": [],
   "execution_count": 175
  },
  {
   "metadata": {
    "ExecuteTime": {
     "end_time": "2025-02-02T15:03:54.390046Z",
     "start_time": "2025-02-02T15:03:54.385871Z"
    }
   },
   "cell_type": "code",
   "source": [
    "x1 = Value(2.0, label='x1')\n",
    "x2 = Value(0.0, label='x2')\n",
    "\n",
    "w1 = Value(-3.0, label='w1')\n",
    "w2 = Value(1.0, label='w2')\n",
    "\n",
    "b = Value(6.7, label='b')\n",
    "\n",
    "x1w1 = x1 * w1; x1w1.label = 'x1w1'\n",
    "x2w2 = x2 * w2; x2w2.label = 'x2w2'\n",
    "x1w1x2w2 = x1w1 + x2w2; x1w1x2w2.label = 'x1w1 + x2w2'\n",
    "n = x1w1x2w2 + b; n.label = 'n'\n",
    "\n",
    "o = n.tanh(); o.label = 'o'\n"
   ],
   "id": "2c24526ff8b39745",
   "outputs": [],
   "execution_count": 176
  },
  {
   "metadata": {
    "ExecuteTime": {
     "end_time": "2025-02-02T15:03:54.661289Z",
     "start_time": "2025-02-02T15:03:54.397297Z"
    }
   },
   "cell_type": "code",
   "source": "draw_dot(o)",
   "id": "6a9159c310553e2e",
   "outputs": [
    {
     "data": {
      "image/svg+xml": "<?xml version=\"1.0\" encoding=\"UTF-8\" standalone=\"no\"?>\n<!DOCTYPE svg PUBLIC \"-//W3C//DTD SVG 1.1//EN\"\n \"http://www.w3.org/Graphics/SVG/1.1/DTD/svg11.dtd\">\n<!-- Generated by graphviz version 12.2.1 (20241206.2353)\n -->\n<!-- Pages: 1 -->\n<svg width=\"1546pt\" height=\"210pt\"\n viewBox=\"0.00 0.00 1546.25 210.00\" xmlns=\"http://www.w3.org/2000/svg\" xmlns:xlink=\"http://www.w3.org/1999/xlink\">\n<g id=\"graph0\" class=\"graph\" transform=\"scale(1 1) rotate(0) translate(4 206)\">\n<polygon fill=\"white\" stroke=\"none\" points=\"-4,4 -4,-206 1542.25,-206 1542.25,4 -4,4\"/>\n<!-- 2707073832976 -->\n<g id=\"node1\" class=\"node\">\n<title>2707073832976</title>\n<polygon fill=\"none\" stroke=\"black\" points=\"1044.75,-54.5 1044.75,-90.5 1228.5,-90.5 1228.5,-54.5 1044.75,-54.5\"/>\n<text text-anchor=\"middle\" x=\"1056.12\" y=\"-67.7\" font-family=\"Times New Roman,serif\" font-size=\"14.00\">n</text>\n<polyline fill=\"none\" stroke=\"black\" points=\"1067.5,-55 1067.5,-90.5\"/>\n<text text-anchor=\"middle\" x=\"1107.38\" y=\"-67.7\" font-family=\"Times New Roman,serif\" font-size=\"14.00\">data 0.7000</text>\n<polyline fill=\"none\" stroke=\"black\" points=\"1147.25,-55 1147.25,-90.5\"/>\n<text text-anchor=\"middle\" x=\"1187.88\" y=\"-67.7\" font-family=\"Times New Roman,serif\" font-size=\"14.00\">grad 0.0000</text>\n</g>\n<!-- 2707071994704tanh -->\n<g id=\"node13\" class=\"node\">\n<title>2707071994704tanh</title>\n<ellipse fill=\"none\" stroke=\"black\" cx=\"1291.5\" cy=\"-72.5\" rx=\"27\" ry=\"18\"/>\n<text text-anchor=\"middle\" x=\"1291.5\" y=\"-67.45\" font-family=\"Times New Roman,serif\" font-size=\"14.00\">tanh</text>\n</g>\n<!-- 2707073832976&#45;&gt;2707071994704tanh -->\n<g id=\"edge11\" class=\"edge\">\n<title>2707073832976&#45;&gt;2707071994704tanh</title>\n<path fill=\"none\" stroke=\"black\" d=\"M1228.76,-72.5C1237.14,-72.5 1245.27,-72.5 1252.73,-72.5\"/>\n<polygon fill=\"black\" stroke=\"black\" points=\"1252.7,-76 1262.7,-72.5 1252.7,-69 1252.7,-76\"/>\n</g>\n<!-- 2707073832976+ -->\n<g id=\"node2\" class=\"node\">\n<title>2707073832976+</title>\n<ellipse fill=\"none\" stroke=\"black\" cx=\"981.75\" cy=\"-72.5\" rx=\"27\" ry=\"18\"/>\n<text text-anchor=\"middle\" x=\"981.75\" y=\"-67.45\" font-family=\"Times New Roman,serif\" font-size=\"14.00\">+</text>\n</g>\n<!-- 2707073832976+&#45;&gt;2707073832976 -->\n<g id=\"edge1\" class=\"edge\">\n<title>2707073832976+&#45;&gt;2707073832976</title>\n<path fill=\"none\" stroke=\"black\" d=\"M1009.03,-72.5C1016.17,-72.5 1024.36,-72.5 1033.07,-72.5\"/>\n<polygon fill=\"black\" stroke=\"black\" points=\"1032.81,-76 1042.81,-72.5 1032.81,-69 1032.81,-76\"/>\n</g>\n<!-- 2707073830480 -->\n<g id=\"node3\" class=\"node\">\n<title>2707073830480</title>\n<polygon fill=\"none\" stroke=\"black\" points=\"661.5,-82.5 661.5,-118.5 918.75,-118.5 918.75,-82.5 661.5,-82.5\"/>\n<text text-anchor=\"middle\" x=\"707.38\" y=\"-95.7\" font-family=\"Times New Roman,serif\" font-size=\"14.00\">x1w1 + x2w2</text>\n<polyline fill=\"none\" stroke=\"black\" points=\"753.25,-83 753.25,-118.5\"/>\n<text text-anchor=\"middle\" x=\"795.38\" y=\"-95.7\" font-family=\"Times New Roman,serif\" font-size=\"14.00\">data &#45;6.0000</text>\n<polyline fill=\"none\" stroke=\"black\" points=\"837.5,-83 837.5,-118.5\"/>\n<text text-anchor=\"middle\" x=\"878.12\" y=\"-95.7\" font-family=\"Times New Roman,serif\" font-size=\"14.00\">grad 0.0000</text>\n</g>\n<!-- 2707073830480&#45;&gt;2707073832976+ -->\n<g id=\"edge12\" class=\"edge\">\n<title>2707073830480&#45;&gt;2707073832976+</title>\n<path fill=\"none\" stroke=\"black\" d=\"M916.29,-82.02C926.15,-80.56 935.53,-79.18 943.92,-77.94\"/>\n<polygon fill=\"black\" stroke=\"black\" points=\"944.19,-81.44 953.58,-76.51 943.17,-74.51 944.19,-81.44\"/>\n</g>\n<!-- 2707073830480+ -->\n<g id=\"node4\" class=\"node\">\n<title>2707073830480+</title>\n<ellipse fill=\"none\" stroke=\"black\" cx=\"598.5\" cy=\"-100.5\" rx=\"27\" ry=\"18\"/>\n<text text-anchor=\"middle\" x=\"598.5\" y=\"-95.45\" font-family=\"Times New Roman,serif\" font-size=\"14.00\">+</text>\n</g>\n<!-- 2707073830480+&#45;&gt;2707073830480 -->\n<g id=\"edge2\" class=\"edge\">\n<title>2707073830480+&#45;&gt;2707073830480</title>\n<path fill=\"none\" stroke=\"black\" d=\"M625.87,-100.5C632.88,-100.5 640.96,-100.5 649.7,-100.5\"/>\n<polygon fill=\"black\" stroke=\"black\" points=\"649.57,-104 659.57,-100.5 649.57,-97 649.57,-104\"/>\n</g>\n<!-- 2707073830032 -->\n<g id=\"node5\" class=\"node\">\n<title>2707073830032</title>\n<polygon fill=\"none\" stroke=\"black\" points=\"326.25,-110.5 326.25,-146.5 533.25,-146.5 533.25,-110.5 326.25,-110.5\"/>\n<text text-anchor=\"middle\" x=\"349.25\" y=\"-123.7\" font-family=\"Times New Roman,serif\" font-size=\"14.00\">x2w2</text>\n<polyline fill=\"none\" stroke=\"black\" points=\"372.25,-111 372.25,-146.5\"/>\n<text text-anchor=\"middle\" x=\"412.12\" y=\"-123.7\" font-family=\"Times New Roman,serif\" font-size=\"14.00\">data 0.0000</text>\n<polyline fill=\"none\" stroke=\"black\" points=\"452,-111 452,-146.5\"/>\n<text text-anchor=\"middle\" x=\"492.62\" y=\"-123.7\" font-family=\"Times New Roman,serif\" font-size=\"14.00\">grad 0.0000</text>\n</g>\n<!-- 2707073830032&#45;&gt;2707073830480+ -->\n<g id=\"edge10\" class=\"edge\">\n<title>2707073830032&#45;&gt;2707073830480+</title>\n<path fill=\"none\" stroke=\"black\" d=\"M533.51,-111.25C543.16,-109.62 552.45,-108.06 560.82,-106.66\"/>\n<polygon fill=\"black\" stroke=\"black\" points=\"561.2,-110.15 570.48,-105.04 560.04,-103.24 561.2,-110.15\"/>\n</g>\n<!-- 2707073830032* -->\n<g id=\"node6\" class=\"node\">\n<title>2707073830032*</title>\n<ellipse fill=\"none\" stroke=\"black\" cx=\"261\" cy=\"-128.5\" rx=\"27\" ry=\"18\"/>\n<text text-anchor=\"middle\" x=\"261\" y=\"-123.45\" font-family=\"Times New Roman,serif\" font-size=\"14.00\">*</text>\n</g>\n<!-- 2707073830032*&#45;&gt;2707073830032 -->\n<g id=\"edge3\" class=\"edge\">\n<title>2707073830032*&#45;&gt;2707073830032</title>\n<path fill=\"none\" stroke=\"black\" d=\"M288.42,-128.5C296.08,-128.5 304.96,-128.5 314.47,-128.5\"/>\n<polygon fill=\"black\" stroke=\"black\" points=\"314.37,-132 324.37,-128.5 314.37,-125 314.37,-132\"/>\n</g>\n<!-- 2707069036688 -->\n<g id=\"node7\" class=\"node\">\n<title>2707069036688</title>\n<polygon fill=\"none\" stroke=\"black\" points=\"3.75,-165.5 3.75,-201.5 194.25,-201.5 194.25,-165.5 3.75,-165.5\"/>\n<text text-anchor=\"middle\" x=\"18.5\" y=\"-178.7\" font-family=\"Times New Roman,serif\" font-size=\"14.00\">x2</text>\n<polyline fill=\"none\" stroke=\"black\" points=\"33.25,-166 33.25,-201.5\"/>\n<text text-anchor=\"middle\" x=\"73.12\" y=\"-178.7\" font-family=\"Times New Roman,serif\" font-size=\"14.00\">data 0.0000</text>\n<polyline fill=\"none\" stroke=\"black\" points=\"113,-166 113,-201.5\"/>\n<text text-anchor=\"middle\" x=\"153.62\" y=\"-178.7\" font-family=\"Times New Roman,serif\" font-size=\"14.00\">grad 0.0000</text>\n</g>\n<!-- 2707069036688&#45;&gt;2707073830032* -->\n<g id=\"edge7\" class=\"edge\">\n<title>2707069036688&#45;&gt;2707073830032*</title>\n<path fill=\"none\" stroke=\"black\" d=\"M172.12,-165.01C180.9,-162.35 189.7,-159.5 198,-156.5 208.09,-152.86 218.82,-148.27 228.47,-143.88\"/>\n<polygon fill=\"black\" stroke=\"black\" points=\"229.86,-147.09 237.45,-139.69 226.9,-140.75 229.86,-147.09\"/>\n</g>\n<!-- 2707069031120 -->\n<g id=\"node8\" class=\"node\">\n<title>2707069031120</title>\n<polygon fill=\"none\" stroke=\"black\" points=\"0,-55.5 0,-91.5 198,-91.5 198,-55.5 0,-55.5\"/>\n<text text-anchor=\"middle\" x=\"16.25\" y=\"-68.7\" font-family=\"Times New Roman,serif\" font-size=\"14.00\">w1</text>\n<polyline fill=\"none\" stroke=\"black\" points=\"32.5,-56 32.5,-91.5\"/>\n<text text-anchor=\"middle\" x=\"74.62\" y=\"-68.7\" font-family=\"Times New Roman,serif\" font-size=\"14.00\">data &#45;3.0000</text>\n<polyline fill=\"none\" stroke=\"black\" points=\"116.75,-56 116.75,-91.5\"/>\n<text text-anchor=\"middle\" x=\"157.38\" y=\"-68.7\" font-family=\"Times New Roman,serif\" font-size=\"14.00\">grad 0.0000</text>\n</g>\n<!-- 2707073838352* -->\n<g id=\"node11\" class=\"node\">\n<title>2707073838352*</title>\n<ellipse fill=\"none\" stroke=\"black\" cx=\"261\" cy=\"-73.5\" rx=\"27\" ry=\"18\"/>\n<text text-anchor=\"middle\" x=\"261\" y=\"-68.45\" font-family=\"Times New Roman,serif\" font-size=\"14.00\">*</text>\n</g>\n<!-- 2707069031120&#45;&gt;2707073838352* -->\n<g id=\"edge9\" class=\"edge\">\n<title>2707069031120&#45;&gt;2707073838352*</title>\n<path fill=\"none\" stroke=\"black\" d=\"M198.14,-73.5C206.61,-73.5 214.8,-73.5 222.29,-73.5\"/>\n<polygon fill=\"black\" stroke=\"black\" points=\"222.29,-77 232.29,-73.5 222.29,-70 222.29,-77\"/>\n</g>\n<!-- 2707073834192 -->\n<g id=\"node9\" class=\"node\">\n<title>2707073834192</title>\n<polygon fill=\"none\" stroke=\"black\" points=\"2.25,-110.5 2.25,-146.5 195.75,-146.5 195.75,-110.5 2.25,-110.5\"/>\n<text text-anchor=\"middle\" x=\"18.5\" y=\"-123.7\" font-family=\"Times New Roman,serif\" font-size=\"14.00\">w2</text>\n<polyline fill=\"none\" stroke=\"black\" points=\"34.75,-111 34.75,-146.5\"/>\n<text text-anchor=\"middle\" x=\"74.62\" y=\"-123.7\" font-family=\"Times New Roman,serif\" font-size=\"14.00\">data 1.0000</text>\n<polyline fill=\"none\" stroke=\"black\" points=\"114.5,-111 114.5,-146.5\"/>\n<text text-anchor=\"middle\" x=\"155.12\" y=\"-123.7\" font-family=\"Times New Roman,serif\" font-size=\"14.00\">grad 0.0000</text>\n</g>\n<!-- 2707073834192&#45;&gt;2707073830032* -->\n<g id=\"edge14\" class=\"edge\">\n<title>2707073834192&#45;&gt;2707073830032*</title>\n<path fill=\"none\" stroke=\"black\" d=\"M195.84,-128.5C205.14,-128.5 214.15,-128.5 222.32,-128.5\"/>\n<polygon fill=\"black\" stroke=\"black\" points=\"222.13,-132 232.13,-128.5 222.13,-125 222.13,-132\"/>\n</g>\n<!-- 2707073838352 -->\n<g id=\"node10\" class=\"node\">\n<title>2707073838352</title>\n<polygon fill=\"none\" stroke=\"black\" points=\"324,-55.5 324,-91.5 535.5,-91.5 535.5,-55.5 324,-55.5\"/>\n<text text-anchor=\"middle\" x=\"347\" y=\"-68.7\" font-family=\"Times New Roman,serif\" font-size=\"14.00\">x1w1</text>\n<polyline fill=\"none\" stroke=\"black\" points=\"370,-56 370,-91.5\"/>\n<text text-anchor=\"middle\" x=\"412.12\" y=\"-68.7\" font-family=\"Times New Roman,serif\" font-size=\"14.00\">data &#45;6.0000</text>\n<polyline fill=\"none\" stroke=\"black\" points=\"454.25,-56 454.25,-91.5\"/>\n<text text-anchor=\"middle\" x=\"494.88\" y=\"-68.7\" font-family=\"Times New Roman,serif\" font-size=\"14.00\">grad 0.0000</text>\n</g>\n<!-- 2707073838352&#45;&gt;2707073830480+ -->\n<g id=\"edge6\" class=\"edge\">\n<title>2707073838352&#45;&gt;2707073830480+</title>\n<path fill=\"none\" stroke=\"black\" d=\"M535.88,-90.52C544.59,-91.93 552.96,-93.29 560.56,-94.52\"/>\n<polygon fill=\"black\" stroke=\"black\" points=\"559.91,-97.96 570.34,-96.1 561.03,-91.05 559.91,-97.96\"/>\n</g>\n<!-- 2707073838352*&#45;&gt;2707073838352 -->\n<g id=\"edge4\" class=\"edge\">\n<title>2707073838352*&#45;&gt;2707073838352</title>\n<path fill=\"none\" stroke=\"black\" d=\"M288.42,-73.5C295.52,-73.5 303.68,-73.5 312.42,-73.5\"/>\n<polygon fill=\"black\" stroke=\"black\" points=\"312.24,-77 322.24,-73.5 312.24,-70 312.24,-77\"/>\n</g>\n<!-- 2707071994704 -->\n<g id=\"node12\" class=\"node\">\n<title>2707071994704</title>\n<polygon fill=\"none\" stroke=\"black\" points=\"1354.5,-54.5 1354.5,-90.5 1538.25,-90.5 1538.25,-54.5 1354.5,-54.5\"/>\n<text text-anchor=\"middle\" x=\"1365.88\" y=\"-67.7\" font-family=\"Times New Roman,serif\" font-size=\"14.00\">o</text>\n<polyline fill=\"none\" stroke=\"black\" points=\"1377.25,-55 1377.25,-90.5\"/>\n<text text-anchor=\"middle\" x=\"1417.12\" y=\"-67.7\" font-family=\"Times New Roman,serif\" font-size=\"14.00\">data 0.6044</text>\n<polyline fill=\"none\" stroke=\"black\" points=\"1457,-55 1457,-90.5\"/>\n<text text-anchor=\"middle\" x=\"1497.62\" y=\"-67.7\" font-family=\"Times New Roman,serif\" font-size=\"14.00\">grad 0.0000</text>\n</g>\n<!-- 2707071994704tanh&#45;&gt;2707071994704 -->\n<g id=\"edge5\" class=\"edge\">\n<title>2707071994704tanh&#45;&gt;2707071994704</title>\n<path fill=\"none\" stroke=\"black\" d=\"M1318.78,-72.5C1325.92,-72.5 1334.11,-72.5 1342.82,-72.5\"/>\n<polygon fill=\"black\" stroke=\"black\" points=\"1342.56,-76 1352.56,-72.5 1342.56,-69 1342.56,-76\"/>\n</g>\n<!-- 2707069036368 -->\n<g id=\"node14\" class=\"node\">\n<title>2707069036368</title>\n<polygon fill=\"none\" stroke=\"black\" points=\"3.75,-0.5 3.75,-36.5 194.25,-36.5 194.25,-0.5 3.75,-0.5\"/>\n<text text-anchor=\"middle\" x=\"18.5\" y=\"-13.7\" font-family=\"Times New Roman,serif\" font-size=\"14.00\">x1</text>\n<polyline fill=\"none\" stroke=\"black\" points=\"33.25,-1 33.25,-36.5\"/>\n<text text-anchor=\"middle\" x=\"73.12\" y=\"-13.7\" font-family=\"Times New Roman,serif\" font-size=\"14.00\">data 2.0000</text>\n<polyline fill=\"none\" stroke=\"black\" points=\"113,-1 113,-36.5\"/>\n<text text-anchor=\"middle\" x=\"153.62\" y=\"-13.7\" font-family=\"Times New Roman,serif\" font-size=\"14.00\">grad 0.0000</text>\n</g>\n<!-- 2707069036368&#45;&gt;2707073838352* -->\n<g id=\"edge8\" class=\"edge\">\n<title>2707069036368&#45;&gt;2707073838352*</title>\n<path fill=\"none\" stroke=\"black\" d=\"M172.12,-36.99C180.9,-39.65 189.7,-42.5 198,-45.5 208.09,-49.14 218.82,-53.73 228.47,-58.12\"/>\n<polygon fill=\"black\" stroke=\"black\" points=\"226.9,-61.25 237.45,-62.31 229.86,-54.91 226.9,-61.25\"/>\n</g>\n<!-- 2707073835408 -->\n<g id=\"node15\" class=\"node\">\n<title>2707073835408</title>\n<polygon fill=\"none\" stroke=\"black\" points=\"698.25,-27.5 698.25,-63.5 882,-63.5 882,-27.5 698.25,-27.5\"/>\n<text text-anchor=\"middle\" x=\"709.62\" y=\"-40.7\" font-family=\"Times New Roman,serif\" font-size=\"14.00\">b</text>\n<polyline fill=\"none\" stroke=\"black\" points=\"721,-28 721,-63.5\"/>\n<text text-anchor=\"middle\" x=\"760.88\" y=\"-40.7\" font-family=\"Times New Roman,serif\" font-size=\"14.00\">data 6.7000</text>\n<polyline fill=\"none\" stroke=\"black\" points=\"800.75,-28 800.75,-63.5\"/>\n<text text-anchor=\"middle\" x=\"841.38\" y=\"-40.7\" font-family=\"Times New Roman,serif\" font-size=\"14.00\">grad 0.0000</text>\n</g>\n<!-- 2707073835408&#45;&gt;2707073832976+ -->\n<g id=\"edge13\" class=\"edge\">\n<title>2707073835408&#45;&gt;2707073832976+</title>\n<path fill=\"none\" stroke=\"black\" d=\"M882.33,-58.49C904.17,-61.6 926.27,-64.74 943.98,-67.26\"/>\n<polygon fill=\"black\" stroke=\"black\" points=\"943.32,-70.71 953.71,-68.65 944.3,-63.78 943.32,-70.71\"/>\n</g>\n</g>\n</svg>\n",
      "text/plain": [
       "<graphviz.graphs.Digraph at 0x27649cb5a10>"
      ]
     },
     "execution_count": 177,
     "metadata": {},
     "output_type": "execute_result"
    }
   ],
   "execution_count": 177
  },
  {
   "metadata": {
    "ExecuteTime": {
     "end_time": "2025-02-02T15:03:54.671763Z",
     "start_time": "2025-02-02T15:03:54.668745Z"
    }
   },
   "cell_type": "code",
   "source": "o.backward()",
   "id": "cb995538d903c4a7",
   "outputs": [],
   "execution_count": 178
  },
  {
   "metadata": {
    "ExecuteTime": {
     "end_time": "2025-02-02T15:03:54.775640Z",
     "start_time": "2025-02-02T15:03:54.677039Z"
    }
   },
   "cell_type": "code",
   "source": [
    "a = Value(2.0, label='a')\n",
    "b = a + a\n",
    "\n",
    "b.backward()\n",
    "draw_dot(b)"
   ],
   "id": "16517c2162436a89",
   "outputs": [
    {
     "data": {
      "image/svg+xml": "<?xml version=\"1.0\" encoding=\"UTF-8\" standalone=\"no\"?>\n<!DOCTYPE svg PUBLIC \"-//W3C//DTD SVG 1.1//EN\"\n \"http://www.w3.org/Graphics/SVG/1.1/DTD/svg11.dtd\">\n<!-- Generated by graphviz version 12.2.1 (20241206.2353)\n -->\n<!-- Pages: 1 -->\n<svg width=\"498pt\" height=\"45pt\"\n viewBox=\"0.00 0.00 497.75 45.00\" xmlns=\"http://www.w3.org/2000/svg\" xmlns:xlink=\"http://www.w3.org/1999/xlink\">\n<g id=\"graph0\" class=\"graph\" transform=\"scale(1 1) rotate(0) translate(4 41)\">\n<polygon fill=\"white\" stroke=\"none\" points=\"-4,4 -4,-41 493.75,-41 493.75,4 -4,4\"/>\n<!-- 2707073842576 -->\n<g id=\"node1\" class=\"node\">\n<title>2707073842576</title>\n<polygon fill=\"none\" stroke=\"black\" points=\"0,-0.5 0,-36.5 183,-36.5 183,-0.5 0,-0.5\"/>\n<text text-anchor=\"middle\" x=\"11\" y=\"-13.7\" font-family=\"Times New Roman,serif\" font-size=\"14.00\">a</text>\n<polyline fill=\"none\" stroke=\"black\" points=\"22,-1 22,-36.5\"/>\n<text text-anchor=\"middle\" x=\"61.88\" y=\"-13.7\" font-family=\"Times New Roman,serif\" font-size=\"14.00\">data 2.0000</text>\n<polyline fill=\"none\" stroke=\"black\" points=\"101.75,-1 101.75,-36.5\"/>\n<text text-anchor=\"middle\" x=\"142.38\" y=\"-13.7\" font-family=\"Times New Roman,serif\" font-size=\"14.00\">grad 2.0000</text>\n</g>\n<!-- 2707067623504+ -->\n<g id=\"node3\" class=\"node\">\n<title>2707067623504+</title>\n<ellipse fill=\"none\" stroke=\"black\" cx=\"246\" cy=\"-18.5\" rx=\"27\" ry=\"18\"/>\n<text text-anchor=\"middle\" x=\"246\" y=\"-13.45\" font-family=\"Times New Roman,serif\" font-size=\"14.00\">+</text>\n</g>\n<!-- 2707073842576&#45;&gt;2707067623504+ -->\n<g id=\"edge2\" class=\"edge\">\n<title>2707073842576&#45;&gt;2707067623504+</title>\n<path fill=\"none\" stroke=\"black\" d=\"M183.41,-18.5C191.77,-18.5 199.88,-18.5 207.32,-18.5\"/>\n<polygon fill=\"black\" stroke=\"black\" points=\"207.26,-22 217.26,-18.5 207.26,-15 207.26,-22\"/>\n</g>\n<!-- 2707067623504 -->\n<g id=\"node2\" class=\"node\">\n<title>2707067623504</title>\n<polygon fill=\"none\" stroke=\"black\" points=\"309,-0.5 309,-36.5 489.75,-36.5 489.75,-0.5 309,-0.5\"/>\n<text text-anchor=\"middle\" x=\"318.88\" y=\"-13.7\" font-family=\"Times New Roman,serif\" font-size=\"14.00\"> </text>\n<polyline fill=\"none\" stroke=\"black\" points=\"328.75,-1 328.75,-36.5\"/>\n<text text-anchor=\"middle\" x=\"368.62\" y=\"-13.7\" font-family=\"Times New Roman,serif\" font-size=\"14.00\">data 4.0000</text>\n<polyline fill=\"none\" stroke=\"black\" points=\"408.5,-1 408.5,-36.5\"/>\n<text text-anchor=\"middle\" x=\"449.12\" y=\"-13.7\" font-family=\"Times New Roman,serif\" font-size=\"14.00\">grad 1.0000</text>\n</g>\n<!-- 2707067623504+&#45;&gt;2707067623504 -->\n<g id=\"edge1\" class=\"edge\">\n<title>2707067623504+&#45;&gt;2707067623504</title>\n<path fill=\"none\" stroke=\"black\" d=\"M273.37,-18.5C280.51,-18.5 288.7,-18.5 297.39,-18.5\"/>\n<polygon fill=\"black\" stroke=\"black\" points=\"297.11,-22 307.11,-18.5 297.11,-15 297.11,-22\"/>\n</g>\n</g>\n</svg>\n",
      "text/plain": [
       "<graphviz.graphs.Digraph at 0x27649c99350>"
      ]
     },
     "execution_count": 179,
     "metadata": {},
     "output_type": "execute_result"
    }
   ],
   "execution_count": 179
  },
  {
   "metadata": {
    "ExecuteTime": {
     "end_time": "2025-02-02T15:03:54.884985Z",
     "start_time": "2025-02-02T15:03:54.780801Z"
    }
   },
   "cell_type": "code",
   "source": [
    "x1 = Value(2.0, label='x1')\n",
    "x2 = Value(0.0, label='x2')\n",
    "\n",
    "w1 = Value(-3.0, label='w1')\n",
    "w2 = Value(1.0, label='w2')\n",
    "\n",
    "b = Value(6.7, label='b')\n",
    "\n",
    "x1w1 = x1 * w1; x1w1.label = 'x1w1'\n",
    "x2w2 = x2 * w2; x2w2.label = 'x2w2'\n",
    "x1w1x2w2 = x1w1 + x2w2; x1w1x2w2.label = 'x1w1 + x2w2'\n",
    "n = x1w1x2w2 + b; n.label = 'n'\n",
    "\n",
    "e = (2.0 * n).exp(); e.label = 'e'\n",
    "o = (e - 1) / (e + 1); o.label = 'o'\n",
    "o.backward()\n",
    "draw_dot(o)"
   ],
   "id": "92b5e2b5224edd02",
   "outputs": [
    {
     "data": {
      "image/svg+xml": "<?xml version=\"1.0\" encoding=\"UTF-8\" standalone=\"no\"?>\n<!DOCTYPE svg PUBLIC \"-//W3C//DTD SVG 1.1//EN\"\n \"http://www.w3.org/Graphics/SVG/1.1/DTD/svg11.dtd\">\n<!-- Generated by graphviz version 12.2.1 (20241206.2353)\n -->\n<!-- Pages: 1 -->\n<svg width=\"2909pt\" height=\"239pt\"\n viewBox=\"0.00 0.00 2909.00 239.00\" xmlns=\"http://www.w3.org/2000/svg\" xmlns:xlink=\"http://www.w3.org/1999/xlink\">\n<g id=\"graph0\" class=\"graph\" transform=\"scale(1 1) rotate(0) translate(4 235)\">\n<polygon fill=\"white\" stroke=\"none\" points=\"-4,4 -4,-235 2905,-235 2905,4 -4,4\"/>\n<!-- 2707072506384 -->\n<g id=\"node1\" class=\"node\">\n<title>2707072506384</title>\n<polygon fill=\"none\" stroke=\"black\" points=\"1354.5,-55.5 1354.5,-91.5 1535.25,-91.5 1535.25,-55.5 1354.5,-55.5\"/>\n<text text-anchor=\"middle\" x=\"1364.38\" y=\"-68.7\" font-family=\"Times New Roman,serif\" font-size=\"14.00\"> </text>\n<polyline fill=\"none\" stroke=\"black\" points=\"1374.25,-56 1374.25,-91.5\"/>\n<text text-anchor=\"middle\" x=\"1414.12\" y=\"-68.7\" font-family=\"Times New Roman,serif\" font-size=\"14.00\">data 1.4000</text>\n<polyline fill=\"none\" stroke=\"black\" points=\"1454,-56 1454,-91.5\"/>\n<text text-anchor=\"middle\" x=\"1494.62\" y=\"-68.7\" font-family=\"Times New Roman,serif\" font-size=\"14.00\">grad 0.3174</text>\n</g>\n<!-- 2707068451344exp -->\n<g id=\"node6\" class=\"node\">\n<title>2707068451344exp</title>\n<ellipse fill=\"none\" stroke=\"black\" cx=\"1598.25\" cy=\"-73.5\" rx=\"27\" ry=\"18\"/>\n<text text-anchor=\"middle\" x=\"1598.25\" y=\"-68.45\" font-family=\"Times New Roman,serif\" font-size=\"14.00\">exp</text>\n</g>\n<!-- 2707072506384&#45;&gt;2707068451344exp -->\n<g id=\"edge24\" class=\"edge\">\n<title>2707072506384&#45;&gt;2707068451344exp</title>\n<path fill=\"none\" stroke=\"black\" d=\"M1535.68,-73.5C1544.02,-73.5 1552.12,-73.5 1559.56,-73.5\"/>\n<polygon fill=\"black\" stroke=\"black\" points=\"1559.5,-77 1569.5,-73.5 1559.5,-70 1559.5,-77\"/>\n</g>\n<!-- 2707072506384* -->\n<g id=\"node2\" class=\"node\">\n<title>2707072506384*</title>\n<ellipse fill=\"none\" stroke=\"black\" cx=\"1291.5\" cy=\"-73.5\" rx=\"27\" ry=\"18\"/>\n<text text-anchor=\"middle\" x=\"1291.5\" y=\"-68.45\" font-family=\"Times New Roman,serif\" font-size=\"14.00\">*</text>\n</g>\n<!-- 2707072506384*&#45;&gt;2707072506384 -->\n<g id=\"edge1\" class=\"edge\">\n<title>2707072506384*&#45;&gt;2707072506384</title>\n<path fill=\"none\" stroke=\"black\" d=\"M1318.87,-73.5C1326.01,-73.5 1334.2,-73.5 1342.89,-73.5\"/>\n<polygon fill=\"black\" stroke=\"black\" points=\"1342.61,-77 1352.61,-73.5 1342.61,-70 1342.61,-77\"/>\n</g>\n<!-- 2707072514064 -->\n<g id=\"node3\" class=\"node\">\n<title>2707072514064</title>\n<polygon fill=\"none\" stroke=\"black\" points=\"1044.75,-83.5 1044.75,-119.5 1228.5,-119.5 1228.5,-83.5 1044.75,-83.5\"/>\n<text text-anchor=\"middle\" x=\"1056.12\" y=\"-96.7\" font-family=\"Times New Roman,serif\" font-size=\"14.00\">n</text>\n<polyline fill=\"none\" stroke=\"black\" points=\"1067.5,-84 1067.5,-119.5\"/>\n<text text-anchor=\"middle\" x=\"1107.38\" y=\"-96.7\" font-family=\"Times New Roman,serif\" font-size=\"14.00\">data 0.7000</text>\n<polyline fill=\"none\" stroke=\"black\" points=\"1147.25,-84 1147.25,-119.5\"/>\n<text text-anchor=\"middle\" x=\"1187.88\" y=\"-96.7\" font-family=\"Times New Roman,serif\" font-size=\"14.00\">grad 0.6347</text>\n</g>\n<!-- 2707072514064&#45;&gt;2707072506384* -->\n<g id=\"edge12\" class=\"edge\">\n<title>2707072514064&#45;&gt;2707072506384*</title>\n<path fill=\"none\" stroke=\"black\" d=\"M1228.76,-84.81C1237.59,-83.19 1246.15,-81.62 1253.94,-80.2\"/>\n<polygon fill=\"black\" stroke=\"black\" points=\"1254.42,-83.67 1263.63,-78.42 1253.16,-76.78 1254.42,-83.67\"/>\n</g>\n<!-- 2707072514064+ -->\n<g id=\"node4\" class=\"node\">\n<title>2707072514064+</title>\n<ellipse fill=\"none\" stroke=\"black\" cx=\"981.75\" cy=\"-101.5\" rx=\"27\" ry=\"18\"/>\n<text text-anchor=\"middle\" x=\"981.75\" y=\"-96.45\" font-family=\"Times New Roman,serif\" font-size=\"14.00\">+</text>\n</g>\n<!-- 2707072514064+&#45;&gt;2707072514064 -->\n<g id=\"edge2\" class=\"edge\">\n<title>2707072514064+&#45;&gt;2707072514064</title>\n<path fill=\"none\" stroke=\"black\" d=\"M1009.03,-101.5C1016.17,-101.5 1024.36,-101.5 1033.07,-101.5\"/>\n<polygon fill=\"black\" stroke=\"black\" points=\"1032.81,-105 1042.81,-101.5 1032.81,-98 1032.81,-105\"/>\n</g>\n<!-- 2707068451344 -->\n<g id=\"node5\" class=\"node\">\n<title>2707068451344</title>\n<polygon fill=\"none\" stroke=\"black\" points=\"1662.38,-55.5 1662.38,-91.5 1845.38,-91.5 1845.38,-55.5 1662.38,-55.5\"/>\n<text text-anchor=\"middle\" x=\"1673.38\" y=\"-68.7\" font-family=\"Times New Roman,serif\" font-size=\"14.00\">e</text>\n<polyline fill=\"none\" stroke=\"black\" points=\"1684.38,-56 1684.38,-91.5\"/>\n<text text-anchor=\"middle\" x=\"1724.25\" y=\"-68.7\" font-family=\"Times New Roman,serif\" font-size=\"14.00\">data 4.0552</text>\n<polyline fill=\"none\" stroke=\"black\" points=\"1764.12,-56 1764.12,-91.5\"/>\n<text text-anchor=\"middle\" x=\"1804.75\" y=\"-68.7\" font-family=\"Times New Roman,serif\" font-size=\"14.00\">grad 0.0783</text>\n</g>\n<!-- 2707072513808+ -->\n<g id=\"node19\" class=\"node\">\n<title>2707072513808+</title>\n<ellipse fill=\"none\" stroke=\"black\" cx=\"1909.5\" cy=\"-45.5\" rx=\"27\" ry=\"18\"/>\n<text text-anchor=\"middle\" x=\"1909.5\" y=\"-40.45\" font-family=\"Times New Roman,serif\" font-size=\"14.00\">+</text>\n</g>\n<!-- 2707068451344&#45;&gt;2707072513808+ -->\n<g id=\"edge28\" class=\"edge\">\n<title>2707068451344&#45;&gt;2707072513808+</title>\n<path fill=\"none\" stroke=\"black\" d=\"M1845.57,-56.97C1854.82,-55.28 1863.8,-53.65 1871.94,-52.16\"/>\n<polygon fill=\"black\" stroke=\"black\" points=\"1872.49,-55.62 1881.7,-50.38 1871.23,-48.73 1872.49,-55.62\"/>\n</g>\n<!-- 2707072504272+ -->\n<g id=\"node26\" class=\"node\">\n<title>2707072504272+</title>\n<ellipse fill=\"none\" stroke=\"black\" cx=\"1909.5\" cy=\"-100.5\" rx=\"27\" ry=\"18\"/>\n<text text-anchor=\"middle\" x=\"1909.5\" y=\"-95.45\" font-family=\"Times New Roman,serif\" font-size=\"14.00\">+</text>\n</g>\n<!-- 2707068451344&#45;&gt;2707072504272+ -->\n<g id=\"edge17\" class=\"edge\">\n<title>2707068451344&#45;&gt;2707072504272+</title>\n<path fill=\"none\" stroke=\"black\" d=\"M1845.57,-89.44C1854.74,-91.05 1863.63,-92.61 1871.7,-94.03\"/>\n<polygon fill=\"black\" stroke=\"black\" points=\"1870.94,-97.45 1881.39,-95.74 1872.15,-90.56 1870.94,-97.45\"/>\n</g>\n<!-- 2707068451344exp&#45;&gt;2707068451344 -->\n<g id=\"edge3\" class=\"edge\">\n<title>2707068451344exp&#45;&gt;2707068451344</title>\n<path fill=\"none\" stroke=\"black\" d=\"M1625.66,-73.5C1633.1,-73.5 1641.67,-73.5 1650.77,-73.5\"/>\n<polygon fill=\"black\" stroke=\"black\" points=\"1650.59,-77 1660.59,-73.5 1650.59,-70 1650.59,-77\"/>\n</g>\n<!-- 2707072507920 -->\n<g id=\"node7\" class=\"node\">\n<title>2707072507920</title>\n<polygon fill=\"none\" stroke=\"black\" points=\"661.5,-111.5 661.5,-147.5 918.75,-147.5 918.75,-111.5 661.5,-111.5\"/>\n<text text-anchor=\"middle\" x=\"707.38\" y=\"-124.7\" font-family=\"Times New Roman,serif\" font-size=\"14.00\">x1w1 + x2w2</text>\n<polyline fill=\"none\" stroke=\"black\" points=\"753.25,-112 753.25,-147.5\"/>\n<text text-anchor=\"middle\" x=\"795.38\" y=\"-124.7\" font-family=\"Times New Roman,serif\" font-size=\"14.00\">data &#45;6.0000</text>\n<polyline fill=\"none\" stroke=\"black\" points=\"837.5,-112 837.5,-147.5\"/>\n<text text-anchor=\"middle\" x=\"878.12\" y=\"-124.7\" font-family=\"Times New Roman,serif\" font-size=\"14.00\">grad 0.6347</text>\n</g>\n<!-- 2707072507920&#45;&gt;2707072514064+ -->\n<g id=\"edge11\" class=\"edge\">\n<title>2707072507920&#45;&gt;2707072514064+</title>\n<path fill=\"none\" stroke=\"black\" d=\"M916.29,-111.02C926.15,-109.56 935.53,-108.18 943.92,-106.94\"/>\n<polygon fill=\"black\" stroke=\"black\" points=\"944.19,-110.44 953.58,-105.51 943.17,-103.51 944.19,-110.44\"/>\n</g>\n<!-- 2707072507920+ -->\n<g id=\"node8\" class=\"node\">\n<title>2707072507920+</title>\n<ellipse fill=\"none\" stroke=\"black\" cx=\"598.5\" cy=\"-129.5\" rx=\"27\" ry=\"18\"/>\n<text text-anchor=\"middle\" x=\"598.5\" y=\"-124.45\" font-family=\"Times New Roman,serif\" font-size=\"14.00\">+</text>\n</g>\n<!-- 2707072507920+&#45;&gt;2707072507920 -->\n<g id=\"edge4\" class=\"edge\">\n<title>2707072507920+&#45;&gt;2707072507920</title>\n<path fill=\"none\" stroke=\"black\" d=\"M625.87,-129.5C632.88,-129.5 640.96,-129.5 649.7,-129.5\"/>\n<polygon fill=\"black\" stroke=\"black\" points=\"649.57,-133 659.57,-129.5 649.57,-126 649.57,-133\"/>\n</g>\n<!-- 2707072509008 -->\n<g id=\"node9\" class=\"node\">\n<title>2707072509008</title>\n<polygon fill=\"none\" stroke=\"black\" points=\"326.25,-139.5 326.25,-175.5 533.25,-175.5 533.25,-139.5 326.25,-139.5\"/>\n<text text-anchor=\"middle\" x=\"349.25\" y=\"-152.7\" font-family=\"Times New Roman,serif\" font-size=\"14.00\">x2w2</text>\n<polyline fill=\"none\" stroke=\"black\" points=\"372.25,-140 372.25,-175.5\"/>\n<text text-anchor=\"middle\" x=\"412.12\" y=\"-152.7\" font-family=\"Times New Roman,serif\" font-size=\"14.00\">data 0.0000</text>\n<polyline fill=\"none\" stroke=\"black\" points=\"452,-140 452,-175.5\"/>\n<text text-anchor=\"middle\" x=\"492.62\" y=\"-152.7\" font-family=\"Times New Roman,serif\" font-size=\"14.00\">grad 0.6347</text>\n</g>\n<!-- 2707072509008&#45;&gt;2707072507920+ -->\n<g id=\"edge16\" class=\"edge\">\n<title>2707072509008&#45;&gt;2707072507920+</title>\n<path fill=\"none\" stroke=\"black\" d=\"M533.51,-140.25C543.16,-138.62 552.45,-137.06 560.82,-135.66\"/>\n<polygon fill=\"black\" stroke=\"black\" points=\"561.2,-139.15 570.48,-134.04 560.04,-132.24 561.2,-139.15\"/>\n</g>\n<!-- 2707072509008* -->\n<g id=\"node10\" class=\"node\">\n<title>2707072509008*</title>\n<ellipse fill=\"none\" stroke=\"black\" cx=\"261\" cy=\"-157.5\" rx=\"27\" ry=\"18\"/>\n<text text-anchor=\"middle\" x=\"261\" y=\"-152.45\" font-family=\"Times New Roman,serif\" font-size=\"14.00\">*</text>\n</g>\n<!-- 2707072509008*&#45;&gt;2707072509008 -->\n<g id=\"edge5\" class=\"edge\">\n<title>2707072509008*&#45;&gt;2707072509008</title>\n<path fill=\"none\" stroke=\"black\" d=\"M288.42,-157.5C296.08,-157.5 304.96,-157.5 314.47,-157.5\"/>\n<polygon fill=\"black\" stroke=\"black\" points=\"314.37,-161 324.37,-157.5 314.37,-154 314.37,-161\"/>\n</g>\n<!-- 2707072502672 -->\n<g id=\"node11\" class=\"node\">\n<title>2707072502672</title>\n<polygon fill=\"none\" stroke=\"black\" points=\"2.25,-194.5 2.25,-230.5 195.75,-230.5 195.75,-194.5 2.25,-194.5\"/>\n<text text-anchor=\"middle\" x=\"18.5\" y=\"-207.7\" font-family=\"Times New Roman,serif\" font-size=\"14.00\">w2</text>\n<polyline fill=\"none\" stroke=\"black\" points=\"34.75,-195 34.75,-230.5\"/>\n<text text-anchor=\"middle\" x=\"74.62\" y=\"-207.7\" font-family=\"Times New Roman,serif\" font-size=\"14.00\">data 1.0000</text>\n<polyline fill=\"none\" stroke=\"black\" points=\"114.5,-195 114.5,-230.5\"/>\n<text text-anchor=\"middle\" x=\"155.12\" y=\"-207.7\" font-family=\"Times New Roman,serif\" font-size=\"14.00\">grad 0.0000</text>\n</g>\n<!-- 2707072502672&#45;&gt;2707072509008* -->\n<g id=\"edge18\" class=\"edge\">\n<title>2707072502672&#45;&gt;2707072509008*</title>\n<path fill=\"none\" stroke=\"black\" d=\"M172.12,-194.01C180.9,-191.35 189.7,-188.5 198,-185.5 208.09,-181.86 218.82,-177.27 228.47,-172.88\"/>\n<polygon fill=\"black\" stroke=\"black\" points=\"229.86,-176.09 237.45,-168.69 226.9,-169.75 229.86,-176.09\"/>\n</g>\n<!-- 2707072510544 -->\n<g id=\"node12\" class=\"node\">\n<title>2707072510544</title>\n<polygon fill=\"none\" stroke=\"black\" points=\"324,-84.5 324,-120.5 535.5,-120.5 535.5,-84.5 324,-84.5\"/>\n<text text-anchor=\"middle\" x=\"347\" y=\"-97.7\" font-family=\"Times New Roman,serif\" font-size=\"14.00\">x1w1</text>\n<polyline fill=\"none\" stroke=\"black\" points=\"370,-85 370,-120.5\"/>\n<text text-anchor=\"middle\" x=\"412.12\" y=\"-97.7\" font-family=\"Times New Roman,serif\" font-size=\"14.00\">data &#45;6.0000</text>\n<polyline fill=\"none\" stroke=\"black\" points=\"454.25,-85 454.25,-120.5\"/>\n<text text-anchor=\"middle\" x=\"494.88\" y=\"-97.7\" font-family=\"Times New Roman,serif\" font-size=\"14.00\">grad 0.6347</text>\n</g>\n<!-- 2707072510544&#45;&gt;2707072507920+ -->\n<g id=\"edge19\" class=\"edge\">\n<title>2707072510544&#45;&gt;2707072507920+</title>\n<path fill=\"none\" stroke=\"black\" d=\"M535.88,-119.52C544.59,-120.93 552.96,-122.29 560.56,-123.52\"/>\n<polygon fill=\"black\" stroke=\"black\" points=\"559.91,-126.96 570.34,-125.1 561.03,-120.05 559.91,-126.96\"/>\n</g>\n<!-- 2707072510544* -->\n<g id=\"node13\" class=\"node\">\n<title>2707072510544*</title>\n<ellipse fill=\"none\" stroke=\"black\" cx=\"261\" cy=\"-102.5\" rx=\"27\" ry=\"18\"/>\n<text text-anchor=\"middle\" x=\"261\" y=\"-97.45\" font-family=\"Times New Roman,serif\" font-size=\"14.00\">*</text>\n</g>\n<!-- 2707072510544*&#45;&gt;2707072510544 -->\n<g id=\"edge6\" class=\"edge\">\n<title>2707072510544*&#45;&gt;2707072510544</title>\n<path fill=\"none\" stroke=\"black\" d=\"M288.42,-102.5C295.52,-102.5 303.68,-102.5 312.42,-102.5\"/>\n<polygon fill=\"black\" stroke=\"black\" points=\"312.24,-106 322.24,-102.5 312.24,-99 312.24,-106\"/>\n</g>\n<!-- 2707072504912 -->\n<g id=\"node14\" class=\"node\">\n<title>2707072504912</title>\n<polygon fill=\"none\" stroke=\"black\" points=\"1.5,-84.5 1.5,-120.5 196.5,-120.5 196.5,-84.5 1.5,-84.5\"/>\n<text text-anchor=\"middle\" x=\"16.25\" y=\"-97.7\" font-family=\"Times New Roman,serif\" font-size=\"14.00\">x1</text>\n<polyline fill=\"none\" stroke=\"black\" points=\"31,-85 31,-120.5\"/>\n<text text-anchor=\"middle\" x=\"70.88\" y=\"-97.7\" font-family=\"Times New Roman,serif\" font-size=\"14.00\">data 2.0000</text>\n<polyline fill=\"none\" stroke=\"black\" points=\"110.75,-85 110.75,-120.5\"/>\n<text text-anchor=\"middle\" x=\"153.62\" y=\"-97.7\" font-family=\"Times New Roman,serif\" font-size=\"14.00\">grad &#45;1.9042</text>\n</g>\n<!-- 2707072504912&#45;&gt;2707072510544* -->\n<g id=\"edge13\" class=\"edge\">\n<title>2707072504912&#45;&gt;2707072510544*</title>\n<path fill=\"none\" stroke=\"black\" d=\"M196.76,-102.5C205.77,-102.5 214.47,-102.5 222.4,-102.5\"/>\n<polygon fill=\"black\" stroke=\"black\" points=\"222.25,-106 232.25,-102.5 222.25,-99 222.25,-106\"/>\n</g>\n<!-- 2707072503952 -->\n<g id=\"node15\" class=\"node\">\n<title>2707072503952</title>\n<polygon fill=\"none\" stroke=\"black\" points=\"2717.25,-54.5 2717.25,-90.5 2901,-90.5 2901,-54.5 2717.25,-54.5\"/>\n<text text-anchor=\"middle\" x=\"2728.62\" y=\"-67.7\" font-family=\"Times New Roman,serif\" font-size=\"14.00\">o</text>\n<polyline fill=\"none\" stroke=\"black\" points=\"2740,-55 2740,-90.5\"/>\n<text text-anchor=\"middle\" x=\"2779.88\" y=\"-67.7\" font-family=\"Times New Roman,serif\" font-size=\"14.00\">data 0.6044</text>\n<polyline fill=\"none\" stroke=\"black\" points=\"2819.75,-55 2819.75,-90.5\"/>\n<text text-anchor=\"middle\" x=\"2860.38\" y=\"-67.7\" font-family=\"Times New Roman,serif\" font-size=\"14.00\">grad 1.0000</text>\n</g>\n<!-- 2707072503952* -->\n<g id=\"node16\" class=\"node\">\n<title>2707072503952*</title>\n<ellipse fill=\"none\" stroke=\"black\" cx=\"2654.25\" cy=\"-72.5\" rx=\"27\" ry=\"18\"/>\n<text text-anchor=\"middle\" x=\"2654.25\" y=\"-67.45\" font-family=\"Times New Roman,serif\" font-size=\"14.00\">*</text>\n</g>\n<!-- 2707072503952*&#45;&gt;2707072503952 -->\n<g id=\"edge7\" class=\"edge\">\n<title>2707072503952*&#45;&gt;2707072503952</title>\n<path fill=\"none\" stroke=\"black\" d=\"M2681.53,-72.5C2688.67,-72.5 2696.86,-72.5 2705.57,-72.5\"/>\n<polygon fill=\"black\" stroke=\"black\" points=\"2705.31,-76 2715.31,-72.5 2705.31,-69 2705.31,-76\"/>\n</g>\n<!-- 2707049067152 -->\n<g id=\"node17\" class=\"node\">\n<title>2707049067152</title>\n<polygon fill=\"none\" stroke=\"black\" points=\"1661.25,-0.5 1661.25,-36.5 1846.5,-36.5 1846.5,-0.5 1661.25,-0.5\"/>\n<text text-anchor=\"middle\" x=\"1671.12\" y=\"-13.7\" font-family=\"Times New Roman,serif\" font-size=\"14.00\"> </text>\n<polyline fill=\"none\" stroke=\"black\" points=\"1681,-1 1681,-36.5\"/>\n<text text-anchor=\"middle\" x=\"1723.12\" y=\"-13.7\" font-family=\"Times New Roman,serif\" font-size=\"14.00\">data &#45;1.0000</text>\n<polyline fill=\"none\" stroke=\"black\" points=\"1765.25,-1 1765.25,-36.5\"/>\n<text text-anchor=\"middle\" x=\"1805.88\" y=\"-13.7\" font-family=\"Times New Roman,serif\" font-size=\"14.00\">grad 0.1978</text>\n</g>\n<!-- 2707049067152&#45;&gt;2707072513808+ -->\n<g id=\"edge21\" class=\"edge\">\n<title>2707049067152&#45;&gt;2707072513808+</title>\n<path fill=\"none\" stroke=\"black\" d=\"M1846.9,-34.67C1855.64,-36.21 1864.11,-37.7 1871.83,-39.05\"/>\n<polygon fill=\"black\" stroke=\"black\" points=\"1870.95,-42.45 1881.41,-40.74 1872.16,-35.56 1870.95,-42.45\"/>\n</g>\n<!-- 2707072513808 -->\n<g id=\"node18\" class=\"node\">\n<title>2707072513808</title>\n<polygon fill=\"none\" stroke=\"black\" points=\"2193.75,-27.5 2193.75,-63.5 2374.5,-63.5 2374.5,-27.5 2193.75,-27.5\"/>\n<text text-anchor=\"middle\" x=\"2203.62\" y=\"-40.7\" font-family=\"Times New Roman,serif\" font-size=\"14.00\"> </text>\n<polyline fill=\"none\" stroke=\"black\" points=\"2213.5,-28 2213.5,-63.5\"/>\n<text text-anchor=\"middle\" x=\"2253.38\" y=\"-40.7\" font-family=\"Times New Roman,serif\" font-size=\"14.00\">data 3.0552</text>\n<polyline fill=\"none\" stroke=\"black\" points=\"2293.25,-28 2293.25,-63.5\"/>\n<text text-anchor=\"middle\" x=\"2333.88\" y=\"-40.7\" font-family=\"Times New Roman,serif\" font-size=\"14.00\">grad 0.1978</text>\n</g>\n<!-- 2707072513808&#45;&gt;2707072503952* -->\n<g id=\"edge26\" class=\"edge\">\n<title>2707072513808&#45;&gt;2707072503952*</title>\n<path fill=\"none\" stroke=\"black\" d=\"M2374.71,-52.07C2452,-57.74 2559.78,-65.64 2615.92,-69.76\"/>\n<polygon fill=\"black\" stroke=\"black\" points=\"2615.34,-73.23 2625.57,-70.47 2615.85,-66.25 2615.34,-73.23\"/>\n</g>\n<!-- 2707072513808+&#45;&gt;2707072513808 -->\n<g id=\"edge8\" class=\"edge\">\n<title>2707072513808+&#45;&gt;2707072513808</title>\n<path fill=\"none\" stroke=\"black\" d=\"M1937,-45.5C1987.26,-45.5 2098.82,-45.5 2181.78,-45.5\"/>\n<polygon fill=\"black\" stroke=\"black\" points=\"2181.77,-49 2191.77,-45.5 2181.77,-42 2181.77,-49\"/>\n</g>\n<!-- 2707072514832 -->\n<g id=\"node20\" class=\"node\">\n<title>2707072514832</title>\n<polygon fill=\"none\" stroke=\"black\" points=\"0,-29.5 0,-65.5 198,-65.5 198,-29.5 0,-29.5\"/>\n<text text-anchor=\"middle\" x=\"16.25\" y=\"-42.7\" font-family=\"Times New Roman,serif\" font-size=\"14.00\">w1</text>\n<polyline fill=\"none\" stroke=\"black\" points=\"32.5,-30 32.5,-65.5\"/>\n<text text-anchor=\"middle\" x=\"74.62\" y=\"-42.7\" font-family=\"Times New Roman,serif\" font-size=\"14.00\">data &#45;3.0000</text>\n<polyline fill=\"none\" stroke=\"black\" points=\"116.75,-30 116.75,-65.5\"/>\n<text text-anchor=\"middle\" x=\"157.38\" y=\"-42.7\" font-family=\"Times New Roman,serif\" font-size=\"14.00\">grad 1.2695</text>\n</g>\n<!-- 2707072514832&#45;&gt;2707072510544* -->\n<g id=\"edge20\" class=\"edge\">\n<title>2707072514832&#45;&gt;2707072510544*</title>\n<path fill=\"none\" stroke=\"black\" d=\"M168.91,-65.94C178.74,-68.93 188.67,-72.15 198,-75.5 207.96,-79.07 218.58,-83.47 228.18,-87.68\"/>\n<polygon fill=\"black\" stroke=\"black\" points=\"226.54,-90.78 237.1,-91.67 229.4,-84.39 226.54,-90.78\"/>\n</g>\n<!-- 2707072506640 -->\n<g id=\"node21\" class=\"node\">\n<title>2707072506640</title>\n<polygon fill=\"none\" stroke=\"black\" points=\"1661.25,-110.5 1661.25,-146.5 1846.5,-146.5 1846.5,-110.5 1661.25,-110.5\"/>\n<text text-anchor=\"middle\" x=\"1671.12\" y=\"-123.7\" font-family=\"Times New Roman,serif\" font-size=\"14.00\"> </text>\n<polyline fill=\"none\" stroke=\"black\" points=\"1681,-111 1681,-146.5\"/>\n<text text-anchor=\"middle\" x=\"1720.88\" y=\"-123.7\" font-family=\"Times New Roman,serif\" font-size=\"14.00\">data 1.0000</text>\n<polyline fill=\"none\" stroke=\"black\" points=\"1760.75,-111 1760.75,-146.5\"/>\n<text text-anchor=\"middle\" x=\"1803.62\" y=\"-123.7\" font-family=\"Times New Roman,serif\" font-size=\"14.00\">grad &#45;0.1196</text>\n</g>\n<!-- 2707072506640&#45;&gt;2707072504272+ -->\n<g id=\"edge15\" class=\"edge\">\n<title>2707072506640&#45;&gt;2707072504272+</title>\n<path fill=\"none\" stroke=\"black\" d=\"M1846.9,-111.73C1855.64,-110.13 1864.11,-108.59 1871.83,-107.18\"/>\n<polygon fill=\"black\" stroke=\"black\" points=\"1872.2,-110.67 1881.41,-105.44 1870.94,-103.79 1872.2,-110.67\"/>\n</g>\n<!-- 2707072509264 -->\n<g id=\"node22\" class=\"node\">\n<title>2707072509264</title>\n<polygon fill=\"none\" stroke=\"black\" points=\"2410.5,-80.5 2410.5,-116.5 2591.25,-116.5 2591.25,-80.5 2410.5,-80.5\"/>\n<text text-anchor=\"middle\" x=\"2420.38\" y=\"-93.7\" font-family=\"Times New Roman,serif\" font-size=\"14.00\"> </text>\n<polyline fill=\"none\" stroke=\"black\" points=\"2430.25,-81 2430.25,-116.5\"/>\n<text text-anchor=\"middle\" x=\"2470.12\" y=\"-93.7\" font-family=\"Times New Roman,serif\" font-size=\"14.00\">data 0.1978</text>\n<polyline fill=\"none\" stroke=\"black\" points=\"2510,-81 2510,-116.5\"/>\n<text text-anchor=\"middle\" x=\"2550.62\" y=\"-93.7\" font-family=\"Times New Roman,serif\" font-size=\"14.00\">grad 3.0552</text>\n</g>\n<!-- 2707072509264&#45;&gt;2707072503952* -->\n<g id=\"edge25\" class=\"edge\">\n<title>2707072509264&#45;&gt;2707072503952*</title>\n<path fill=\"none\" stroke=\"black\" d=\"M2591.68,-83.08C2600.29,-81.6 2608.64,-80.16 2616.28,-78.85\"/>\n<polygon fill=\"black\" stroke=\"black\" points=\"2616.86,-82.3 2626.12,-77.16 2615.67,-75.4 2616.86,-82.3\"/>\n</g>\n<!-- 2707072509264**&#45;1 -->\n<g id=\"node23\" class=\"node\">\n<title>2707072509264**&#45;1</title>\n<ellipse fill=\"none\" stroke=\"black\" cx=\"2284.12\" cy=\"-100.5\" rx=\"27.81\" ry=\"18\"/>\n<text text-anchor=\"middle\" x=\"2284.12\" y=\"-95.45\" font-family=\"Times New Roman,serif\" font-size=\"14.00\">**&#45;1</text>\n</g>\n<!-- 2707072509264**&#45;1&#45;&gt;2707072509264 -->\n<g id=\"edge9\" class=\"edge\">\n<title>2707072509264**&#45;1&#45;&gt;2707072509264</title>\n<path fill=\"none\" stroke=\"black\" d=\"M2312.32,-100.25C2334.43,-100.04 2367.08,-99.74 2398.97,-99.44\"/>\n<polygon fill=\"black\" stroke=\"black\" points=\"2398.71,-102.94 2408.68,-99.35 2398.65,-95.94 2398.71,-102.94\"/>\n</g>\n<!-- 2707072510864 -->\n<g id=\"node24\" class=\"node\">\n<title>2707072510864</title>\n<polygon fill=\"none\" stroke=\"black\" points=\"3.75,-139.5 3.75,-175.5 194.25,-175.5 194.25,-139.5 3.75,-139.5\"/>\n<text text-anchor=\"middle\" x=\"18.5\" y=\"-152.7\" font-family=\"Times New Roman,serif\" font-size=\"14.00\">x2</text>\n<polyline fill=\"none\" stroke=\"black\" points=\"33.25,-140 33.25,-175.5\"/>\n<text text-anchor=\"middle\" x=\"73.12\" y=\"-152.7\" font-family=\"Times New Roman,serif\" font-size=\"14.00\">data 0.0000</text>\n<polyline fill=\"none\" stroke=\"black\" points=\"113,-140 113,-175.5\"/>\n<text text-anchor=\"middle\" x=\"153.62\" y=\"-152.7\" font-family=\"Times New Roman,serif\" font-size=\"14.00\">grad 0.6347</text>\n</g>\n<!-- 2707072510864&#45;&gt;2707072509008* -->\n<g id=\"edge22\" class=\"edge\">\n<title>2707072510864&#45;&gt;2707072509008*</title>\n<path fill=\"none\" stroke=\"black\" d=\"M194.46,-157.5C204.21,-157.5 213.66,-157.5 222.21,-157.5\"/>\n<polygon fill=\"black\" stroke=\"black\" points=\"222.12,-161 232.12,-157.5 222.12,-154 222.12,-161\"/>\n</g>\n<!-- 2707072504272 -->\n<g id=\"node25\" class=\"node\">\n<title>2707072504272</title>\n<polygon fill=\"none\" stroke=\"black\" points=\"1972.5,-82.5 1972.5,-118.5 2157.75,-118.5 2157.75,-82.5 1972.5,-82.5\"/>\n<text text-anchor=\"middle\" x=\"1982.38\" y=\"-95.7\" font-family=\"Times New Roman,serif\" font-size=\"14.00\"> </text>\n<polyline fill=\"none\" stroke=\"black\" points=\"1992.25,-83 1992.25,-118.5\"/>\n<text text-anchor=\"middle\" x=\"2032.12\" y=\"-95.7\" font-family=\"Times New Roman,serif\" font-size=\"14.00\">data 5.0552</text>\n<polyline fill=\"none\" stroke=\"black\" points=\"2072,-83 2072,-118.5\"/>\n<text text-anchor=\"middle\" x=\"2114.88\" y=\"-95.7\" font-family=\"Times New Roman,serif\" font-size=\"14.00\">grad &#45;0.1196</text>\n</g>\n<!-- 2707072504272&#45;&gt;2707072509264**&#45;1 -->\n<g id=\"edge23\" class=\"edge\">\n<title>2707072504272&#45;&gt;2707072509264**&#45;1</title>\n<path fill=\"none\" stroke=\"black\" d=\"M2158.15,-100.5C2188.39,-100.5 2220.38,-100.5 2244.42,-100.5\"/>\n<polygon fill=\"black\" stroke=\"black\" points=\"2244.37,-104 2254.37,-100.5 2244.37,-97 2244.37,-104\"/>\n</g>\n<!-- 2707072504272+&#45;&gt;2707072504272 -->\n<g id=\"edge10\" class=\"edge\">\n<title>2707072504272+&#45;&gt;2707072504272</title>\n<path fill=\"none\" stroke=\"black\" d=\"M1936.91,-100.5C1943.95,-100.5 1952,-100.5 1960.55,-100.5\"/>\n<polygon fill=\"black\" stroke=\"black\" points=\"1960.54,-104 1970.54,-100.5 1960.54,-97 1960.54,-104\"/>\n</g>\n<!-- 2707072514960 -->\n<g id=\"node27\" class=\"node\">\n<title>2707072514960</title>\n<polygon fill=\"none\" stroke=\"black\" points=\"1046.25,-28.5 1046.25,-64.5 1227,-64.5 1227,-28.5 1046.25,-28.5\"/>\n<text text-anchor=\"middle\" x=\"1056.12\" y=\"-41.7\" font-family=\"Times New Roman,serif\" font-size=\"14.00\"> </text>\n<polyline fill=\"none\" stroke=\"black\" points=\"1066,-29 1066,-64.5\"/>\n<text text-anchor=\"middle\" x=\"1105.88\" y=\"-41.7\" font-family=\"Times New Roman,serif\" font-size=\"14.00\">data 2.0000</text>\n<polyline fill=\"none\" stroke=\"black\" points=\"1145.75,-29 1145.75,-64.5\"/>\n<text text-anchor=\"middle\" x=\"1186.38\" y=\"-41.7\" font-family=\"Times New Roman,serif\" font-size=\"14.00\">grad 0.2222</text>\n</g>\n<!-- 2707072514960&#45;&gt;2707072506384* -->\n<g id=\"edge14\" class=\"edge\">\n<title>2707072514960&#45;&gt;2707072506384*</title>\n<path fill=\"none\" stroke=\"black\" d=\"M1227.44,-62.36C1236.69,-64 1245.68,-65.58 1253.83,-67.02\"/>\n<polygon fill=\"black\" stroke=\"black\" points=\"1253.16,-70.46 1263.62,-68.75 1254.38,-63.57 1253.16,-70.46\"/>\n</g>\n<!-- 2707072513488 -->\n<g id=\"node28\" class=\"node\">\n<title>2707072513488</title>\n<polygon fill=\"none\" stroke=\"black\" points=\"698.25,-56.5 698.25,-92.5 882,-92.5 882,-56.5 698.25,-56.5\"/>\n<text text-anchor=\"middle\" x=\"709.62\" y=\"-69.7\" font-family=\"Times New Roman,serif\" font-size=\"14.00\">b</text>\n<polyline fill=\"none\" stroke=\"black\" points=\"721,-57 721,-92.5\"/>\n<text text-anchor=\"middle\" x=\"760.88\" y=\"-69.7\" font-family=\"Times New Roman,serif\" font-size=\"14.00\">data 6.7000</text>\n<polyline fill=\"none\" stroke=\"black\" points=\"800.75,-57 800.75,-92.5\"/>\n<text text-anchor=\"middle\" x=\"841.38\" y=\"-69.7\" font-family=\"Times New Roman,serif\" font-size=\"14.00\">grad 0.6347</text>\n</g>\n<!-- 2707072513488&#45;&gt;2707072514064+ -->\n<g id=\"edge27\" class=\"edge\">\n<title>2707072513488&#45;&gt;2707072514064+</title>\n<path fill=\"none\" stroke=\"black\" d=\"M882.33,-87.49C904.17,-90.6 926.27,-93.74 943.98,-96.26\"/>\n<polygon fill=\"black\" stroke=\"black\" points=\"943.32,-99.71 953.71,-97.65 944.3,-92.78 943.32,-99.71\"/>\n</g>\n</g>\n</svg>\n",
      "text/plain": [
       "<graphviz.graphs.Digraph at 0x2764a1871d0>"
      ]
     },
     "execution_count": 180,
     "metadata": {},
     "output_type": "execute_result"
    }
   ],
   "execution_count": 180
  },
  {
   "metadata": {
    "ExecuteTime": {
     "end_time": "2025-02-02T15:03:54.894040Z",
     "start_time": "2025-02-02T15:03:54.891478Z"
    }
   },
   "cell_type": "code",
   "source": "import torch",
   "id": "a13415c059cd7675",
   "outputs": [],
   "execution_count": 181
  },
  {
   "metadata": {
    "ExecuteTime": {
     "end_time": "2025-02-02T15:03:54.903236Z",
     "start_time": "2025-02-02T15:03:54.899346Z"
    }
   },
   "cell_type": "code",
   "source": [
    "x1 = torch.tensor([2.0], requires_grad=True)\n",
    "x2 = torch.tensor([0.0], requires_grad=True)\n",
    "w1 = torch.tensor([-3.0], requires_grad=True)\n",
    "w2 = torch.tensor([1.0], requires_grad=True)\n",
    "b = torch.tensor([6.7], requires_grad=True)\n",
    "n = x1*w1 + x2*w2 + b\n",
    "o = torch.tanh(n)\n",
    "print(o.data.item())\n",
    "o.backward()\n",
    "print(x1.grad.item())\n",
    "print(x2.grad.item())\n",
    "print(w1.grad.item())\n",
    "print(w2.grad.item())"
   ],
   "id": "dfe37e25cd6958e6",
   "outputs": [
    {
     "name": "stdout",
     "output_type": "stream",
     "text": [
      "0.6043676733970642\n",
      "-1.9042192697525024\n",
      "0.6347397565841675\n",
      "1.269479513168335\n",
      "0.0\n"
     ]
    }
   ],
   "execution_count": 182
  },
  {
   "metadata": {
    "ExecuteTime": {
     "end_time": "2025-02-02T15:03:54.921801Z",
     "start_time": "2025-02-02T15:03:54.918188Z"
    }
   },
   "cell_type": "code",
   "source": "import random",
   "id": "aa5558fab197d22c",
   "outputs": [],
   "execution_count": 183
  },
  {
   "metadata": {
    "ExecuteTime": {
     "end_time": "2025-02-02T15:03:54.935140Z",
     "start_time": "2025-02-02T15:03:54.929714Z"
    }
   },
   "cell_type": "code",
   "source": [
    "class Neuron:\n",
    "    def __init__(self, nin):\n",
    "        self.w = [Value(random.uniform(-1, 1)) for _ in range(nin)]\n",
    "        self.b = Value(random.uniform(-1, 1))\n",
    "\n",
    "    def __call__(self, x):\n",
    "        act = sum((wi*xi for wi, xi in zip(self.w, x)), self.b)\n",
    "        out = act.tanh()\n",
    "        return out\n",
    "\n",
    "    def parameters(self):\n",
    "        return self.w + [self.b]\n",
    "\n",
    "class Layer:\n",
    "    def __init__(self, nin, nout):\n",
    "        self.neurons = [Neuron(nin) for _ in range(nout)]\n",
    "\n",
    "    def __call__(self, x):\n",
    "        outs = [neuron(x) for neuron in self.neurons]\n",
    "        return outs[0] if len(outs) == 1 else outs\n",
    "\n",
    "    def parameters(self):\n",
    "        return [p for n in self.neurons for p in n.parameters()]\n",
    "\n",
    "class MLP:\n",
    "    def __init__(self, nin, nouts):\n",
    "        self.layers = [Layer(nin, nouts[0])]\n",
    "        self.layers += [Layer(nouts[i], nouts[i+1]) for i in range(len(nouts)-1)]\n",
    "\n",
    "    def __call__(self, x):\n",
    "        for layer in self.layers:\n",
    "            x = layer(x)\n",
    "        return x\n",
    "\n",
    "    def parameters(self):\n",
    "        return [p for layer in self.layers for p in layer.parameters()]"
   ],
   "id": "ccf96ede188f18b2",
   "outputs": [],
   "execution_count": 184
  },
  {
   "metadata": {
    "ExecuteTime": {
     "end_time": "2025-02-02T15:03:54.945198Z",
     "start_time": "2025-02-02T15:03:54.941747Z"
    }
   },
   "cell_type": "code",
   "source": [
    "\n",
    "x = [2.0, 3.0, -1.0]\n",
    "n = MLP(3, [4, 4, 1])\n",
    "n(x)"
   ],
   "id": "f915270ac6f6c4a8",
   "outputs": [
    {
     "data": {
      "text/plain": [
       "Value(data=0.7299973818078337)"
      ]
     },
     "execution_count": 185,
     "metadata": {},
     "output_type": "execute_result"
    }
   ],
   "execution_count": 185
  },
  {
   "metadata": {
    "ExecuteTime": {
     "end_time": "2025-02-02T15:03:54.967295Z",
     "start_time": "2025-02-02T15:03:54.963385Z"
    }
   },
   "cell_type": "code",
   "source": "n.parameters()",
   "id": "b5a8285bb4b2423c",
   "outputs": [
    {
     "data": {
      "text/plain": [
       "[Value(data=-0.8498094815696999),\n",
       " Value(data=-0.775754624972059),\n",
       " Value(data=-0.08360382989155002),\n",
       " Value(data=0.44217579913573),\n",
       " Value(data=0.14763054266734055),\n",
       " Value(data=0.875648980679889),\n",
       " Value(data=0.4636619093233685),\n",
       " Value(data=-0.6694851335964389),\n",
       " Value(data=-0.2879518345656136),\n",
       " Value(data=0.1872879703176571),\n",
       " Value(data=-0.7766531664987246),\n",
       " Value(data=0.4504747167874472),\n",
       " Value(data=0.24527350111555113),\n",
       " Value(data=-0.8096291058460976),\n",
       " Value(data=-0.21458923172384115),\n",
       " Value(data=-0.2687051447895876),\n",
       " Value(data=-0.5253241176749459),\n",
       " Value(data=0.19841653353499789),\n",
       " Value(data=0.4447657718326983),\n",
       " Value(data=-0.5545232535147604),\n",
       " Value(data=-0.5476799722526873),\n",
       " Value(data=0.9779079318845716),\n",
       " Value(data=-0.6057757566706903),\n",
       " Value(data=0.8110499737422938),\n",
       " Value(data=0.020734983644251193),\n",
       " Value(data=-0.8889184465000031),\n",
       " Value(data=0.4075406910386774),\n",
       " Value(data=0.2071117550044541),\n",
       " Value(data=-0.7090390224024254),\n",
       " Value(data=0.02339483196261538),\n",
       " Value(data=0.09370229597803359),\n",
       " Value(data=-0.17270677444785787),\n",
       " Value(data=0.44911064381115384),\n",
       " Value(data=-0.7519491085773307),\n",
       " Value(data=0.8426537539261649),\n",
       " Value(data=0.4785393928344166),\n",
       " Value(data=0.6090136454717188),\n",
       " Value(data=-0.36905712764884924),\n",
       " Value(data=-0.9286668757308798),\n",
       " Value(data=0.8752474991617349),\n",
       " Value(data=-0.17479422208006112)]"
      ]
     },
     "execution_count": 186,
     "metadata": {},
     "output_type": "execute_result"
    }
   ],
   "execution_count": 186
  },
  {
   "metadata": {
    "ExecuteTime": {
     "end_time": "2025-02-02T15:03:54.982043Z",
     "start_time": "2025-02-02T15:03:54.972934Z"
    }
   },
   "cell_type": "code",
   "source": [
    "xs = [\n",
    "    [2.0, 3.0, -1.0],\n",
    "    [1.0, -2.0, 0.0],\n",
    "    [-1.0, 1.0, 2.0],\n",
    "    [0.0, 2.0, -2.0]\n",
    "]\n",
    "ys = [1.0, -1.0, 1.0, -1.0]\n",
    "ypred = [n(x) for x in xs]\n",
    "ypred"
   ],
   "id": "8ec64d8d67bc986e",
   "outputs": [
    {
     "data": {
      "text/plain": [
       "[Value(data=0.7299973818078337),\n",
       " Value(data=-0.5549709692184621),\n",
       " Value(data=-0.28433831442507773),\n",
       " Value(data=0.5154100436491982)]"
      ]
     },
     "execution_count": 187,
     "metadata": {},
     "output_type": "execute_result"
    }
   ],
   "execution_count": 187
  },
  {
   "metadata": {
    "ExecuteTime": {
     "end_time": "2025-02-02T15:04:16.214695Z",
     "start_time": "2025-02-02T15:04:16.201396Z"
    }
   },
   "cell_type": "code",
   "source": [
    "for k in range(10):\n",
    "    ypred = [n(x) for x in xs]\n",
    "    loss = sum((yi - ypi)**2 for yi, ypi in zip(ys, ypred))\n",
    "\n",
    "    for p in n.parameters():\n",
    "        p.grad = 0.0\n",
    "    loss.backward()\n",
    "\n",
    "    for p in n.parameters():\n",
    "        p.data += -0.01 * p.grad\n",
    "\n",
    "    print(k, loss.data)"
   ],
   "id": "91d2b9dd5931776",
   "outputs": [
    {
     "name": "stdout",
     "output_type": "stream",
     "text": [
      "0 0.010587052243018442\n",
      "1 0.010427635966778266\n",
      "2 0.010274096411186878\n",
      "3 0.010126093949152403\n",
      "4 0.0099833152513191\n",
      "5 0.009845470760212988\n",
      "6 0.009712292451882185\n",
      "7 0.009583531847411036\n",
      "8 0.009458958242228812\n",
      "9 0.00933835712576486\n"
     ]
    }
   ],
   "execution_count": 203
  },
  {
   "metadata": {
    "ExecuteTime": {
     "end_time": "2025-02-02T15:04:06.553488Z",
     "start_time": "2025-02-02T15:04:06.546684Z"
    }
   },
   "cell_type": "code",
   "source": [
    "loss = sum((yi - ypi)**2 for yi, ypi in zip(ys, ypred))\n",
    "loss"
   ],
   "id": "158255303e7f7c0e",
   "outputs": [
    {
     "data": {
      "text/plain": [
       "Value(data=0.024255501950199074)"
      ]
     },
     "execution_count": 199,
     "metadata": {},
     "output_type": "execute_result"
    }
   ],
   "execution_count": 199
  },
  {
   "metadata": {
    "ExecuteTime": {
     "end_time": "2025-02-02T15:03:55.027855Z",
     "start_time": "2025-02-02T15:03:55.019553Z"
    }
   },
   "cell_type": "code",
   "source": "loss.backward()",
   "id": "5c63ac477a73f711",
   "outputs": [],
   "execution_count": 190
  },
  {
   "metadata": {
    "ExecuteTime": {
     "end_time": "2025-02-02T15:03:55.053093Z",
     "start_time": "2025-02-02T15:03:55.048702Z"
    }
   },
   "cell_type": "code",
   "source": "n.layers[0].neurons[0].w[0].grad",
   "id": "235f739e573a9719",
   "outputs": [
    {
     "data": {
      "text/plain": [
       "-7.199186144251154"
      ]
     },
     "execution_count": 191,
     "metadata": {},
     "output_type": "execute_result"
    }
   ],
   "execution_count": 191
  },
  {
   "metadata": {
    "ExecuteTime": {
     "end_time": "2025-02-02T15:03:55.073770Z",
     "start_time": "2025-02-02T15:03:55.064683Z"
    }
   },
   "cell_type": "code",
   "source": "n.layers[0].neurons[0].w[0].data",
   "id": "a947f344e8b503b8",
   "outputs": [
    {
     "data": {
      "text/plain": [
       "-0.7519577095970786"
      ]
     },
     "execution_count": 192,
     "metadata": {},
     "output_type": "execute_result"
    }
   ],
   "execution_count": 192
  },
  {
   "metadata": {
    "ExecuteTime": {
     "end_time": "2025-02-02T15:03:55.091311Z",
     "start_time": "2025-02-02T15:03:55.080523Z"
    }
   },
   "cell_type": "code",
   "source": [
    "for p in n.parameters():\n",
    "    p.data += -0.01 * p.grad"
   ],
   "id": "f255c3f851fdc555",
   "outputs": [],
   "execution_count": 193
  },
  {
   "metadata": {
    "ExecuteTime": {
     "end_time": "2025-02-02T15:03:55.106806Z",
     "start_time": "2025-02-02T15:03:55.103502Z"
    }
   },
   "cell_type": "code",
   "source": "n.layers[0].neurons[0].w[0].data",
   "id": "16f4243f8131b654",
   "outputs": [
    {
     "data": {
      "text/plain": [
       "-0.6799658481545671"
      ]
     },
     "execution_count": 194,
     "metadata": {},
     "output_type": "execute_result"
    }
   ],
   "execution_count": 194
  },
  {
   "metadata": {
    "ExecuteTime": {
     "end_time": "2025-02-02T15:03:55.127546Z",
     "start_time": "2025-02-02T15:03:55.112324Z"
    }
   },
   "cell_type": "code",
   "source": [
    "ypred = [n(x) for x in xs]\n",
    "loss = sum((yi - ypi)**2 for yi, ypi in zip(ys, ypred))\n",
    "loss"
   ],
   "id": "8fe6212a569dc8d8",
   "outputs": [
    {
     "data": {
      "text/plain": [
       "Value(data=0.08080415633109196)"
      ]
     },
     "execution_count": 195,
     "metadata": {},
     "output_type": "execute_result"
    }
   ],
   "execution_count": 195
  },
  {
   "metadata": {
    "ExecuteTime": {
     "end_time": "2025-02-02T15:03:55.145228Z",
     "start_time": "2025-02-02T15:03:55.132911Z"
    }
   },
   "cell_type": "code",
   "source": [
    "ypred = [n(x) for x in xs]\n",
    "loss = sum((yi - ypi)**2 for yi, ypi in zip(ys, ypred))\n",
    "loss"
   ],
   "id": "6863c64776f1f415",
   "outputs": [
    {
     "data": {
      "text/plain": [
       "Value(data=0.08080415633109196)"
      ]
     },
     "execution_count": 196,
     "metadata": {},
     "output_type": "execute_result"
    }
   ],
   "execution_count": 196
  },
  {
   "metadata": {
    "ExecuteTime": {
     "end_time": "2025-02-02T15:03:55.160704Z",
     "start_time": "2025-02-02T15:03:55.150691Z"
    }
   },
   "cell_type": "code",
   "source": [
    "loss.backward()\n",
    "for p in n.parameters():\n",
    "    p.data += -0.01 * p.grad\n",
    "ypred = [n(x) for x in xs]\n",
    "\n",
    "loss = sum((yi - ypi)**2 for yi, ypi in zip(ys, ypred))\n",
    "print(ypred)\n",
    "print(loss)"
   ],
   "id": "f134d4ef58a460d4",
   "outputs": [
    {
     "name": "stdout",
     "output_type": "stream",
     "text": [
      "[Value(data=0.7861524070021242), Value(data=-0.9423442945211771), Value(data=0.9493709836723301), Value(data=-0.9815104483237437)]\n",
      "Value(data=0.05196013422074233)\n"
     ]
    }
   ],
   "execution_count": 197
  }
 ],
 "metadata": {
  "kernelspec": {
   "display_name": "Python 3",
   "language": "python",
   "name": "python3"
  },
  "language_info": {
   "codemirror_mode": {
    "name": "ipython",
    "version": 2
   },
   "file_extension": ".py",
   "mimetype": "text/x-python",
   "name": "python",
   "nbconvert_exporter": "python",
   "pygments_lexer": "ipython2",
   "version": "2.7.6"
  }
 },
 "nbformat": 4,
 "nbformat_minor": 5
}
