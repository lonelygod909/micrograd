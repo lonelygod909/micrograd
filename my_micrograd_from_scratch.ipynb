{
 "cells": [
  {
   "cell_type": "code",
   "id": "initial_id",
   "metadata": {
    "collapsed": true,
    "ExecuteTime": {
     "end_time": "2025-02-02T13:33:34.701626Z",
     "start_time": "2025-02-02T13:33:34.698652Z"
    }
   },
   "source": [
    "import matplotlib.pyplot as plt\n",
    "import numpy as np\n",
    "import math\n",
    "\n",
    "\n",
    "def f(x):\n",
    "    return 3*x**2 - 4*x + 5"
   ],
   "outputs": [],
   "execution_count": 51
  },
  {
   "metadata": {
    "ExecuteTime": {
     "end_time": "2025-02-02T13:33:35.204422Z",
     "start_time": "2025-02-02T13:33:35.200055Z"
    }
   },
   "cell_type": "code",
   "source": "f(3.0)",
   "id": "1e8f91b4a1bc0d39",
   "outputs": [
    {
     "data": {
      "text/plain": [
       "20.0"
      ]
     },
     "execution_count": 52,
     "metadata": {},
     "output_type": "execute_result"
    }
   ],
   "execution_count": 52
  },
  {
   "metadata": {
    "ExecuteTime": {
     "end_time": "2025-02-02T13:33:35.664230Z",
     "start_time": "2025-02-02T13:33:35.622956Z"
    }
   },
   "cell_type": "code",
   "source": [
    "x5 = np.arange(-5, -5, 0.25)\n",
    "y5 = f(x5)\n",
    "plt.plot(x5, y5)"
   ],
   "id": "8c1a640711b270c9",
   "outputs": [
    {
     "data": {
      "text/plain": [
       "[<matplotlib.lines.Line2D at 0x276470fc8d0>]"
      ]
     },
     "execution_count": 53,
     "metadata": {},
     "output_type": "execute_result"
    },
    {
     "data": {
      "text/plain": [
       "<Figure size 640x480 with 1 Axes>"
      ],
      "image/png": "[encoded data removed]"
     },
     "metadata": {},
     "output_type": "display_data"
    }
   ],
   "execution_count": 53
  },
  {
   "metadata": {
    "ExecuteTime": {
     "end_time": "2025-02-02T13:33:36.158125Z",
     "start_time": "2025-02-02T13:33:36.153727Z"
    }
   },
   "cell_type": "code",
   "source": [
    "h = 0.00001\n",
    "x = 2 / 3\n",
    "( f(x + h) - f(x) )/ h"
   ],
   "id": "58de9c82fc4aff0a",
   "outputs": [
    {
     "data": {
      "text/plain": [
       "3.0000002482211127e-05"
      ]
     },
     "execution_count": 54,
     "metadata": {},
     "output_type": "execute_result"
    }
   ],
   "execution_count": 54
  },
  {
   "metadata": {
    "ExecuteTime": {
     "end_time": "2025-02-02T13:33:36.731977Z",
     "start_time": "2025-02-02T13:33:36.727294Z"
    }
   },
   "cell_type": "code",
   "source": [
    "a = 2.0\n",
    "b = -3.0\n",
    "c = 10.0\n",
    "d = a*b + c\n",
    "print(d)"
   ],
   "id": "70e811bbe7f76031",
   "outputs": [
    {
     "name": "stdout",
     "output_type": "stream",
     "text": [
      "4.0\n"
     ]
    }
   ],
   "execution_count": 55
  },
  {
   "metadata": {
    "ExecuteTime": {
     "end_time": "2025-02-02T13:33:37.227367Z",
     "start_time": "2025-02-02T13:33:37.222966Z"
    }
   },
   "cell_type": "code",
   "source": [
    "d1 = a*b + c\n",
    "b += h\n",
    "d2 = a*b + c\n",
    "\n",
    "print('d1:', d1)\n",
    "print('d2:', d2)\n",
    "print('slope:', (d2 - d1) / h)"
   ],
   "id": "3dbcfbc72460d170",
   "outputs": [
    {
     "name": "stdout",
     "output_type": "stream",
     "text": [
      "d1: 4.0\n",
      "d2: 4.00002\n",
      "slope: 2.0000000000131024\n"
     ]
    }
   ],
   "execution_count": 56
  },
  {
   "metadata": {
    "ExecuteTime": {
     "end_time": "2025-02-02T13:34:24.728451Z",
     "start_time": "2025-02-02T13:34:24.721139Z"
    }
   },
   "cell_type": "code",
   "source": [
    "class Value:\n",
    "\n",
    "    def __init__(self, data, _children=(), _op='', label=''):\n",
    "        self.data = data\n",
    "        self.grad = 0\n",
    "        self._backward = lambda: None\n",
    "        self._prev = set(_children)\n",
    "        self._op = _op\n",
    "        self.label = label\n",
    "\n",
    "    def __repr__(self):\n",
    "        return f\"Value(data={self.data})\"\n",
    "\n",
    "    def __add__(self, other):\n",
    "        other = other if isinstance(other, Value) else Value(other)\n",
    "        out = Value(self.data + other.data, (self, other), '+')\n",
    "        def _backward():\n",
    "            self.grad += 1 * out.grad\n",
    "            other.grad += 1 * out.grad\n",
    "        out._backward = _backward\n",
    "        return out\n",
    "\n",
    "    def __radd__(self, other):\n",
    "        return self.__add__(other)\n",
    "\n",
    "    def __mul__(self, other):\n",
    "        other = other if isinstance(other, Value) else Value(other)\n",
    "        out = Value(self.data * other.data, (self, other), '*')\n",
    "        def _backward():\n",
    "            self.grad += other.data * out.grad\n",
    "            other.grad += self.data * out.grad\n",
    "        out._backward = _backward\n",
    "        return out\n",
    "\n",
    "    def __rmul__(self, other):\n",
    "        return self.__mul__(other)\n",
    "\n",
    "    def __pow__(self, other):\n",
    "        other = other if isinstance(other, Value) else Value(other)\n",
    "        out = Value(self.data ** other.data, (self, ), f\"**{other.data}\")\n",
    "        def _backward():\n",
    "            self.grad += other.data * self.data ** (other.data - 1) * out.grad\n",
    "\n",
    "        out._backward = _backward\n",
    "        return out\n",
    "\n",
    "    def __truediv__(self, other):\n",
    "        return self * (other**-1)\n",
    "\n",
    "    def __neg__(self):\n",
    "        return self * -1\n",
    "\n",
    "    def __sub__(self, other):\n",
    "        return self + (-other)\n",
    "\n",
    "    def __rsub__(self, other):\n",
    "        return other + (-self)\n",
    "\n",
    "    def tanh(self):\n",
    "        n = self.data\n",
    "        t = (math.exp(n) - math.exp(-n)) / (math.exp(n) + math.exp(-n))\n",
    "        out = Value(t, (self,), 'tanh')\n",
    "        def _backward():\n",
    "            self.grad += (1 - t**2) * out.grad\n",
    "        out._backward = _backward\n",
    "        return out\n",
    "\n",
    "    def exp(self):\n",
    "        out = Value(math.exp(self.data), (self,), 'exp')\n",
    "        def _backward():\n",
    "            self.grad += out.data * out.grad\n",
    "        out._backward = _backward\n",
    "        return out\n",
    "\n",
    "    def backward(self):\n",
    "        self.grad = 1.0\n",
    "        topo =[]\n",
    "        visited = set()\n",
    "        def build_topo(v):\n",
    "            if v not in visited:\n",
    "                visited.add(v)\n",
    "                for child in v._prev:\n",
    "                    build_topo(child)\n",
    "                topo.append(v)\n",
    "        build_topo(self) # build topological order\n",
    "\n",
    "        for node in reversed(topo):\n",
    "            node._backward()"
   ],
   "id": "8b986f38f79f52f",
   "outputs": [],
   "execution_count": 76
  },
  {
   "metadata": {
    "ExecuteTime": {
     "end_time": "2025-02-02T13:34:24.942377Z",
     "start_time": "2025-02-02T13:34:24.937420Z"
    }
   },
   "cell_type": "code",
   "source": [
    "a = Value(2.0)\n",
    "b = Value(-3.0)\n",
    "a / b"
   ],
   "id": "23429827369acce6",
   "outputs": [
    {
     "data": {
      "text/plain": [
       "Value(data=-0.6666666666666666)"
      ]
     },
     "execution_count": 77,
     "metadata": {},
     "output_type": "execute_result"
    }
   ],
   "execution_count": 77
  },
  {
   "metadata": {
    "ExecuteTime": {
     "end_time": "2025-02-02T13:34:25.126603Z",
     "start_time": "2025-02-02T13:34:25.121193Z"
    }
   },
   "cell_type": "code",
   "source": [
    "from graphviz import Digraph\n",
    "\n",
    "def trace(root):\n",
    "    nodes, edges = set(), set()\n",
    "    def build(v):\n",
    "        if v not in nodes:\n",
    "            nodes.add(v)\n",
    "            for child in v._prev:\n",
    "                edges.add((child, v))\n",
    "                build(child)\n",
    "    build(root)\n",
    "    return nodes, edges\n",
    "\n",
    "def draw_dot(root):\n",
    "    dot = Digraph(format='svg', graph_attr={'rankdir': 'LR'})\n",
    "    nodes, edges = trace(root)\n",
    "    for n in nodes:\n",
    "        uid = str(id(n))\n",
    "        dot.node(name=uid, label=\"{ %s | data %.4f | grad %.4f}\" % (n.label, n.data, n.grad), shape='record')\n",
    "        if n._op:\n",
    "            dot.node (name=uid + n._op, label=n._op)\n",
    "            dot.edge(uid + n._op, uid)\n",
    "    for n1, n2 in edges:\n",
    "        dot.edge(str(id(n1)), str(id(n2)) + n2._op)\n",
    "\n",
    "    return dot"
   ],
   "id": "c6ab3f9d32af2609",
   "outputs": [],
   "execution_count": 78
  },
  {
   "metadata": {
    "ExecuteTime": {
     "end_time": "2025-02-02T13:34:25.301950Z",
     "start_time": "2025-02-02T13:34:25.297152Z"
    }
   },
   "cell_type": "code",
   "source": [
    "def lol():\n",
    "\n",
    "    h = 0.0001\n",
    "\n",
    "    a = Value(2.0, label='a')\n",
    "    b = Value(-3.0, label='b')\n",
    "    c = Value(10.0, label='c')\n",
    "    e = a*b; e.label = 'e'\n",
    "    d = e + c; d.label = 'd'\n",
    "    f = Value(2.0, label='f')\n",
    "    L = d * f; L.label = 'L'\n",
    "    L1 = L\n",
    "\n",
    "    a = Value(2.0 + h, label='a')\n",
    "    b = Value(-3.0, label='b')\n",
    "    c = Value(10.0, label='c')\n",
    "    e = a*b; e.label = 'e'\n",
    "    d = e + c; d.label = 'd'\n",
    "    f = Value(2.0, label='f')\n",
    "    L = d * f; L.label = 'L'\n",
    "    L2 = L\n",
    "\n",
    "    print((L1.data - L2.data) / h)\n",
    "lol()"
   ],
   "id": "7af397e9212f9c62",
   "outputs": [
    {
     "name": "stdout",
     "output_type": "stream",
     "text": [
      "6.000000000021544\n"
     ]
    }
   ],
   "execution_count": 79
  },
  {
   "metadata": {
    "ExecuteTime": {
     "end_time": "2025-02-02T13:34:25.471035Z",
     "start_time": "2025-02-02T13:34:25.467457Z"
    }
   },
   "cell_type": "code",
   "source": [
    "a = Value(2.0 + h, label='a')\n",
    "b = Value(-3.0, label='b')\n",
    "c = Value(10.0, label='c')\n",
    "e = a*b; e.label = 'e'\n",
    "d = e + c; d.label = 'd'\n",
    "f = Value(2.0, label='f')\n",
    "L = d * f; L.label = 'L'"
   ],
   "id": "525e6b877d76d9a5",
   "outputs": [],
   "execution_count": 80
  },
  {
   "metadata": {
    "ExecuteTime": {
     "end_time": "2025-02-02T13:34:25.730888Z",
     "start_time": "2025-02-02T13:34:25.645556Z"
    }
   },
   "cell_type": "code",
   "source": "draw_dot(L)",
   "id": "1e2793970b6ba1c",
   "outputs": [
    {
     "data": {
      "image/svg+xml": "<?xml version=\"1.0\" encoding=\"UTF-8\" standalone=\"no\"?>\n<!DOCTYPE svg PUBLIC \"-//W3C//DTD SVG 1.1//EN\"\n \"http://www.w3.org/Graphics/SVG/1.1/DTD/svg11.dtd\">\n<!-- Generated by graphviz version 12.2.1 (20241206.2353)\n -->\n<!-- Pages: 1 -->\n<svg width=\"1133pt\" height=\"154pt\"\n viewBox=\"0.00 0.00 1133.00 154.00\" xmlns=\"http://www.w3.org/2000/svg\" xmlns:xlink=\"http://www.w3.org/1999/xlink\">\n<g id=\"graph0\" class=\"graph\" transform=\"scale(1 1) rotate(0) translate(4 150)\">\n<polygon fill=\"white\" stroke=\"none\" points=\"-4,4 -4,-150 1129,-150 1129,4 -4,4\"/>\n<!-- 2707068117456 -->\n<g id=\"node1\" class=\"node\">\n<title>2707068117456</title>\n<polygon fill=\"none\" stroke=\"black\" points=\"631.12,-109.5 631.12,-145.5 812.62,-145.5 812.62,-109.5 631.12,-109.5\"/>\n<text text-anchor=\"middle\" x=\"641.38\" y=\"-122.7\" font-family=\"Times New Roman,serif\" font-size=\"14.00\">f</text>\n<polyline fill=\"none\" stroke=\"black\" points=\"651.62,-110 651.62,-145.5\"/>\n<text text-anchor=\"middle\" x=\"691.5\" y=\"-122.7\" font-family=\"Times New Roman,serif\" font-size=\"14.00\">data 2.0000</text>\n<polyline fill=\"none\" stroke=\"black\" points=\"731.38,-110 731.38,-145.5\"/>\n<text text-anchor=\"middle\" x=\"772\" y=\"-122.7\" font-family=\"Times New Roman,serif\" font-size=\"14.00\">grad 0.0000</text>\n</g>\n<!-- 2707068120656* -->\n<g id=\"node3\" class=\"node\">\n<title>2707068120656*</title>\n<ellipse fill=\"none\" stroke=\"black\" cx=\"876.75\" cy=\"-99.5\" rx=\"27\" ry=\"18\"/>\n<text text-anchor=\"middle\" x=\"876.75\" y=\"-94.45\" font-family=\"Times New Roman,serif\" font-size=\"14.00\">*</text>\n</g>\n<!-- 2707068117456&#45;&gt;2707068120656* -->\n<g id=\"edge5\" class=\"edge\">\n<title>2707068117456&#45;&gt;2707068120656*</title>\n<path fill=\"none\" stroke=\"black\" d=\"M812.69,-111.05C821.94,-109.35 830.93,-107.71 839.08,-106.22\"/>\n<polygon fill=\"black\" stroke=\"black\" points=\"839.67,-109.67 848.87,-104.42 838.41,-102.78 839.67,-109.67\"/>\n</g>\n<!-- 2707068120656 -->\n<g id=\"node2\" class=\"node\">\n<title>2707068120656</title>\n<polygon fill=\"none\" stroke=\"black\" points=\"939.75,-81.5 939.75,-117.5 1125,-117.5 1125,-81.5 939.75,-81.5\"/>\n<text text-anchor=\"middle\" x=\"951.88\" y=\"-94.7\" font-family=\"Times New Roman,serif\" font-size=\"14.00\">L</text>\n<polyline fill=\"none\" stroke=\"black\" points=\"964,-82 964,-117.5\"/>\n<text text-anchor=\"middle\" x=\"1003.88\" y=\"-94.7\" font-family=\"Times New Roman,serif\" font-size=\"14.00\">data 7.9999</text>\n<polyline fill=\"none\" stroke=\"black\" points=\"1043.75,-82 1043.75,-117.5\"/>\n<text text-anchor=\"middle\" x=\"1084.38\" y=\"-94.7\" font-family=\"Times New Roman,serif\" font-size=\"14.00\">grad 0.0000</text>\n</g>\n<!-- 2707068120656*&#45;&gt;2707068120656 -->\n<g id=\"edge1\" class=\"edge\">\n<title>2707068120656*&#45;&gt;2707068120656</title>\n<path fill=\"none\" stroke=\"black\" d=\"M904.16,-99.5C911.2,-99.5 919.25,-99.5 927.8,-99.5\"/>\n<polygon fill=\"black\" stroke=\"black\" points=\"927.79,-103 937.79,-99.5 927.79,-96 927.79,-103\"/>\n</g>\n<!-- 2707067328720 -->\n<g id=\"node4\" class=\"node\">\n<title>2707067328720</title>\n<polygon fill=\"none\" stroke=\"black\" points=\"314.25,-82.5 314.25,-118.5 504,-118.5 504,-82.5 314.25,-82.5\"/>\n<text text-anchor=\"middle\" x=\"325.25\" y=\"-95.7\" font-family=\"Times New Roman,serif\" font-size=\"14.00\">c</text>\n<polyline fill=\"none\" stroke=\"black\" points=\"336.25,-83 336.25,-118.5\"/>\n<text text-anchor=\"middle\" x=\"379.5\" y=\"-95.7\" font-family=\"Times New Roman,serif\" font-size=\"14.00\">data 10.0000</text>\n<polyline fill=\"none\" stroke=\"black\" points=\"422.75,-83 422.75,-118.5\"/>\n<text text-anchor=\"middle\" x=\"463.38\" y=\"-95.7\" font-family=\"Times New Roman,serif\" font-size=\"14.00\">grad 0.0000</text>\n</g>\n<!-- 2707068999056+ -->\n<g id=\"node7\" class=\"node\">\n<title>2707068999056+</title>\n<ellipse fill=\"none\" stroke=\"black\" cx=\"567\" cy=\"-72.5\" rx=\"27\" ry=\"18\"/>\n<text text-anchor=\"middle\" x=\"567\" y=\"-67.45\" font-family=\"Times New Roman,serif\" font-size=\"14.00\">+</text>\n</g>\n<!-- 2707067328720&#45;&gt;2707068999056+ -->\n<g id=\"edge9\" class=\"edge\">\n<title>2707067328720&#45;&gt;2707068999056+</title>\n<path fill=\"none\" stroke=\"black\" d=\"M504.39,-83.57C513.16,-81.99 521.65,-80.47 529.37,-79.08\"/>\n<polygon fill=\"black\" stroke=\"black\" points=\"529.73,-82.57 538.95,-77.36 528.49,-75.68 529.73,-82.57\"/>\n</g>\n<!-- 2707012581200 -->\n<g id=\"node5\" class=\"node\">\n<title>2707012581200</title>\n<polygon fill=\"none\" stroke=\"black\" points=\"2.62,-55.5 2.62,-91.5 185.62,-91.5 185.62,-55.5 2.62,-55.5\"/>\n<text text-anchor=\"middle\" x=\"13.62\" y=\"-68.7\" font-family=\"Times New Roman,serif\" font-size=\"14.00\">a</text>\n<polyline fill=\"none\" stroke=\"black\" points=\"24.62,-56 24.62,-91.5\"/>\n<text text-anchor=\"middle\" x=\"64.5\" y=\"-68.7\" font-family=\"Times New Roman,serif\" font-size=\"14.00\">data 2.0000</text>\n<polyline fill=\"none\" stroke=\"black\" points=\"104.38,-56 104.38,-91.5\"/>\n<text text-anchor=\"middle\" x=\"145\" y=\"-68.7\" font-family=\"Times New Roman,serif\" font-size=\"14.00\">grad 0.0000</text>\n</g>\n<!-- 2707069000144* -->\n<g id=\"node10\" class=\"node\">\n<title>2707069000144*</title>\n<ellipse fill=\"none\" stroke=\"black\" cx=\"251.25\" cy=\"-45.5\" rx=\"27\" ry=\"18\"/>\n<text text-anchor=\"middle\" x=\"251.25\" y=\"-40.45\" font-family=\"Times New Roman,serif\" font-size=\"14.00\">*</text>\n</g>\n<!-- 2707012581200&#45;&gt;2707069000144* -->\n<g id=\"edge7\" class=\"edge\">\n<title>2707012581200&#45;&gt;2707069000144*</title>\n<path fill=\"none\" stroke=\"black\" d=\"M185.81,-57.13C195.66,-55.35 205.21,-53.63 213.82,-52.08\"/>\n<polygon fill=\"black\" stroke=\"black\" points=\"214.19,-55.57 223.41,-50.34 212.95,-48.68 214.19,-55.57\"/>\n</g>\n<!-- 2707068999056 -->\n<g id=\"node6\" class=\"node\">\n<title>2707068999056</title>\n<polygon fill=\"none\" stroke=\"black\" points=\"630,-54.5 630,-90.5 813.75,-90.5 813.75,-54.5 630,-54.5\"/>\n<text text-anchor=\"middle\" x=\"641.38\" y=\"-67.7\" font-family=\"Times New Roman,serif\" font-size=\"14.00\">d</text>\n<polyline fill=\"none\" stroke=\"black\" points=\"652.75,-55 652.75,-90.5\"/>\n<text text-anchor=\"middle\" x=\"692.62\" y=\"-67.7\" font-family=\"Times New Roman,serif\" font-size=\"14.00\">data 4.0000</text>\n<polyline fill=\"none\" stroke=\"black\" points=\"732.5,-55 732.5,-90.5\"/>\n<text text-anchor=\"middle\" x=\"773.12\" y=\"-67.7\" font-family=\"Times New Roman,serif\" font-size=\"14.00\">grad 0.0000</text>\n</g>\n<!-- 2707068999056&#45;&gt;2707068120656* -->\n<g id=\"edge6\" class=\"edge\">\n<title>2707068999056&#45;&gt;2707068120656*</title>\n<path fill=\"none\" stroke=\"black\" d=\"M814.01,-88.6C822.84,-90.16 831.4,-91.67 839.19,-93.04\"/>\n<polygon fill=\"black\" stroke=\"black\" points=\"838.42,-96.46 848.88,-94.75 839.64,-89.57 838.42,-96.46\"/>\n</g>\n<!-- 2707068999056+&#45;&gt;2707068999056 -->\n<g id=\"edge2\" class=\"edge\">\n<title>2707068999056+&#45;&gt;2707068999056</title>\n<path fill=\"none\" stroke=\"black\" d=\"M594.28,-72.5C601.42,-72.5 609.61,-72.5 618.32,-72.5\"/>\n<polygon fill=\"black\" stroke=\"black\" points=\"618.06,-76 628.06,-72.5 618.06,-69 618.06,-76\"/>\n</g>\n<!-- 2707069001680 -->\n<g id=\"node8\" class=\"node\">\n<title>2707069001680</title>\n<polygon fill=\"none\" stroke=\"black\" points=\"0,-0.5 0,-36.5 188.25,-36.5 188.25,-0.5 0,-0.5\"/>\n<text text-anchor=\"middle\" x=\"11.38\" y=\"-13.7\" font-family=\"Times New Roman,serif\" font-size=\"14.00\">b</text>\n<polyline fill=\"none\" stroke=\"black\" points=\"22.75,-1 22.75,-36.5\"/>\n<text text-anchor=\"middle\" x=\"64.88\" y=\"-13.7\" font-family=\"Times New Roman,serif\" font-size=\"14.00\">data &#45;3.0000</text>\n<polyline fill=\"none\" stroke=\"black\" points=\"107,-1 107,-36.5\"/>\n<text text-anchor=\"middle\" x=\"147.62\" y=\"-13.7\" font-family=\"Times New Roman,serif\" font-size=\"14.00\">grad 0.0000</text>\n</g>\n<!-- 2707069001680&#45;&gt;2707069000144* -->\n<g id=\"edge8\" class=\"edge\">\n<title>2707069001680&#45;&gt;2707069000144*</title>\n<path fill=\"none\" stroke=\"black\" d=\"M188.49,-34.75C197.27,-36.28 205.77,-37.76 213.51,-39.1\"/>\n<polygon fill=\"black\" stroke=\"black\" points=\"212.66,-42.51 223.11,-40.78 213.86,-35.61 212.66,-42.51\"/>\n</g>\n<!-- 2707069000144 -->\n<g id=\"node9\" class=\"node\">\n<title>2707069000144</title>\n<polygon fill=\"none\" stroke=\"black\" points=\"315.38,-27.5 315.38,-63.5 502.88,-63.5 502.88,-27.5 315.38,-27.5\"/>\n<text text-anchor=\"middle\" x=\"326.38\" y=\"-40.7\" font-family=\"Times New Roman,serif\" font-size=\"14.00\">e</text>\n<polyline fill=\"none\" stroke=\"black\" points=\"337.38,-28 337.38,-63.5\"/>\n<text text-anchor=\"middle\" x=\"379.5\" y=\"-40.7\" font-family=\"Times New Roman,serif\" font-size=\"14.00\">data &#45;6.0000</text>\n<polyline fill=\"none\" stroke=\"black\" points=\"421.62,-28 421.62,-63.5\"/>\n<text text-anchor=\"middle\" x=\"462.25\" y=\"-40.7\" font-family=\"Times New Roman,serif\" font-size=\"14.00\">grad 0.0000</text>\n</g>\n<!-- 2707069000144&#45;&gt;2707068999056+ -->\n<g id=\"edge4\" class=\"edge\">\n<title>2707069000144&#45;&gt;2707068999056+</title>\n<path fill=\"none\" stroke=\"black\" d=\"M503.05,-61.6C512.25,-63.19 521.16,-64.73 529.24,-66.13\"/>\n<polygon fill=\"black\" stroke=\"black\" points=\"528.48,-69.55 538.93,-67.81 529.68,-62.66 528.48,-69.55\"/>\n</g>\n<!-- 2707069000144*&#45;&gt;2707069000144 -->\n<g id=\"edge3\" class=\"edge\">\n<title>2707069000144*&#45;&gt;2707069000144</title>\n<path fill=\"none\" stroke=\"black\" d=\"M278.69,-45.5C286.1,-45.5 294.64,-45.5 303.71,-45.5\"/>\n<polygon fill=\"black\" stroke=\"black\" points=\"303.51,-49 313.51,-45.5 303.51,-42 303.51,-49\"/>\n</g>\n</g>\n</svg>\n",
      "text/plain": [
       "<graphviz.graphs.Digraph at 0x27648ff01d0>"
      ]
     },
     "execution_count": 81,
     "metadata": {},
     "output_type": "execute_result"
    }
   ],
   "execution_count": 81
  },
  {
   "metadata": {
    "ExecuteTime": {
     "end_time": "2025-02-02T13:34:26.394748Z",
     "start_time": "2025-02-02T13:34:26.390565Z"
    }
   },
   "cell_type": "code",
   "source": [
    "L.grad = 1.0\n",
    "d.grad = L.grad * f.data\n",
    "f.grad = L.grad * d.data\n",
    "e.grad = d.grad * 1\n",
    "c.grad = d.grad * 1\n",
    "b.grad = e.grad * a.data\n",
    "a.grad = e.grad * b.data"
   ],
   "id": "cbb4b00fdf23034c",
   "outputs": [],
   "execution_count": 82
  },
  {
   "metadata": {
    "ExecuteTime": {
     "end_time": "2025-02-02T13:34:26.783311Z",
     "start_time": "2025-02-02T13:34:26.778633Z"
    }
   },
   "cell_type": "code",
   "source": [
    "x1 = Value(2.0, label='x1')\n",
    "x2 = Value(0.0, label='x2')\n",
    "\n",
    "w1 = Value(-3.0, label='w1')\n",
    "w2 = Value(1.0, label='w2')\n",
    "\n",
    "b = Value(6.7, label='b')\n",
    "\n",
    "x1w1 = x1 * w1; x1w1.label = 'x1w1'\n",
    "x2w2 = x2 * w2; x2w2.label = 'x2w2'\n",
    "x1w1x2w2 = x1w1 + x2w2; x1w1x2w2.label = 'x1w1 + x2w2'\n",
    "n = x1w1x2w2 + b; n.label = 'n'\n",
    "\n",
    "o = n.tanh(); o.label = 'o'\n"
   ],
   "id": "2c24526ff8b39745",
   "outputs": [],
   "execution_count": 83
  },
  {
   "metadata": {
    "ExecuteTime": {
     "end_time": "2025-02-02T13:34:27.768661Z",
     "start_time": "2025-02-02T13:34:27.499435Z"
    }
   },
   "cell_type": "code",
   "source": "draw_dot(o)",
   "id": "6a9159c310553e2e",
   "outputs": [
    {
     "data": {
      "image/svg+xml": "<?xml version=\"1.0\" encoding=\"UTF-8\" standalone=\"no\"?>\n<!DOCTYPE svg PUBLIC \"-//W3C//DTD SVG 1.1//EN\"\n \"http://www.w3.org/Graphics/SVG/1.1/DTD/svg11.dtd\">\n<!-- Generated by graphviz version 12.2.1 (20241206.2353)\n -->\n<!-- Pages: 1 -->\n<svg width=\"1546pt\" height=\"210pt\"\n viewBox=\"0.00 0.00 1546.25 210.00\" xmlns=\"http://www.w3.org/2000/svg\" xmlns:xlink=\"http://www.w3.org/1999/xlink\">\n<g id=\"graph0\" class=\"graph\" transform=\"scale(1 1) rotate(0) translate(4 206)\">\n<polygon fill=\"white\" stroke=\"none\" points=\"-4,4 -4,-206 1542.25,-206 1542.25,4 -4,4\"/>\n<!-- 2707069036048 -->\n<g id=\"node1\" class=\"node\">\n<title>2707069036048</title>\n<polygon fill=\"none\" stroke=\"black\" points=\"661.5,-82.5 661.5,-118.5 918.75,-118.5 918.75,-82.5 661.5,-82.5\"/>\n<text text-anchor=\"middle\" x=\"707.38\" y=\"-95.7\" font-family=\"Times New Roman,serif\" font-size=\"14.00\">x1w1 + x2w2</text>\n<polyline fill=\"none\" stroke=\"black\" points=\"753.25,-83 753.25,-118.5\"/>\n<text text-anchor=\"middle\" x=\"795.38\" y=\"-95.7\" font-family=\"Times New Roman,serif\" font-size=\"14.00\">data &#45;6.0000</text>\n<polyline fill=\"none\" stroke=\"black\" points=\"837.5,-83 837.5,-118.5\"/>\n<text text-anchor=\"middle\" x=\"878.12\" y=\"-95.7\" font-family=\"Times New Roman,serif\" font-size=\"14.00\">grad 0.0000</text>\n</g>\n<!-- 2707069036880+ -->\n<g id=\"node13\" class=\"node\">\n<title>2707069036880+</title>\n<ellipse fill=\"none\" stroke=\"black\" cx=\"981.75\" cy=\"-127.5\" rx=\"27\" ry=\"18\"/>\n<text text-anchor=\"middle\" x=\"981.75\" y=\"-122.45\" font-family=\"Times New Roman,serif\" font-size=\"14.00\">+</text>\n</g>\n<!-- 2707069036048&#45;&gt;2707069036880+ -->\n<g id=\"edge13\" class=\"edge\">\n<title>2707069036048&#45;&gt;2707069036880+</title>\n<path fill=\"none\" stroke=\"black\" d=\"M919.18,-118.73C927.81,-119.96 936.02,-121.13 943.46,-122.19\"/>\n<polygon fill=\"black\" stroke=\"black\" points=\"942.96,-125.65 953.35,-123.6 943.94,-118.72 942.96,-125.65\"/>\n</g>\n<!-- 2707069036048+ -->\n<g id=\"node2\" class=\"node\">\n<title>2707069036048+</title>\n<ellipse fill=\"none\" stroke=\"black\" cx=\"598.5\" cy=\"-100.5\" rx=\"27\" ry=\"18\"/>\n<text text-anchor=\"middle\" x=\"598.5\" y=\"-95.45\" font-family=\"Times New Roman,serif\" font-size=\"14.00\">+</text>\n</g>\n<!-- 2707069036048+&#45;&gt;2707069036048 -->\n<g id=\"edge1\" class=\"edge\">\n<title>2707069036048+&#45;&gt;2707069036048</title>\n<path fill=\"none\" stroke=\"black\" d=\"M625.87,-100.5C632.88,-100.5 640.96,-100.5 649.7,-100.5\"/>\n<polygon fill=\"black\" stroke=\"black\" points=\"649.57,-104 659.57,-100.5 649.57,-97 649.57,-104\"/>\n</g>\n<!-- 2707069040656 -->\n<g id=\"node3\" class=\"node\">\n<title>2707069040656</title>\n<polygon fill=\"none\" stroke=\"black\" points=\"0,-165.5 0,-201.5 198,-201.5 198,-165.5 0,-165.5\"/>\n<text text-anchor=\"middle\" x=\"16.25\" y=\"-178.7\" font-family=\"Times New Roman,serif\" font-size=\"14.00\">w1</text>\n<polyline fill=\"none\" stroke=\"black\" points=\"32.5,-166 32.5,-201.5\"/>\n<text text-anchor=\"middle\" x=\"74.62\" y=\"-178.7\" font-family=\"Times New Roman,serif\" font-size=\"14.00\">data &#45;3.0000</text>\n<polyline fill=\"none\" stroke=\"black\" points=\"116.75,-166 116.75,-201.5\"/>\n<text text-anchor=\"middle\" x=\"157.38\" y=\"-178.7\" font-family=\"Times New Roman,serif\" font-size=\"14.00\">grad 0.0000</text>\n</g>\n<!-- 2707069027280* -->\n<g id=\"node9\" class=\"node\">\n<title>2707069027280*</title>\n<ellipse fill=\"none\" stroke=\"black\" cx=\"261\" cy=\"-128.5\" rx=\"27\" ry=\"18\"/>\n<text text-anchor=\"middle\" x=\"261\" y=\"-123.45\" font-family=\"Times New Roman,serif\" font-size=\"14.00\">*</text>\n</g>\n<!-- 2707069040656&#45;&gt;2707069027280* -->\n<g id=\"edge10\" class=\"edge\">\n<title>2707069040656&#45;&gt;2707069027280*</title>\n<path fill=\"none\" stroke=\"black\" d=\"M172.12,-165.01C180.9,-162.35 189.7,-159.5 198,-156.5 208.09,-152.86 218.82,-148.27 228.47,-143.88\"/>\n<polygon fill=\"black\" stroke=\"black\" points=\"229.86,-147.09 237.45,-139.69 226.9,-140.75 229.86,-147.09\"/>\n</g>\n<!-- 2707069026832 -->\n<g id=\"node4\" class=\"node\">\n<title>2707069026832</title>\n<polygon fill=\"none\" stroke=\"black\" points=\"698.25,-137.5 698.25,-173.5 882,-173.5 882,-137.5 698.25,-137.5\"/>\n<text text-anchor=\"middle\" x=\"709.62\" y=\"-150.7\" font-family=\"Times New Roman,serif\" font-size=\"14.00\">b</text>\n<polyline fill=\"none\" stroke=\"black\" points=\"721,-138 721,-173.5\"/>\n<text text-anchor=\"middle\" x=\"760.88\" y=\"-150.7\" font-family=\"Times New Roman,serif\" font-size=\"14.00\">data 6.7000</text>\n<polyline fill=\"none\" stroke=\"black\" points=\"800.75,-138 800.75,-173.5\"/>\n<text text-anchor=\"middle\" x=\"841.38\" y=\"-150.7\" font-family=\"Times New Roman,serif\" font-size=\"14.00\">grad 0.0000</text>\n</g>\n<!-- 2707069026832&#45;&gt;2707069036880+ -->\n<g id=\"edge12\" class=\"edge\">\n<title>2707069026832&#45;&gt;2707069036880+</title>\n<path fill=\"none\" stroke=\"black\" d=\"M882.33,-142.03C904.17,-138.81 926.27,-135.54 943.98,-132.93\"/>\n<polygon fill=\"black\" stroke=\"black\" points=\"944.33,-136.42 953.71,-131.49 943.31,-129.49 944.33,-136.42\"/>\n</g>\n<!-- 2707069040208 -->\n<g id=\"node5\" class=\"node\">\n<title>2707069040208</title>\n<polygon fill=\"none\" stroke=\"black\" points=\"3.75,-55.5 3.75,-91.5 194.25,-91.5 194.25,-55.5 3.75,-55.5\"/>\n<text text-anchor=\"middle\" x=\"18.5\" y=\"-68.7\" font-family=\"Times New Roman,serif\" font-size=\"14.00\">x2</text>\n<polyline fill=\"none\" stroke=\"black\" points=\"33.25,-56 33.25,-91.5\"/>\n<text text-anchor=\"middle\" x=\"73.12\" y=\"-68.7\" font-family=\"Times New Roman,serif\" font-size=\"14.00\">data 0.0000</text>\n<polyline fill=\"none\" stroke=\"black\" points=\"113,-56 113,-91.5\"/>\n<text text-anchor=\"middle\" x=\"153.62\" y=\"-68.7\" font-family=\"Times New Roman,serif\" font-size=\"14.00\">grad 0.0000</text>\n</g>\n<!-- 2707069038928* -->\n<g id=\"node11\" class=\"node\">\n<title>2707069038928*</title>\n<ellipse fill=\"none\" stroke=\"black\" cx=\"261\" cy=\"-73.5\" rx=\"27\" ry=\"18\"/>\n<text text-anchor=\"middle\" x=\"261\" y=\"-68.45\" font-family=\"Times New Roman,serif\" font-size=\"14.00\">*</text>\n</g>\n<!-- 2707069040208&#45;&gt;2707069038928* -->\n<g id=\"edge8\" class=\"edge\">\n<title>2707069040208&#45;&gt;2707069038928*</title>\n<path fill=\"none\" stroke=\"black\" d=\"M194.46,-73.5C204.21,-73.5 213.66,-73.5 222.21,-73.5\"/>\n<polygon fill=\"black\" stroke=\"black\" points=\"222.12,-77 232.12,-73.5 222.12,-70 222.12,-77\"/>\n</g>\n<!-- 2707069041232 -->\n<g id=\"node6\" class=\"node\">\n<title>2707069041232</title>\n<polygon fill=\"none\" stroke=\"black\" points=\"3.75,-110.5 3.75,-146.5 194.25,-146.5 194.25,-110.5 3.75,-110.5\"/>\n<text text-anchor=\"middle\" x=\"18.5\" y=\"-123.7\" font-family=\"Times New Roman,serif\" font-size=\"14.00\">x1</text>\n<polyline fill=\"none\" stroke=\"black\" points=\"33.25,-111 33.25,-146.5\"/>\n<text text-anchor=\"middle\" x=\"73.12\" y=\"-123.7\" font-family=\"Times New Roman,serif\" font-size=\"14.00\">data 2.0000</text>\n<polyline fill=\"none\" stroke=\"black\" points=\"113,-111 113,-146.5\"/>\n<text text-anchor=\"middle\" x=\"153.62\" y=\"-123.7\" font-family=\"Times New Roman,serif\" font-size=\"14.00\">grad 0.0000</text>\n</g>\n<!-- 2707069041232&#45;&gt;2707069027280* -->\n<g id=\"edge11\" class=\"edge\">\n<title>2707069041232&#45;&gt;2707069027280*</title>\n<path fill=\"none\" stroke=\"black\" d=\"M194.46,-128.5C204.21,-128.5 213.66,-128.5 222.21,-128.5\"/>\n<polygon fill=\"black\" stroke=\"black\" points=\"222.12,-132 232.12,-128.5 222.12,-125 222.12,-132\"/>\n</g>\n<!-- 2707069032592 -->\n<g id=\"node7\" class=\"node\">\n<title>2707069032592</title>\n<polygon fill=\"none\" stroke=\"black\" points=\"2.25,-0.5 2.25,-36.5 195.75,-36.5 195.75,-0.5 2.25,-0.5\"/>\n<text text-anchor=\"middle\" x=\"18.5\" y=\"-13.7\" font-family=\"Times New Roman,serif\" font-size=\"14.00\">w2</text>\n<polyline fill=\"none\" stroke=\"black\" points=\"34.75,-1 34.75,-36.5\"/>\n<text text-anchor=\"middle\" x=\"74.62\" y=\"-13.7\" font-family=\"Times New Roman,serif\" font-size=\"14.00\">data 1.0000</text>\n<polyline fill=\"none\" stroke=\"black\" points=\"114.5,-1 114.5,-36.5\"/>\n<text text-anchor=\"middle\" x=\"155.12\" y=\"-13.7\" font-family=\"Times New Roman,serif\" font-size=\"14.00\">grad 0.0000</text>\n</g>\n<!-- 2707069032592&#45;&gt;2707069038928* -->\n<g id=\"edge9\" class=\"edge\">\n<title>2707069032592&#45;&gt;2707069038928*</title>\n<path fill=\"none\" stroke=\"black\" d=\"M168.91,-36.94C178.74,-39.93 188.67,-43.15 198,-46.5 207.96,-50.07 218.58,-54.47 228.18,-58.68\"/>\n<polygon fill=\"black\" stroke=\"black\" points=\"226.54,-61.78 237.1,-62.67 229.4,-55.39 226.54,-61.78\"/>\n</g>\n<!-- 2707069027280 -->\n<g id=\"node8\" class=\"node\">\n<title>2707069027280</title>\n<polygon fill=\"none\" stroke=\"black\" points=\"324,-110.5 324,-146.5 535.5,-146.5 535.5,-110.5 324,-110.5\"/>\n<text text-anchor=\"middle\" x=\"347\" y=\"-123.7\" font-family=\"Times New Roman,serif\" font-size=\"14.00\">x1w1</text>\n<polyline fill=\"none\" stroke=\"black\" points=\"370,-111 370,-146.5\"/>\n<text text-anchor=\"middle\" x=\"412.12\" y=\"-123.7\" font-family=\"Times New Roman,serif\" font-size=\"14.00\">data &#45;6.0000</text>\n<polyline fill=\"none\" stroke=\"black\" points=\"454.25,-111 454.25,-146.5\"/>\n<text text-anchor=\"middle\" x=\"494.88\" y=\"-123.7\" font-family=\"Times New Roman,serif\" font-size=\"14.00\">grad 0.0000</text>\n</g>\n<!-- 2707069027280&#45;&gt;2707069036048+ -->\n<g id=\"edge14\" class=\"edge\">\n<title>2707069027280&#45;&gt;2707069036048+</title>\n<path fill=\"none\" stroke=\"black\" d=\"M535.88,-110.85C544.59,-109.38 552.96,-107.98 560.56,-106.7\"/>\n<polygon fill=\"black\" stroke=\"black\" points=\"561.06,-110.17 570.34,-105.06 559.9,-103.26 561.06,-110.17\"/>\n</g>\n<!-- 2707069027280*&#45;&gt;2707069027280 -->\n<g id=\"edge2\" class=\"edge\">\n<title>2707069027280*&#45;&gt;2707069027280</title>\n<path fill=\"none\" stroke=\"black\" d=\"M288.42,-128.5C295.52,-128.5 303.68,-128.5 312.42,-128.5\"/>\n<polygon fill=\"black\" stroke=\"black\" points=\"312.24,-132 322.24,-128.5 312.24,-125 312.24,-132\"/>\n</g>\n<!-- 2707069038928 -->\n<g id=\"node10\" class=\"node\">\n<title>2707069038928</title>\n<polygon fill=\"none\" stroke=\"black\" points=\"326.25,-55.5 326.25,-91.5 533.25,-91.5 533.25,-55.5 326.25,-55.5\"/>\n<text text-anchor=\"middle\" x=\"349.25\" y=\"-68.7\" font-family=\"Times New Roman,serif\" font-size=\"14.00\">x2w2</text>\n<polyline fill=\"none\" stroke=\"black\" points=\"372.25,-56 372.25,-91.5\"/>\n<text text-anchor=\"middle\" x=\"412.12\" y=\"-68.7\" font-family=\"Times New Roman,serif\" font-size=\"14.00\">data 0.0000</text>\n<polyline fill=\"none\" stroke=\"black\" points=\"452,-56 452,-91.5\"/>\n<text text-anchor=\"middle\" x=\"492.62\" y=\"-68.7\" font-family=\"Times New Roman,serif\" font-size=\"14.00\">grad 0.0000</text>\n</g>\n<!-- 2707069038928&#45;&gt;2707069036048+ -->\n<g id=\"edge6\" class=\"edge\">\n<title>2707069038928&#45;&gt;2707069036048+</title>\n<path fill=\"none\" stroke=\"black\" d=\"M533.51,-90.14C543.16,-91.7 552.45,-93.21 560.82,-94.56\"/>\n<polygon fill=\"black\" stroke=\"black\" points=\"560.05,-97.98 570.48,-96.12 561.16,-91.07 560.05,-97.98\"/>\n</g>\n<!-- 2707069038928*&#45;&gt;2707069038928 -->\n<g id=\"edge3\" class=\"edge\">\n<title>2707069038928*&#45;&gt;2707069038928</title>\n<path fill=\"none\" stroke=\"black\" d=\"M288.42,-73.5C296.08,-73.5 304.96,-73.5 314.47,-73.5\"/>\n<polygon fill=\"black\" stroke=\"black\" points=\"314.37,-77 324.37,-73.5 314.37,-70 314.37,-77\"/>\n</g>\n<!-- 2707069036880 -->\n<g id=\"node12\" class=\"node\">\n<title>2707069036880</title>\n<polygon fill=\"none\" stroke=\"black\" points=\"1044.75,-109.5 1044.75,-145.5 1228.5,-145.5 1228.5,-109.5 1044.75,-109.5\"/>\n<text text-anchor=\"middle\" x=\"1056.12\" y=\"-122.7\" font-family=\"Times New Roman,serif\" font-size=\"14.00\">n</text>\n<polyline fill=\"none\" stroke=\"black\" points=\"1067.5,-110 1067.5,-145.5\"/>\n<text text-anchor=\"middle\" x=\"1107.38\" y=\"-122.7\" font-family=\"Times New Roman,serif\" font-size=\"14.00\">data 0.7000</text>\n<polyline fill=\"none\" stroke=\"black\" points=\"1147.25,-110 1147.25,-145.5\"/>\n<text text-anchor=\"middle\" x=\"1187.88\" y=\"-122.7\" font-family=\"Times New Roman,serif\" font-size=\"14.00\">grad 0.0000</text>\n</g>\n<!-- 2707067342800tanh -->\n<g id=\"node15\" class=\"node\">\n<title>2707067342800tanh</title>\n<ellipse fill=\"none\" stroke=\"black\" cx=\"1291.5\" cy=\"-127.5\" rx=\"27\" ry=\"18\"/>\n<text text-anchor=\"middle\" x=\"1291.5\" y=\"-122.45\" font-family=\"Times New Roman,serif\" font-size=\"14.00\">tanh</text>\n</g>\n<!-- 2707069036880&#45;&gt;2707067342800tanh -->\n<g id=\"edge7\" class=\"edge\">\n<title>2707069036880&#45;&gt;2707067342800tanh</title>\n<path fill=\"none\" stroke=\"black\" d=\"M1228.76,-127.5C1237.14,-127.5 1245.27,-127.5 1252.73,-127.5\"/>\n<polygon fill=\"black\" stroke=\"black\" points=\"1252.7,-131 1262.7,-127.5 1252.7,-124 1252.7,-131\"/>\n</g>\n<!-- 2707069036880+&#45;&gt;2707069036880 -->\n<g id=\"edge4\" class=\"edge\">\n<title>2707069036880+&#45;&gt;2707069036880</title>\n<path fill=\"none\" stroke=\"black\" d=\"M1009.03,-127.5C1016.17,-127.5 1024.36,-127.5 1033.07,-127.5\"/>\n<polygon fill=\"black\" stroke=\"black\" points=\"1032.81,-131 1042.81,-127.5 1032.81,-124 1032.81,-131\"/>\n</g>\n<!-- 2707067342800 -->\n<g id=\"node14\" class=\"node\">\n<title>2707067342800</title>\n<polygon fill=\"none\" stroke=\"black\" points=\"1354.5,-109.5 1354.5,-145.5 1538.25,-145.5 1538.25,-109.5 1354.5,-109.5\"/>\n<text text-anchor=\"middle\" x=\"1365.88\" y=\"-122.7\" font-family=\"Times New Roman,serif\" font-size=\"14.00\">o</text>\n<polyline fill=\"none\" stroke=\"black\" points=\"1377.25,-110 1377.25,-145.5\"/>\n<text text-anchor=\"middle\" x=\"1417.12\" y=\"-122.7\" font-family=\"Times New Roman,serif\" font-size=\"14.00\">data 0.6044</text>\n<polyline fill=\"none\" stroke=\"black\" points=\"1457,-110 1457,-145.5\"/>\n<text text-anchor=\"middle\" x=\"1497.62\" y=\"-122.7\" font-family=\"Times New Roman,serif\" font-size=\"14.00\">grad 0.0000</text>\n</g>\n<!-- 2707067342800tanh&#45;&gt;2707067342800 -->\n<g id=\"edge5\" class=\"edge\">\n<title>2707067342800tanh&#45;&gt;2707067342800</title>\n<path fill=\"none\" stroke=\"black\" d=\"M1318.78,-127.5C1325.92,-127.5 1334.11,-127.5 1342.82,-127.5\"/>\n<polygon fill=\"black\" stroke=\"black\" points=\"1342.56,-131 1352.56,-127.5 1342.56,-124 1342.56,-131\"/>\n</g>\n</g>\n</svg>\n",
      "text/plain": [
       "<graphviz.graphs.Digraph at 0x27649caad90>"
      ]
     },
     "execution_count": 84,
     "metadata": {},
     "output_type": "execute_result"
    }
   ],
   "execution_count": 84
  },
  {
   "metadata": {
    "ExecuteTime": {
     "end_time": "2025-02-02T13:34:28.471878Z",
     "start_time": "2025-02-02T13:34:28.468290Z"
    }
   },
   "cell_type": "code",
   "source": "o.backward()",
   "id": "cb995538d903c4a7",
   "outputs": [],
   "execution_count": 85
  },
  {
   "metadata": {
    "ExecuteTime": {
     "end_time": "2025-02-02T13:34:29.207390Z",
     "start_time": "2025-02-02T13:34:29.098698Z"
    }
   },
   "cell_type": "code",
   "source": [
    "a = Value(2.0, label='a')\n",
    "b = a + a\n",
    "\n",
    "b.backward()\n",
    "draw_dot(b)"
   ],
   "id": "16517c2162436a89",
   "outputs": [
    {
     "data": {
      "image/svg+xml": "<?xml version=\"1.0\" encoding=\"UTF-8\" standalone=\"no\"?>\n<!DOCTYPE svg PUBLIC \"-//W3C//DTD SVG 1.1//EN\"\n \"http://www.w3.org/Graphics/SVG/1.1/DTD/svg11.dtd\">\n<!-- Generated by graphviz version 12.2.1 (20241206.2353)\n -->\n<!-- Pages: 1 -->\n<svg width=\"498pt\" height=\"45pt\"\n viewBox=\"0.00 0.00 497.75 45.00\" xmlns=\"http://www.w3.org/2000/svg\" xmlns:xlink=\"http://www.w3.org/1999/xlink\">\n<g id=\"graph0\" class=\"graph\" transform=\"scale(1 1) rotate(0) translate(4 41)\">\n<polygon fill=\"white\" stroke=\"none\" points=\"-4,4 -4,-41 493.75,-41 493.75,4 -4,4\"/>\n<!-- 2707060239888 -->\n<g id=\"node1\" class=\"node\">\n<title>2707060239888</title>\n<polygon fill=\"none\" stroke=\"black\" points=\"0,-0.5 0,-36.5 183,-36.5 183,-0.5 0,-0.5\"/>\n<text text-anchor=\"middle\" x=\"11\" y=\"-13.7\" font-family=\"Times New Roman,serif\" font-size=\"14.00\">a</text>\n<polyline fill=\"none\" stroke=\"black\" points=\"22,-1 22,-36.5\"/>\n<text text-anchor=\"middle\" x=\"61.88\" y=\"-13.7\" font-family=\"Times New Roman,serif\" font-size=\"14.00\">data 2.0000</text>\n<polyline fill=\"none\" stroke=\"black\" points=\"101.75,-1 101.75,-36.5\"/>\n<text text-anchor=\"middle\" x=\"142.38\" y=\"-13.7\" font-family=\"Times New Roman,serif\" font-size=\"14.00\">grad 2.0000</text>\n</g>\n<!-- 2707049089744+ -->\n<g id=\"node3\" class=\"node\">\n<title>2707049089744+</title>\n<ellipse fill=\"none\" stroke=\"black\" cx=\"246\" cy=\"-18.5\" rx=\"27\" ry=\"18\"/>\n<text text-anchor=\"middle\" x=\"246\" y=\"-13.45\" font-family=\"Times New Roman,serif\" font-size=\"14.00\">+</text>\n</g>\n<!-- 2707060239888&#45;&gt;2707049089744+ -->\n<g id=\"edge2\" class=\"edge\">\n<title>2707060239888&#45;&gt;2707049089744+</title>\n<path fill=\"none\" stroke=\"black\" d=\"M183.41,-18.5C191.77,-18.5 199.88,-18.5 207.32,-18.5\"/>\n<polygon fill=\"black\" stroke=\"black\" points=\"207.26,-22 217.26,-18.5 207.26,-15 207.26,-22\"/>\n</g>\n<!-- 2707049089744 -->\n<g id=\"node2\" class=\"node\">\n<title>2707049089744</title>\n<polygon fill=\"none\" stroke=\"black\" points=\"309,-0.5 309,-36.5 489.75,-36.5 489.75,-0.5 309,-0.5\"/>\n<text text-anchor=\"middle\" x=\"318.88\" y=\"-13.7\" font-family=\"Times New Roman,serif\" font-size=\"14.00\"> </text>\n<polyline fill=\"none\" stroke=\"black\" points=\"328.75,-1 328.75,-36.5\"/>\n<text text-anchor=\"middle\" x=\"368.62\" y=\"-13.7\" font-family=\"Times New Roman,serif\" font-size=\"14.00\">data 4.0000</text>\n<polyline fill=\"none\" stroke=\"black\" points=\"408.5,-1 408.5,-36.5\"/>\n<text text-anchor=\"middle\" x=\"449.12\" y=\"-13.7\" font-family=\"Times New Roman,serif\" font-size=\"14.00\">grad 1.0000</text>\n</g>\n<!-- 2707049089744+&#45;&gt;2707049089744 -->\n<g id=\"edge1\" class=\"edge\">\n<title>2707049089744+&#45;&gt;2707049089744</title>\n<path fill=\"none\" stroke=\"black\" d=\"M273.37,-18.5C280.51,-18.5 288.7,-18.5 297.39,-18.5\"/>\n<polygon fill=\"black\" stroke=\"black\" points=\"297.11,-22 307.11,-18.5 297.11,-15 297.11,-22\"/>\n</g>\n</g>\n</svg>\n",
      "text/plain": [
       "<graphviz.graphs.Digraph at 0x27649dbbd90>"
      ]
     },
     "execution_count": 86,
     "metadata": {},
     "output_type": "execute_result"
    }
   ],
   "execution_count": 86
  },
  {
   "metadata": {
    "ExecuteTime": {
     "end_time": "2025-02-02T13:34:30.613898Z",
     "start_time": "2025-02-02T13:34:30.502751Z"
    }
   },
   "cell_type": "code",
   "source": [
    "x1 = Value(2.0, label='x1')\n",
    "x2 = Value(0.0, label='x2')\n",
    "\n",
    "w1 = Value(-3.0, label='w1')\n",
    "w2 = Value(1.0, label='w2')\n",
    "\n",
    "b = Value(6.7, label='b')\n",
    "\n",
    "x1w1 = x1 * w1; x1w1.label = 'x1w1'\n",
    "x2w2 = x2 * w2; x2w2.label = 'x2w2'\n",
    "x1w1x2w2 = x1w1 + x2w2; x1w1x2w2.label = 'x1w1 + x2w2'\n",
    "n = x1w1x2w2 + b; n.label = 'n'\n",
    "\n",
    "e = (2.0 * n).exp(); e.label = 'e'\n",
    "o = (e - 1) / (e + 1); o.label = 'o'\n",
    "o.backward()\n",
    "draw_dot(o)"
   ],
   "id": "92b5e2b5224edd02",
   "outputs": [
    {
     "data": {
      "image/svg+xml": "<?xml version=\"1.0\" encoding=\"UTF-8\" standalone=\"no\"?>\n<!DOCTYPE svg PUBLIC \"-//W3C//DTD SVG 1.1//EN\"\n \"http://www.w3.org/Graphics/SVG/1.1/DTD/svg11.dtd\">\n<!-- Generated by graphviz version 12.2.1 (20241206.2353)\n -->\n<!-- Pages: 1 -->\n<svg width=\"2909pt\" height=\"236pt\"\n viewBox=\"0.00 0.00 2909.00 236.00\" xmlns=\"http://www.w3.org/2000/svg\" xmlns:xlink=\"http://www.w3.org/1999/xlink\">\n<g id=\"graph0\" class=\"graph\" transform=\"scale(1 1) rotate(0) translate(4 232)\">\n<polygon fill=\"white\" stroke=\"none\" points=\"-4,4 -4,-232 2905,-232 2905,4 -4,4\"/>\n<!-- 2707069078032 -->\n<g id=\"node1\" class=\"node\">\n<title>2707069078032</title>\n<polygon fill=\"none\" stroke=\"black\" points=\"2193.75,-163.5 2193.75,-199.5 2374.5,-199.5 2374.5,-163.5 2193.75,-163.5\"/>\n<text text-anchor=\"middle\" x=\"2203.62\" y=\"-176.7\" font-family=\"Times New Roman,serif\" font-size=\"14.00\"> </text>\n<polyline fill=\"none\" stroke=\"black\" points=\"2213.5,-164 2213.5,-199.5\"/>\n<text text-anchor=\"middle\" x=\"2253.38\" y=\"-176.7\" font-family=\"Times New Roman,serif\" font-size=\"14.00\">data 3.0552</text>\n<polyline fill=\"none\" stroke=\"black\" points=\"2293.25,-164 2293.25,-199.5\"/>\n<text text-anchor=\"middle\" x=\"2333.88\" y=\"-176.7\" font-family=\"Times New Roman,serif\" font-size=\"14.00\">grad 0.1978</text>\n</g>\n<!-- 2707069084560* -->\n<g id=\"node23\" class=\"node\">\n<title>2707069084560*</title>\n<ellipse fill=\"none\" stroke=\"black\" cx=\"2654.25\" cy=\"-153.5\" rx=\"27\" ry=\"18\"/>\n<text text-anchor=\"middle\" x=\"2654.25\" y=\"-148.45\" font-family=\"Times New Roman,serif\" font-size=\"14.00\">*</text>\n</g>\n<!-- 2707069078032&#45;&gt;2707069084560* -->\n<g id=\"edge22\" class=\"edge\">\n<title>2707069078032&#45;&gt;2707069084560*</title>\n<path fill=\"none\" stroke=\"black\" d=\"M2374.88,-174.89C2435.9,-170.36 2518.45,-164.17 2591.25,-158.5 2599.13,-157.89 2607.58,-157.21 2615.62,-156.57\"/>\n<polygon fill=\"black\" stroke=\"black\" points=\"2615.81,-160.06 2625.5,-155.77 2615.25,-153.09 2615.81,-160.06\"/>\n</g>\n<!-- 2707069078032+ -->\n<g id=\"node2\" class=\"node\">\n<title>2707069078032+</title>\n<ellipse fill=\"none\" stroke=\"black\" cx=\"1909.5\" cy=\"-181.5\" rx=\"27\" ry=\"18\"/>\n<text text-anchor=\"middle\" x=\"1909.5\" y=\"-176.45\" font-family=\"Times New Roman,serif\" font-size=\"14.00\">+</text>\n</g>\n<!-- 2707069078032+&#45;&gt;2707069078032 -->\n<g id=\"edge1\" class=\"edge\">\n<title>2707069078032+&#45;&gt;2707069078032</title>\n<path fill=\"none\" stroke=\"black\" d=\"M1937,-181.5C1987.26,-181.5 2098.82,-181.5 2181.78,-181.5\"/>\n<polygon fill=\"black\" stroke=\"black\" points=\"2181.77,-185 2191.77,-181.5 2181.77,-178 2181.77,-185\"/>\n</g>\n<!-- 2707069090832 -->\n<g id=\"node3\" class=\"node\">\n<title>2707069090832</title>\n<polygon fill=\"none\" stroke=\"black\" points=\"1046.25,-164.5 1046.25,-200.5 1227,-200.5 1227,-164.5 1046.25,-164.5\"/>\n<text text-anchor=\"middle\" x=\"1056.12\" y=\"-177.7\" font-family=\"Times New Roman,serif\" font-size=\"14.00\"> </text>\n<polyline fill=\"none\" stroke=\"black\" points=\"1066,-165 1066,-200.5\"/>\n<text text-anchor=\"middle\" x=\"1105.88\" y=\"-177.7\" font-family=\"Times New Roman,serif\" font-size=\"14.00\">data 2.0000</text>\n<polyline fill=\"none\" stroke=\"black\" points=\"1145.75,-165 1145.75,-200.5\"/>\n<text text-anchor=\"middle\" x=\"1186.38\" y=\"-177.7\" font-family=\"Times New Roman,serif\" font-size=\"14.00\">grad 0.2222</text>\n</g>\n<!-- 2707069080016* -->\n<g id=\"node28\" class=\"node\">\n<title>2707069080016*</title>\n<ellipse fill=\"none\" stroke=\"black\" cx=\"1291.5\" cy=\"-154.5\" rx=\"27\" ry=\"18\"/>\n<text text-anchor=\"middle\" x=\"1291.5\" y=\"-149.45\" font-family=\"Times New Roman,serif\" font-size=\"14.00\">*</text>\n</g>\n<!-- 2707069090832&#45;&gt;2707069080016* -->\n<g id=\"edge20\" class=\"edge\">\n<title>2707069090832&#45;&gt;2707069080016*</title>\n<path fill=\"none\" stroke=\"black\" d=\"M1227.44,-166.05C1236.69,-164.35 1245.68,-162.71 1253.83,-161.22\"/>\n<polygon fill=\"black\" stroke=\"black\" points=\"1254.42,-164.67 1263.62,-159.42 1253.16,-157.78 1254.42,-164.67\"/>\n</g>\n<!-- 2707069084240 -->\n<g id=\"node4\" class=\"node\">\n<title>2707069084240</title>\n<polygon fill=\"none\" stroke=\"black\" points=\"1662.38,-136.5 1662.38,-172.5 1845.38,-172.5 1845.38,-136.5 1662.38,-136.5\"/>\n<text text-anchor=\"middle\" x=\"1673.38\" y=\"-149.7\" font-family=\"Times New Roman,serif\" font-size=\"14.00\">e</text>\n<polyline fill=\"none\" stroke=\"black\" points=\"1684.38,-137 1684.38,-172.5\"/>\n<text text-anchor=\"middle\" x=\"1724.25\" y=\"-149.7\" font-family=\"Times New Roman,serif\" font-size=\"14.00\">data 4.0552</text>\n<polyline fill=\"none\" stroke=\"black\" points=\"1764.12,-137 1764.12,-172.5\"/>\n<text text-anchor=\"middle\" x=\"1804.75\" y=\"-149.7\" font-family=\"Times New Roman,serif\" font-size=\"14.00\">grad 0.0783</text>\n</g>\n<!-- 2707069084240&#45;&gt;2707069078032+ -->\n<g id=\"edge18\" class=\"edge\">\n<title>2707069084240&#45;&gt;2707069078032+</title>\n<path fill=\"none\" stroke=\"black\" d=\"M1845.57,-170.44C1854.74,-172.05 1863.63,-173.61 1871.7,-175.03\"/>\n<polygon fill=\"black\" stroke=\"black\" points=\"1870.94,-178.45 1881.39,-176.74 1872.15,-171.56 1870.94,-178.45\"/>\n</g>\n<!-- 2707069081360+ -->\n<g id=\"node19\" class=\"node\">\n<title>2707069081360+</title>\n<ellipse fill=\"none\" stroke=\"black\" cx=\"1909.5\" cy=\"-126.5\" rx=\"27\" ry=\"18\"/>\n<text text-anchor=\"middle\" x=\"1909.5\" y=\"-121.45\" font-family=\"Times New Roman,serif\" font-size=\"14.00\">+</text>\n</g>\n<!-- 2707069084240&#45;&gt;2707069081360+ -->\n<g id=\"edge24\" class=\"edge\">\n<title>2707069084240&#45;&gt;2707069081360+</title>\n<path fill=\"none\" stroke=\"black\" d=\"M1845.57,-137.97C1854.82,-136.28 1863.8,-134.65 1871.94,-133.16\"/>\n<polygon fill=\"black\" stroke=\"black\" points=\"1872.49,-136.62 1881.7,-131.38 1871.23,-129.73 1872.49,-136.62\"/>\n</g>\n<!-- 2707069084240exp -->\n<g id=\"node5\" class=\"node\">\n<title>2707069084240exp</title>\n<ellipse fill=\"none\" stroke=\"black\" cx=\"1598.25\" cy=\"-154.5\" rx=\"27\" ry=\"18\"/>\n<text text-anchor=\"middle\" x=\"1598.25\" y=\"-149.45\" font-family=\"Times New Roman,serif\" font-size=\"14.00\">exp</text>\n</g>\n<!-- 2707069084240exp&#45;&gt;2707069084240 -->\n<g id=\"edge2\" class=\"edge\">\n<title>2707069084240exp&#45;&gt;2707069084240</title>\n<path fill=\"none\" stroke=\"black\" d=\"M1625.66,-154.5C1633.1,-154.5 1641.67,-154.5 1650.77,-154.5\"/>\n<polygon fill=\"black\" stroke=\"black\" points=\"1650.59,-158 1660.59,-154.5 1650.59,-151 1650.59,-158\"/>\n</g>\n<!-- 2707069085648 -->\n<g id=\"node6\" class=\"node\">\n<title>2707069085648</title>\n<polygon fill=\"none\" stroke=\"black\" points=\"698.25,-137.5 698.25,-173.5 882,-173.5 882,-137.5 698.25,-137.5\"/>\n<text text-anchor=\"middle\" x=\"709.62\" y=\"-150.7\" font-family=\"Times New Roman,serif\" font-size=\"14.00\">b</text>\n<polyline fill=\"none\" stroke=\"black\" points=\"721,-138 721,-173.5\"/>\n<text text-anchor=\"middle\" x=\"760.88\" y=\"-150.7\" font-family=\"Times New Roman,serif\" font-size=\"14.00\">data 6.7000</text>\n<polyline fill=\"none\" stroke=\"black\" points=\"800.75,-138 800.75,-173.5\"/>\n<text text-anchor=\"middle\" x=\"841.38\" y=\"-150.7\" font-family=\"Times New Roman,serif\" font-size=\"14.00\">grad 0.6347</text>\n</g>\n<!-- 2707069090192+ -->\n<g id=\"node25\" class=\"node\">\n<title>2707069090192+</title>\n<ellipse fill=\"none\" stroke=\"black\" cx=\"981.75\" cy=\"-127.5\" rx=\"27\" ry=\"18\"/>\n<text text-anchor=\"middle\" x=\"981.75\" y=\"-122.45\" font-family=\"Times New Roman,serif\" font-size=\"14.00\">+</text>\n</g>\n<!-- 2707069085648&#45;&gt;2707069090192+ -->\n<g id=\"edge26\" class=\"edge\">\n<title>2707069085648&#45;&gt;2707069090192+</title>\n<path fill=\"none\" stroke=\"black\" d=\"M882.33,-142.03C904.17,-138.81 926.27,-135.54 943.98,-132.93\"/>\n<polygon fill=\"black\" stroke=\"black\" points=\"944.33,-136.42 953.71,-131.49 943.31,-129.49 944.33,-136.42\"/>\n</g>\n<!-- 2707069034064 -->\n<g id=\"node7\" class=\"node\">\n<title>2707069034064</title>\n<polygon fill=\"none\" stroke=\"black\" points=\"661.5,-82.5 661.5,-118.5 918.75,-118.5 918.75,-82.5 661.5,-82.5\"/>\n<text text-anchor=\"middle\" x=\"707.38\" y=\"-95.7\" font-family=\"Times New Roman,serif\" font-size=\"14.00\">x1w1 + x2w2</text>\n<polyline fill=\"none\" stroke=\"black\" points=\"753.25,-83 753.25,-118.5\"/>\n<text text-anchor=\"middle\" x=\"795.38\" y=\"-95.7\" font-family=\"Times New Roman,serif\" font-size=\"14.00\">data &#45;6.0000</text>\n<polyline fill=\"none\" stroke=\"black\" points=\"837.5,-83 837.5,-118.5\"/>\n<text text-anchor=\"middle\" x=\"878.12\" y=\"-95.7\" font-family=\"Times New Roman,serif\" font-size=\"14.00\">grad 0.6347</text>\n</g>\n<!-- 2707069034064&#45;&gt;2707069090192+ -->\n<g id=\"edge19\" class=\"edge\">\n<title>2707069034064&#45;&gt;2707069090192+</title>\n<path fill=\"none\" stroke=\"black\" d=\"M919.18,-118.73C927.81,-119.96 936.02,-121.13 943.46,-122.19\"/>\n<polygon fill=\"black\" stroke=\"black\" points=\"942.96,-125.65 953.35,-123.6 943.94,-118.72 942.96,-125.65\"/>\n</g>\n<!-- 2707069034064+ -->\n<g id=\"node8\" class=\"node\">\n<title>2707069034064+</title>\n<ellipse fill=\"none\" stroke=\"black\" cx=\"598.5\" cy=\"-100.5\" rx=\"27\" ry=\"18\"/>\n<text text-anchor=\"middle\" x=\"598.5\" y=\"-95.45\" font-family=\"Times New Roman,serif\" font-size=\"14.00\">+</text>\n</g>\n<!-- 2707069034064+&#45;&gt;2707069034064 -->\n<g id=\"edge3\" class=\"edge\">\n<title>2707069034064+&#45;&gt;2707069034064</title>\n<path fill=\"none\" stroke=\"black\" d=\"M625.87,-100.5C632.88,-100.5 640.96,-100.5 649.7,-100.5\"/>\n<polygon fill=\"black\" stroke=\"black\" points=\"649.57,-104 659.57,-100.5 649.57,-97 649.57,-104\"/>\n</g>\n<!-- 2707069080144 -->\n<g id=\"node9\" class=\"node\">\n<title>2707069080144</title>\n<polygon fill=\"none\" stroke=\"black\" points=\"326.25,-110.5 326.25,-146.5 533.25,-146.5 533.25,-110.5 326.25,-110.5\"/>\n<text text-anchor=\"middle\" x=\"349.25\" y=\"-123.7\" font-family=\"Times New Roman,serif\" font-size=\"14.00\">x2w2</text>\n<polyline fill=\"none\" stroke=\"black\" points=\"372.25,-111 372.25,-146.5\"/>\n<text text-anchor=\"middle\" x=\"412.12\" y=\"-123.7\" font-family=\"Times New Roman,serif\" font-size=\"14.00\">data 0.0000</text>\n<polyline fill=\"none\" stroke=\"black\" points=\"452,-111 452,-146.5\"/>\n<text text-anchor=\"middle\" x=\"492.62\" y=\"-123.7\" font-family=\"Times New Roman,serif\" font-size=\"14.00\">grad 0.6347</text>\n</g>\n<!-- 2707069080144&#45;&gt;2707069034064+ -->\n<g id=\"edge28\" class=\"edge\">\n<title>2707069080144&#45;&gt;2707069034064+</title>\n<path fill=\"none\" stroke=\"black\" d=\"M533.51,-111.25C543.16,-109.62 552.45,-108.06 560.82,-106.66\"/>\n<polygon fill=\"black\" stroke=\"black\" points=\"561.2,-110.15 570.48,-105.04 560.04,-103.24 561.2,-110.15\"/>\n</g>\n<!-- 2707069080144* -->\n<g id=\"node10\" class=\"node\">\n<title>2707069080144*</title>\n<ellipse fill=\"none\" stroke=\"black\" cx=\"261\" cy=\"-128.5\" rx=\"27\" ry=\"18\"/>\n<text text-anchor=\"middle\" x=\"261\" y=\"-123.45\" font-family=\"Times New Roman,serif\" font-size=\"14.00\">*</text>\n</g>\n<!-- 2707069080144*&#45;&gt;2707069080144 -->\n<g id=\"edge4\" class=\"edge\">\n<title>2707069080144*&#45;&gt;2707069080144</title>\n<path fill=\"none\" stroke=\"black\" d=\"M288.42,-128.5C296.08,-128.5 304.96,-128.5 314.47,-128.5\"/>\n<polygon fill=\"black\" stroke=\"black\" points=\"314.37,-132 324.37,-128.5 314.37,-125 314.37,-132\"/>\n</g>\n<!-- 2707069086864 -->\n<g id=\"node11\" class=\"node\">\n<title>2707069086864</title>\n<polygon fill=\"none\" stroke=\"black\" points=\"1.5,-55.5 1.5,-91.5 196.5,-91.5 196.5,-55.5 1.5,-55.5\"/>\n<text text-anchor=\"middle\" x=\"16.25\" y=\"-68.7\" font-family=\"Times New Roman,serif\" font-size=\"14.00\">x1</text>\n<polyline fill=\"none\" stroke=\"black\" points=\"31,-56 31,-91.5\"/>\n<text text-anchor=\"middle\" x=\"70.88\" y=\"-68.7\" font-family=\"Times New Roman,serif\" font-size=\"14.00\">data 2.0000</text>\n<polyline fill=\"none\" stroke=\"black\" points=\"110.75,-56 110.75,-91.5\"/>\n<text text-anchor=\"middle\" x=\"153.62\" y=\"-68.7\" font-family=\"Times New Roman,serif\" font-size=\"14.00\">grad &#45;1.9042</text>\n</g>\n<!-- 2707069080912* -->\n<g id=\"node21\" class=\"node\">\n<title>2707069080912*</title>\n<ellipse fill=\"none\" stroke=\"black\" cx=\"261\" cy=\"-73.5\" rx=\"27\" ry=\"18\"/>\n<text text-anchor=\"middle\" x=\"261\" y=\"-68.45\" font-family=\"Times New Roman,serif\" font-size=\"14.00\">*</text>\n</g>\n<!-- 2707069086864&#45;&gt;2707069080912* -->\n<g id=\"edge14\" class=\"edge\">\n<title>2707069086864&#45;&gt;2707069080912*</title>\n<path fill=\"none\" stroke=\"black\" d=\"M196.76,-73.5C205.77,-73.5 214.47,-73.5 222.4,-73.5\"/>\n<polygon fill=\"black\" stroke=\"black\" points=\"222.25,-77 232.25,-73.5 222.25,-70 222.25,-77\"/>\n</g>\n<!-- 2707069089424 -->\n<g id=\"node12\" class=\"node\">\n<title>2707069089424</title>\n<polygon fill=\"none\" stroke=\"black\" points=\"0,-0.5 0,-36.5 198,-36.5 198,-0.5 0,-0.5\"/>\n<text text-anchor=\"middle\" x=\"16.25\" y=\"-13.7\" font-family=\"Times New Roman,serif\" font-size=\"14.00\">w1</text>\n<polyline fill=\"none\" stroke=\"black\" points=\"32.5,-1 32.5,-36.5\"/>\n<text text-anchor=\"middle\" x=\"74.62\" y=\"-13.7\" font-family=\"Times New Roman,serif\" font-size=\"14.00\">data &#45;3.0000</text>\n<polyline fill=\"none\" stroke=\"black\" points=\"116.75,-1 116.75,-36.5\"/>\n<text text-anchor=\"middle\" x=\"157.38\" y=\"-13.7\" font-family=\"Times New Roman,serif\" font-size=\"14.00\">grad 1.2695</text>\n</g>\n<!-- 2707069089424&#45;&gt;2707069080912* -->\n<g id=\"edge15\" class=\"edge\">\n<title>2707069089424&#45;&gt;2707069080912*</title>\n<path fill=\"none\" stroke=\"black\" d=\"M172.12,-36.99C180.9,-39.65 189.7,-42.5 198,-45.5 208.09,-49.14 218.82,-53.73 228.47,-58.12\"/>\n<polygon fill=\"black\" stroke=\"black\" points=\"226.9,-61.25 237.45,-62.31 229.86,-54.91 226.9,-61.25\"/>\n</g>\n<!-- 2707069080464 -->\n<g id=\"node13\" class=\"node\">\n<title>2707069080464</title>\n<polygon fill=\"none\" stroke=\"black\" points=\"2410.5,-112.5 2410.5,-148.5 2591.25,-148.5 2591.25,-112.5 2410.5,-112.5\"/>\n<text text-anchor=\"middle\" x=\"2420.38\" y=\"-125.7\" font-family=\"Times New Roman,serif\" font-size=\"14.00\"> </text>\n<polyline fill=\"none\" stroke=\"black\" points=\"2430.25,-113 2430.25,-148.5\"/>\n<text text-anchor=\"middle\" x=\"2470.12\" y=\"-125.7\" font-family=\"Times New Roman,serif\" font-size=\"14.00\">data 0.1978</text>\n<polyline fill=\"none\" stroke=\"black\" points=\"2510,-113 2510,-148.5\"/>\n<text text-anchor=\"middle\" x=\"2550.62\" y=\"-125.7\" font-family=\"Times New Roman,serif\" font-size=\"14.00\">grad 3.0552</text>\n</g>\n<!-- 2707069080464&#45;&gt;2707069084560* -->\n<g id=\"edge16\" class=\"edge\">\n<title>2707069080464&#45;&gt;2707069084560*</title>\n<path fill=\"none\" stroke=\"black\" d=\"M2591.68,-144.15C2600.29,-145.45 2608.64,-146.72 2616.28,-147.88\"/>\n<polygon fill=\"black\" stroke=\"black\" points=\"2615.71,-151.34 2626.12,-149.38 2616.76,-144.41 2615.71,-151.34\"/>\n</g>\n<!-- 2707069080464**&#45;1 -->\n<g id=\"node14\" class=\"node\">\n<title>2707069080464**&#45;1</title>\n<ellipse fill=\"none\" stroke=\"black\" cx=\"2284.12\" cy=\"-126.5\" rx=\"27.81\" ry=\"18\"/>\n<text text-anchor=\"middle\" x=\"2284.12\" y=\"-121.45\" font-family=\"Times New Roman,serif\" font-size=\"14.00\">**&#45;1</text>\n</g>\n<!-- 2707069080464**&#45;1&#45;&gt;2707069080464 -->\n<g id=\"edge5\" class=\"edge\">\n<title>2707069080464**&#45;1&#45;&gt;2707069080464</title>\n<path fill=\"none\" stroke=\"black\" d=\"M2312.32,-127.01C2334.43,-127.42 2367.08,-128.03 2398.97,-128.62\"/>\n<polygon fill=\"black\" stroke=\"black\" points=\"2398.62,-132.11 2408.68,-128.8 2398.75,-125.12 2398.62,-132.11\"/>\n</g>\n<!-- 2707069080976 -->\n<g id=\"node15\" class=\"node\">\n<title>2707069080976</title>\n<polygon fill=\"none\" stroke=\"black\" points=\"1661.25,-81.5 1661.25,-117.5 1846.5,-117.5 1846.5,-81.5 1661.25,-81.5\"/>\n<text text-anchor=\"middle\" x=\"1671.12\" y=\"-94.7\" font-family=\"Times New Roman,serif\" font-size=\"14.00\"> </text>\n<polyline fill=\"none\" stroke=\"black\" points=\"1681,-82 1681,-117.5\"/>\n<text text-anchor=\"middle\" x=\"1720.88\" y=\"-94.7\" font-family=\"Times New Roman,serif\" font-size=\"14.00\">data 1.0000</text>\n<polyline fill=\"none\" stroke=\"black\" points=\"1760.75,-82 1760.75,-117.5\"/>\n<text text-anchor=\"middle\" x=\"1803.62\" y=\"-94.7\" font-family=\"Times New Roman,serif\" font-size=\"14.00\">grad &#45;0.1196</text>\n</g>\n<!-- 2707069080976&#45;&gt;2707069081360+ -->\n<g id=\"edge27\" class=\"edge\">\n<title>2707069080976&#45;&gt;2707069081360+</title>\n<path fill=\"none\" stroke=\"black\" d=\"M1846.9,-115.67C1855.64,-117.21 1864.11,-118.7 1871.83,-120.05\"/>\n<polygon fill=\"black\" stroke=\"black\" points=\"1870.95,-123.45 1881.41,-121.74 1872.16,-116.56 1870.95,-123.45\"/>\n</g>\n<!-- 2707069081808 -->\n<g id=\"node16\" class=\"node\">\n<title>2707069081808</title>\n<polygon fill=\"none\" stroke=\"black\" points=\"1661.25,-191.5 1661.25,-227.5 1846.5,-227.5 1846.5,-191.5 1661.25,-191.5\"/>\n<text text-anchor=\"middle\" x=\"1671.12\" y=\"-204.7\" font-family=\"Times New Roman,serif\" font-size=\"14.00\"> </text>\n<polyline fill=\"none\" stroke=\"black\" points=\"1681,-192 1681,-227.5\"/>\n<text text-anchor=\"middle\" x=\"1723.12\" y=\"-204.7\" font-family=\"Times New Roman,serif\" font-size=\"14.00\">data &#45;1.0000</text>\n<polyline fill=\"none\" stroke=\"black\" points=\"1765.25,-192 1765.25,-227.5\"/>\n<text text-anchor=\"middle\" x=\"1805.88\" y=\"-204.7\" font-family=\"Times New Roman,serif\" font-size=\"14.00\">grad 0.1978</text>\n</g>\n<!-- 2707069081808&#45;&gt;2707069078032+ -->\n<g id=\"edge21\" class=\"edge\">\n<title>2707069081808&#45;&gt;2707069078032+</title>\n<path fill=\"none\" stroke=\"black\" d=\"M1846.9,-192.73C1855.64,-191.13 1864.11,-189.59 1871.83,-188.18\"/>\n<polygon fill=\"black\" stroke=\"black\" points=\"1872.2,-191.67 1881.41,-186.44 1870.94,-184.79 1872.2,-191.67\"/>\n</g>\n<!-- 2707069091600 -->\n<g id=\"node17\" class=\"node\">\n<title>2707069091600</title>\n<polygon fill=\"none\" stroke=\"black\" points=\"3.75,-165.5 3.75,-201.5 194.25,-201.5 194.25,-165.5 3.75,-165.5\"/>\n<text text-anchor=\"middle\" x=\"18.5\" y=\"-178.7\" font-family=\"Times New Roman,serif\" font-size=\"14.00\">x2</text>\n<polyline fill=\"none\" stroke=\"black\" points=\"33.25,-166 33.25,-201.5\"/>\n<text text-anchor=\"middle\" x=\"73.12\" y=\"-178.7\" font-family=\"Times New Roman,serif\" font-size=\"14.00\">data 0.0000</text>\n<polyline fill=\"none\" stroke=\"black\" points=\"113,-166 113,-201.5\"/>\n<text text-anchor=\"middle\" x=\"153.62\" y=\"-178.7\" font-family=\"Times New Roman,serif\" font-size=\"14.00\">grad 0.6347</text>\n</g>\n<!-- 2707069091600&#45;&gt;2707069080144* -->\n<g id=\"edge12\" class=\"edge\">\n<title>2707069091600&#45;&gt;2707069080144*</title>\n<path fill=\"none\" stroke=\"black\" d=\"M172.12,-165.01C180.9,-162.35 189.7,-159.5 198,-156.5 208.09,-152.86 218.82,-148.27 228.47,-143.88\"/>\n<polygon fill=\"black\" stroke=\"black\" points=\"229.86,-147.09 237.45,-139.69 226.9,-140.75 229.86,-147.09\"/>\n</g>\n<!-- 2707069081360 -->\n<g id=\"node18\" class=\"node\">\n<title>2707069081360</title>\n<polygon fill=\"none\" stroke=\"black\" points=\"1972.5,-108.5 1972.5,-144.5 2157.75,-144.5 2157.75,-108.5 1972.5,-108.5\"/>\n<text text-anchor=\"middle\" x=\"1982.38\" y=\"-121.7\" font-family=\"Times New Roman,serif\" font-size=\"14.00\"> </text>\n<polyline fill=\"none\" stroke=\"black\" points=\"1992.25,-109 1992.25,-144.5\"/>\n<text text-anchor=\"middle\" x=\"2032.12\" y=\"-121.7\" font-family=\"Times New Roman,serif\" font-size=\"14.00\">data 5.0552</text>\n<polyline fill=\"none\" stroke=\"black\" points=\"2072,-109 2072,-144.5\"/>\n<text text-anchor=\"middle\" x=\"2114.88\" y=\"-121.7\" font-family=\"Times New Roman,serif\" font-size=\"14.00\">grad &#45;0.1196</text>\n</g>\n<!-- 2707069081360&#45;&gt;2707069080464**&#45;1 -->\n<g id=\"edge11\" class=\"edge\">\n<title>2707069081360&#45;&gt;2707069080464**&#45;1</title>\n<path fill=\"none\" stroke=\"black\" d=\"M2158.15,-126.5C2188.39,-126.5 2220.38,-126.5 2244.42,-126.5\"/>\n<polygon fill=\"black\" stroke=\"black\" points=\"2244.37,-130 2254.37,-126.5 2244.37,-123 2244.37,-130\"/>\n</g>\n<!-- 2707069081360+&#45;&gt;2707069081360 -->\n<g id=\"edge6\" class=\"edge\">\n<title>2707069081360+&#45;&gt;2707069081360</title>\n<path fill=\"none\" stroke=\"black\" d=\"M1936.91,-126.5C1943.95,-126.5 1952,-126.5 1960.55,-126.5\"/>\n<polygon fill=\"black\" stroke=\"black\" points=\"1960.54,-130 1970.54,-126.5 1960.54,-123 1960.54,-130\"/>\n</g>\n<!-- 2707069080912 -->\n<g id=\"node20\" class=\"node\">\n<title>2707069080912</title>\n<polygon fill=\"none\" stroke=\"black\" points=\"324,-55.5 324,-91.5 535.5,-91.5 535.5,-55.5 324,-55.5\"/>\n<text text-anchor=\"middle\" x=\"347\" y=\"-68.7\" font-family=\"Times New Roman,serif\" font-size=\"14.00\">x1w1</text>\n<polyline fill=\"none\" stroke=\"black\" points=\"370,-56 370,-91.5\"/>\n<text text-anchor=\"middle\" x=\"412.12\" y=\"-68.7\" font-family=\"Times New Roman,serif\" font-size=\"14.00\">data &#45;6.0000</text>\n<polyline fill=\"none\" stroke=\"black\" points=\"454.25,-56 454.25,-91.5\"/>\n<text text-anchor=\"middle\" x=\"494.88\" y=\"-68.7\" font-family=\"Times New Roman,serif\" font-size=\"14.00\">grad 0.6347</text>\n</g>\n<!-- 2707069080912&#45;&gt;2707069034064+ -->\n<g id=\"edge17\" class=\"edge\">\n<title>2707069080912&#45;&gt;2707069034064+</title>\n<path fill=\"none\" stroke=\"black\" d=\"M535.88,-90.52C544.59,-91.93 552.96,-93.29 560.56,-94.52\"/>\n<polygon fill=\"black\" stroke=\"black\" points=\"559.91,-97.96 570.34,-96.1 561.03,-91.05 559.91,-97.96\"/>\n</g>\n<!-- 2707069080912*&#45;&gt;2707069080912 -->\n<g id=\"edge7\" class=\"edge\">\n<title>2707069080912*&#45;&gt;2707069080912</title>\n<path fill=\"none\" stroke=\"black\" d=\"M288.42,-73.5C295.52,-73.5 303.68,-73.5 312.42,-73.5\"/>\n<polygon fill=\"black\" stroke=\"black\" points=\"312.24,-77 322.24,-73.5 312.24,-70 312.24,-77\"/>\n</g>\n<!-- 2707069084560 -->\n<g id=\"node22\" class=\"node\">\n<title>2707069084560</title>\n<polygon fill=\"none\" stroke=\"black\" points=\"2717.25,-135.5 2717.25,-171.5 2901,-171.5 2901,-135.5 2717.25,-135.5\"/>\n<text text-anchor=\"middle\" x=\"2728.62\" y=\"-148.7\" font-family=\"Times New Roman,serif\" font-size=\"14.00\">o</text>\n<polyline fill=\"none\" stroke=\"black\" points=\"2740,-136 2740,-171.5\"/>\n<text text-anchor=\"middle\" x=\"2779.88\" y=\"-148.7\" font-family=\"Times New Roman,serif\" font-size=\"14.00\">data 0.6044</text>\n<polyline fill=\"none\" stroke=\"black\" points=\"2819.75,-136 2819.75,-171.5\"/>\n<text text-anchor=\"middle\" x=\"2860.38\" y=\"-148.7\" font-family=\"Times New Roman,serif\" font-size=\"14.00\">grad 1.0000</text>\n</g>\n<!-- 2707069084560*&#45;&gt;2707069084560 -->\n<g id=\"edge8\" class=\"edge\">\n<title>2707069084560*&#45;&gt;2707069084560</title>\n<path fill=\"none\" stroke=\"black\" d=\"M2681.53,-153.5C2688.67,-153.5 2696.86,-153.5 2705.57,-153.5\"/>\n<polygon fill=\"black\" stroke=\"black\" points=\"2705.31,-157 2715.31,-153.5 2705.31,-150 2705.31,-157\"/>\n</g>\n<!-- 2707069090192 -->\n<g id=\"node24\" class=\"node\">\n<title>2707069090192</title>\n<polygon fill=\"none\" stroke=\"black\" points=\"1044.75,-109.5 1044.75,-145.5 1228.5,-145.5 1228.5,-109.5 1044.75,-109.5\"/>\n<text text-anchor=\"middle\" x=\"1056.12\" y=\"-122.7\" font-family=\"Times New Roman,serif\" font-size=\"14.00\">n</text>\n<polyline fill=\"none\" stroke=\"black\" points=\"1067.5,-110 1067.5,-145.5\"/>\n<text text-anchor=\"middle\" x=\"1107.38\" y=\"-122.7\" font-family=\"Times New Roman,serif\" font-size=\"14.00\">data 0.7000</text>\n<polyline fill=\"none\" stroke=\"black\" points=\"1147.25,-110 1147.25,-145.5\"/>\n<text text-anchor=\"middle\" x=\"1187.88\" y=\"-122.7\" font-family=\"Times New Roman,serif\" font-size=\"14.00\">grad 0.6347</text>\n</g>\n<!-- 2707069090192&#45;&gt;2707069080016* -->\n<g id=\"edge25\" class=\"edge\">\n<title>2707069090192&#45;&gt;2707069080016*</title>\n<path fill=\"none\" stroke=\"black\" d=\"M1228.76,-143.6C1237.59,-145.16 1246.15,-146.67 1253.94,-148.04\"/>\n<polygon fill=\"black\" stroke=\"black\" points=\"1253.17,-151.46 1263.63,-149.75 1254.39,-144.57 1253.17,-151.46\"/>\n</g>\n<!-- 2707069090192+&#45;&gt;2707069090192 -->\n<g id=\"edge9\" class=\"edge\">\n<title>2707069090192+&#45;&gt;2707069090192</title>\n<path fill=\"none\" stroke=\"black\" d=\"M1009.03,-127.5C1016.17,-127.5 1024.36,-127.5 1033.07,-127.5\"/>\n<polygon fill=\"black\" stroke=\"black\" points=\"1032.81,-131 1042.81,-127.5 1032.81,-124 1032.81,-131\"/>\n</g>\n<!-- 2707069090704 -->\n<g id=\"node26\" class=\"node\">\n<title>2707069090704</title>\n<polygon fill=\"none\" stroke=\"black\" points=\"2.25,-110.5 2.25,-146.5 195.75,-146.5 195.75,-110.5 2.25,-110.5\"/>\n<text text-anchor=\"middle\" x=\"18.5\" y=\"-123.7\" font-family=\"Times New Roman,serif\" font-size=\"14.00\">w2</text>\n<polyline fill=\"none\" stroke=\"black\" points=\"34.75,-111 34.75,-146.5\"/>\n<text text-anchor=\"middle\" x=\"74.62\" y=\"-123.7\" font-family=\"Times New Roman,serif\" font-size=\"14.00\">data 1.0000</text>\n<polyline fill=\"none\" stroke=\"black\" points=\"114.5,-111 114.5,-146.5\"/>\n<text text-anchor=\"middle\" x=\"155.12\" y=\"-123.7\" font-family=\"Times New Roman,serif\" font-size=\"14.00\">grad 0.0000</text>\n</g>\n<!-- 2707069090704&#45;&gt;2707069080144* -->\n<g id=\"edge13\" class=\"edge\">\n<title>2707069090704&#45;&gt;2707069080144*</title>\n<path fill=\"none\" stroke=\"black\" d=\"M195.84,-128.5C205.14,-128.5 214.15,-128.5 222.32,-128.5\"/>\n<polygon fill=\"black\" stroke=\"black\" points=\"222.13,-132 232.13,-128.5 222.13,-125 222.13,-132\"/>\n</g>\n<!-- 2707069080016 -->\n<g id=\"node27\" class=\"node\">\n<title>2707069080016</title>\n<polygon fill=\"none\" stroke=\"black\" points=\"1354.5,-136.5 1354.5,-172.5 1535.25,-172.5 1535.25,-136.5 1354.5,-136.5\"/>\n<text text-anchor=\"middle\" x=\"1364.38\" y=\"-149.7\" font-family=\"Times New Roman,serif\" font-size=\"14.00\"> </text>\n<polyline fill=\"none\" stroke=\"black\" points=\"1374.25,-137 1374.25,-172.5\"/>\n<text text-anchor=\"middle\" x=\"1414.12\" y=\"-149.7\" font-family=\"Times New Roman,serif\" font-size=\"14.00\">data 1.4000</text>\n<polyline fill=\"none\" stroke=\"black\" points=\"1454,-137 1454,-172.5\"/>\n<text text-anchor=\"middle\" x=\"1494.62\" y=\"-149.7\" font-family=\"Times New Roman,serif\" font-size=\"14.00\">grad 0.3174</text>\n</g>\n<!-- 2707069080016&#45;&gt;2707069084240exp -->\n<g id=\"edge23\" class=\"edge\">\n<title>2707069080016&#45;&gt;2707069084240exp</title>\n<path fill=\"none\" stroke=\"black\" d=\"M1535.68,-154.5C1544.02,-154.5 1552.12,-154.5 1559.56,-154.5\"/>\n<polygon fill=\"black\" stroke=\"black\" points=\"1559.5,-158 1569.5,-154.5 1559.5,-151 1559.5,-158\"/>\n</g>\n<!-- 2707069080016*&#45;&gt;2707069080016 -->\n<g id=\"edge10\" class=\"edge\">\n<title>2707069080016*&#45;&gt;2707069080016</title>\n<path fill=\"none\" stroke=\"black\" d=\"M1318.87,-154.5C1326.01,-154.5 1334.2,-154.5 1342.89,-154.5\"/>\n<polygon fill=\"black\" stroke=\"black\" points=\"1342.61,-158 1352.61,-154.5 1342.61,-151 1342.61,-158\"/>\n</g>\n</g>\n</svg>\n",
      "text/plain": [
       "<graphviz.graphs.Digraph at 0x27649e42110>"
      ]
     },
     "execution_count": 87,
     "metadata": {},
     "output_type": "execute_result"
    }
   ],
   "execution_count": 87
  },
  {
   "metadata": {
    "ExecuteTime": {
     "end_time": "2025-02-02T13:34:31.693968Z",
     "start_time": "2025-02-02T13:34:31.690514Z"
    }
   },
   "cell_type": "code",
   "source": "import torch",
   "id": "a13415c059cd7675",
   "outputs": [],
   "execution_count": 88
  },
  {
   "metadata": {
    "ExecuteTime": {
     "end_time": "2025-02-02T13:34:32.337160Z",
     "start_time": "2025-02-02T13:34:32.331822Z"
    }
   },
   "cell_type": "code",
   "source": [
    "x1 = torch.tensor([2.0], requires_grad=True)\n",
    "x2 = torch.tensor([0.0], requires_grad=True)\n",
    "w1 = torch.tensor([-3.0], requires_grad=True)\n",
    "w2 = torch.tensor([1.0], requires_grad=True)\n",
    "b = torch.tensor([6.7], requires_grad=True)\n",
    "n = x1*w1 + x2*w2 + b\n",
    "o = torch.tanh(n)\n",
    "print(o.data.item())\n",
    "o.backward()\n",
    "print(x1.grad.item())\n",
    "print(x2.grad.item())\n",
    "print(w1.grad.item())\n",
    "print(w2.grad.item())"
   ],
   "id": "dfe37e25cd6958e6",
   "outputs": [
    {
     "name": "stdout",
     "output_type": "stream",
     "text": [
      "0.6043676733970642\n",
      "-1.9042192697525024\n",
      "0.6347397565841675\n",
      "1.269479513168335\n",
      "0.0\n"
     ]
    }
   ],
   "execution_count": 89
  },
  {
   "metadata": {
    "ExecuteTime": {
     "end_time": "2025-02-02T13:34:32.901107Z",
     "start_time": "2025-02-02T13:34:32.897560Z"
    }
   },
   "cell_type": "code",
   "source": "import random",
   "id": "aa5558fab197d22c",
   "outputs": [],
   "execution_count": 90
  },
  {
   "metadata": {
    "ExecuteTime": {
     "end_time": "2025-02-02T13:49:27.501095Z",
     "start_time": "2025-02-02T13:49:27.493636Z"
    }
   },
   "cell_type": "code",
   "source": [
    "class Neuron:\n",
    "    def __init__(self, nin):\n",
    "        self.w = [Value(random.uniform(-1, 1)) for _ in range(nin)]\n",
    "        self.b = Value(random.uniform(-1, 1))\n",
    "\n",
    "    def __call__(self, x):\n",
    "        act = sum((wi*xi for wi, xi in zip(self.w, x)), self.b)\n",
    "        out = act.tanh()\n",
    "        return out\n",
    "\n",
    "    def parameters(self):\n",
    "        return self.w + [self.b]\n",
    "\n",
    "class Layer:\n",
    "    def __init__(self, nin, nout):\n",
    "        self.neurons = [Neuron(nin) for _ in range(nout)]\n",
    "\n",
    "    def __call__(self, x):\n",
    "        outs = [neuron(x) for neuron in self.neurons]\n",
    "        return outs[0] if len(outs) == 1 else outs\n",
    "\n",
    "    def parameters(self):\n",
    "        return [p for n in self.neurons for p in n.parameters()]\n",
    "\n",
    "class MLP:\n",
    "    def __init__(self, nin, nouts):\n",
    "        self.layers = [Layer(nin, nouts[0])]\n",
    "        self.layers += [Layer(nouts[i], nouts[i+1]) for i in range(len(nouts)-1)]\n",
    "\n",
    "    def __call__(self, x):\n",
    "        for layer in self.layers:\n",
    "            x = layer(x)\n",
    "        return x\n",
    "\n",
    "    def parameters(self):\n",
    "        return [p for layer in self.layers for p in layer.parameters()]"
   ],
   "id": "ccf96ede188f18b2",
   "outputs": [],
   "execution_count": 133
  },
  {
   "metadata": {
    "ExecuteTime": {
     "end_time": "2025-02-02T13:49:27.872298Z",
     "start_time": "2025-02-02T13:49:27.867785Z"
    }
   },
   "cell_type": "code",
   "source": [
    "\n",
    "x = [2.0, 3.0, -1.0]\n",
    "n = MLP(3, [4, 4, 1])\n",
    "n(x)"
   ],
   "id": "f915270ac6f6c4a8",
   "outputs": [
    {
     "data": {
      "text/plain": [
       "Value(data=-0.19546522749798034)"
      ]
     },
     "execution_count": 134,
     "metadata": {},
     "output_type": "execute_result"
    }
   ],
   "execution_count": 134
  },
  {
   "metadata": {
    "ExecuteTime": {
     "end_time": "2025-02-02T13:49:28.828599Z",
     "start_time": "2025-02-02T13:49:28.823356Z"
    }
   },
   "cell_type": "code",
   "source": "n.parameters()",
   "id": "b5a8285bb4b2423c",
   "outputs": [
    {
     "data": {
      "text/plain": [
       "[Value(data=-0.21577579807562053),\n",
       " Value(data=-0.17949831458976995),\n",
       " Value(data=-0.6139060813254467),\n",
       " Value(data=-0.6066075377494426),\n",
       " Value(data=-0.10935794206205318),\n",
       " Value(data=0.9412781107488228),\n",
       " Value(data=-0.6077892674833396),\n",
       " Value(data=0.5630367126960931),\n",
       " Value(data=0.778593202409039),\n",
       " Value(data=0.13945108287403896),\n",
       " Value(data=-0.9799649229761163),\n",
       " Value(data=0.3191876203283508),\n",
       " Value(data=-0.10309539627557807),\n",
       " Value(data=-0.5216093426632737),\n",
       " Value(data=0.610208182159335),\n",
       " Value(data=0.6830961635419597),\n",
       " Value(data=-0.9890174320739109),\n",
       " Value(data=0.47852136372756826),\n",
       " Value(data=0.12780553985360665),\n",
       " Value(data=0.615391356179509),\n",
       " Value(data=-0.7635950213028733),\n",
       " Value(data=-0.8299210942246182),\n",
       " Value(data=-0.604657466701308),\n",
       " Value(data=-0.1654165112314161),\n",
       " Value(data=0.7152714107355604),\n",
       " Value(data=-0.3520424837262024),\n",
       " Value(data=0.1244351432844717),\n",
       " Value(data=-0.527514512462606),\n",
       " Value(data=0.16343803484396657),\n",
       " Value(data=-0.5829355135073191),\n",
       " Value(data=0.20612726581203833),\n",
       " Value(data=0.7955422350107881),\n",
       " Value(data=-0.22408453173499665),\n",
       " Value(data=0.9112689695906464),\n",
       " Value(data=0.8163609869289423),\n",
       " Value(data=-0.9668489779253022),\n",
       " Value(data=0.7877157313780168),\n",
       " Value(data=-0.9108334737189359),\n",
       " Value(data=-0.5055497522905081),\n",
       " Value(data=0.1826141652334714),\n",
       " Value(data=-0.6379721822612394)]"
      ]
     },
     "execution_count": 135,
     "metadata": {},
     "output_type": "execute_result"
    }
   ],
   "execution_count": 135
  },
  {
   "metadata": {
    "ExecuteTime": {
     "end_time": "2025-02-02T14:02:31.985764Z",
     "start_time": "2025-02-02T14:02:31.922729Z"
    }
   },
   "cell_type": "code",
   "source": [
    "xs = [\n",
    "    [2.0, 3.0, -1.0],\n",
    "    [1.0, -2.0, 0.0],\n",
    "    [-1.0, 1.0, 2.0],\n",
    "    [0.0, 2.0, -2.0]\n",
    "]\n",
    "ys = [1.0, -1.0, 1.0, -1.0]\n",
    "ypred = [n(x) for x in xs]\n",
    "ypred"
   ],
   "id": "8ec64d8d67bc986e",
   "outputs": [
    {
     "data": {
      "text/plain": [
       "[Value(data=0.9998768498752332),\n",
       " Value(data=-0.9999984337069421),\n",
       " Value(data=0.9999999797625496),\n",
       " Value(data=-0.9999519703684865)]"
      ]
     },
     "execution_count": 160,
     "metadata": {},
     "output_type": "execute_result"
    }
   ],
   "execution_count": 160
  },
  {
   "metadata": {
    "ExecuteTime": {
     "end_time": "2025-02-02T14:03:06.803341Z",
     "start_time": "2025-02-02T14:03:06.792409Z"
    }
   },
   "cell_type": "code",
   "source": [
    "for k in range(10):\n",
    "    ypred = [n(x) for x in xs]\n",
    "    loss = sum((yi - ypi)**2 for yi, ypi in zip(ys, ypred))\n",
    "\n",
    "    for p in n.parameters():\n",
    "        p.grad = 0.0\n",
    "    loss.backward()\n",
    "\n",
    "    for p in n.parameters():\n",
    "        p.data += -0.01 * p.grad\n",
    "\n",
    "    print(k, loss.data)"
   ],
   "id": "91d2b9dd5931776",
   "outputs": [
    {
     "name": "stdout",
     "output_type": "stream",
     "text": [
      "0 1.7475027041654488e-08\n",
      "1 1.7475004504558065e-08\n",
      "2 1.747498196747988e-08\n",
      "3 1.7474959430544564e-08\n",
      "4 1.7474936893608042e-08\n",
      "5 1.7474914356771778e-08\n",
      "6 1.7474891819978306e-08\n",
      "7 1.7474869283312437e-08\n",
      "8 1.7474846746707437e-08\n",
      "9 1.7474824210128548e-08\n"
     ]
    }
   ],
   "execution_count": 162
  },
  {
   "metadata": {
    "ExecuteTime": {
     "end_time": "2025-02-02T13:49:29.856440Z",
     "start_time": "2025-02-02T13:49:29.852612Z"
    }
   },
   "cell_type": "code",
   "source": [
    "loss = sum((yi - ypi)**2 for yi, ypi in zip(ys, ypred))\n",
    "loss"
   ],
   "id": "158255303e7f7c0e",
   "outputs": [
    {
     "data": {
      "text/plain": [
       "Value(data=4.101679971054561)"
      ]
     },
     "execution_count": 137,
     "metadata": {},
     "output_type": "execute_result"
    }
   ],
   "execution_count": 137
  },
  {
   "metadata": {
    "ExecuteTime": {
     "end_time": "2025-02-02T13:51:37.385423Z",
     "start_time": "2025-02-02T13:51:37.382153Z"
    }
   },
   "cell_type": "code",
   "source": "loss.backward()",
   "id": "5c63ac477a73f711",
   "outputs": [],
   "execution_count": 144
  },
  {
   "metadata": {
    "ExecuteTime": {
     "end_time": "2025-02-02T13:49:31.173224Z",
     "start_time": "2025-02-02T13:49:31.168982Z"
    }
   },
   "cell_type": "code",
   "source": "n.layers[0].neurons[0].w[0].grad",
   "id": "235f739e573a9719",
   "outputs": [
    {
     "data": {
      "text/plain": [
       "1.127817437034986"
      ]
     },
     "execution_count": 139,
     "metadata": {},
     "output_type": "execute_result"
    }
   ],
   "execution_count": 139
  },
  {
   "metadata": {
    "ExecuteTime": {
     "end_time": "2025-02-02T13:49:32.342609Z",
     "start_time": "2025-02-02T13:49:32.338370Z"
    }
   },
   "cell_type": "code",
   "source": "n.layers[0].neurons[0].w[0].data",
   "id": "a947f344e8b503b8",
   "outputs": [
    {
     "data": {
      "text/plain": [
       "-0.21577579807562053"
      ]
     },
     "execution_count": 140,
     "metadata": {},
     "output_type": "execute_result"
    }
   ],
   "execution_count": 140
  },
  {
   "metadata": {
    "ExecuteTime": {
     "end_time": "2025-02-02T13:51:42.566269Z",
     "start_time": "2025-02-02T13:51:42.562883Z"
    }
   },
   "cell_type": "code",
   "source": [
    "for p in n.parameters():\n",
    "    p.data += -0.01 * p.grad"
   ],
   "id": "f255c3f851fdc555",
   "outputs": [],
   "execution_count": 145
  },
  {
   "metadata": {
    "ExecuteTime": {
     "end_time": "2025-02-02T13:49:38.371406Z",
     "start_time": "2025-02-02T13:49:38.366526Z"
    }
   },
   "cell_type": "code",
   "source": "n.layers[0].neurons[0].w[0].data",
   "id": "16f4243f8131b654",
   "outputs": [
    {
     "data": {
      "text/plain": [
       "-0.2270539724459704"
      ]
     },
     "execution_count": 142,
     "metadata": {},
     "output_type": "execute_result"
    }
   ],
   "execution_count": 142
  },
  {
   "metadata": {
    "ExecuteTime": {
     "end_time": "2025-02-02T13:51:01.674531Z",
     "start_time": "2025-02-02T13:51:01.668789Z"
    }
   },
   "cell_type": "code",
   "source": [
    "ypred = [n(x) for x in xs]\n",
    "loss = sum((yi - ypi)**2 for yi, ypi in zip(ys, ypred))\n",
    "loss"
   ],
   "id": "8fe6212a569dc8d8",
   "outputs": [
    {
     "data": {
      "text/plain": [
       "Value(data=3.3898181587648133)"
      ]
     },
     "execution_count": 143,
     "metadata": {},
     "output_type": "execute_result"
    }
   ],
   "execution_count": 143
  },
  {
   "metadata": {
    "ExecuteTime": {
     "end_time": "2025-02-02T13:51:48.973557Z",
     "start_time": "2025-02-02T13:51:48.969184Z"
    }
   },
   "cell_type": "code",
   "source": [
    "ypred = [n(x) for x in xs]\n",
    "loss = sum((yi - ypi)**2 for yi, ypi in zip(ys, ypred))\n",
    "loss"
   ],
   "id": "6863c64776f1f415",
   "outputs": [
    {
     "data": {
      "text/plain": [
       "Value(data=2.1660443691637745)"
      ]
     },
     "execution_count": 146,
     "metadata": {},
     "output_type": "execute_result"
    }
   ],
   "execution_count": 146
  },
  {
   "metadata": {
    "ExecuteTime": {
     "end_time": "2025-02-02T13:56:59.475215Z",
     "start_time": "2025-02-02T13:56:59.470466Z"
    }
   },
   "cell_type": "code",
   "source": [
    "loss.backward()\n",
    "for p in n.parameters():\n",
    "    p.data += -0.01 * p.grad\n",
    "ypred = [n(x) for x in xs]\n",
    "\n",
    "loss = sum((yi - ypi)**2 for yi, ypi in zip(ys, ypred))\n",
    "print(ypred)\n",
    "print(loss)"
   ],
   "id": "f134d4ef58a460d4",
   "outputs": [
    {
     "name": "stdout",
     "output_type": "stream",
     "text": [
      "[Value(data=0.9905089747997394), Value(data=-0.999172721704675), Value(data=0.9999486895793341), Value(data=-0.9828557201936745)]\n",
      "Value(data=0.0003846929115667461)\n"
     ]
    }
   ],
   "execution_count": 157
  }
 ],
 "metadata": {
  "kernelspec": {
   "display_name": "Python 3",
   "language": "python",
   "name": "python3"
  },
  "language_info": {
   "codemirror_mode": {
    "name": "ipython",
    "version": 2
   },
   "file_extension": ".py",
   "mimetype": "text/x-python",
   "name": "python",
   "nbconvert_exporter": "python",
   "pygments_lexer": "ipython2",
   "version": "2.7.6"
  }
 },
 "nbformat": 4,
 "nbformat_minor": 5
}
